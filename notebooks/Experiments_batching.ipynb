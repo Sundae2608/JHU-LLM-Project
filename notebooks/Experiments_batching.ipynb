{
 "cells": [
  {
   "cell_type": "code",
   "execution_count": 16,
   "metadata": {},
   "outputs": [],
   "source": [
    "import openai  # for making OpenAI API requests\n",
    "from datasets import load_dataset\n",
    "import tiktoken\n",
    "import numpy as np\n",
    "import re\n",
    "\n",
    "openai.api_key = 'API KEY'"
   ]
  },
  {
   "cell_type": "code",
   "execution_count": 27,
   "metadata": {},
   "outputs": [],
   "source": [
    "def num_tokens_from_string(string: str, encoding_name: str) -> int:\n",
    "    encoding = tiktoken.get_encoding(encoding_name)\n",
    "    num_tokens = len(encoding.encode(string))\n",
    "    return num_tokens\n",
    "\n",
    "# Encoding name\tOpenAI models\n",
    "\n",
    "# cl100k_base:\tgpt-4, gpt-3.5-turbo, text-embedding-ada-002\n",
    "# p50k_base:\ttext-davinci-003, text-davinci-002\n",
    "# r50k_base:\tGPT-3 models (text-curie-001, text-babbage-001, text-ada-001, davinci, curie, babbage, ada)\n",
    "\n",
    "#print(num_tokens_from_string(\"Hello world, let's test tiktoken.\", \"cl100k_base\"))"
   ]
  },
  {
   "cell_type": "code",
   "execution_count": 28,
   "metadata": {},
   "outputs": [],
   "source": [
    "dataset = load_dataset(\"gsm8k\", 'main')"
   ]
  },
  {
   "cell_type": "code",
   "execution_count": 36,
   "metadata": {},
   "outputs": [],
   "source": [
    "thinking_styles = np.array([\n",
    "    'Let’s think step by step.',  # Original\n",
    "    'Let’s make a step by step plan and implement it with good notion and explanation',  # Original\n",
    "    'How could I devise an experiment to help solve the problem?',  # Original\n",
    "    'How can I simplify the problem so that it is easier to solve?',  # Original\n",
    "    'Try creative thinking, generate innovative and out-of-the-box ideas to solve the problem. Explore unconventional solutions, thinking beyond traditional boundaries, and encouraging imagination and originality.',  # Original\n",
    "    'Critically evaluate the given information. Are there any biases or assumptions that might be influencing the interpretation?',  # Critical Thinking\n",
    "    'Imagine a similar situation in a different time or place. How might it have been approached historically?',  # Historical Thinking\n",
    "    'Project the outcomes into the future. If we follow this path, where might we end up in 10 years?',  # Futuristic Thinking\n",
    "    'Put yourself in the shoes of all the stakeholders involved. How would they feel about this situation?',  # Empathetic Thinking\n",
    "    'Consider how the different elements of this problem interact with one another. Can we identify any feedback loops or systemic issues?',  # Systems Thinking\n",
    "    'Reflect on the ethical dimensions of this challenge. Are there moral principles that should guide our decision-making?',  # Ethical Thinking\n",
    "    'Let’s compare this situation to a similar one in a different context. Are there lessons we can draw from that comparison?',  # Comparative Thinking\n",
    "    'Consider the problem holistically. How do all the pieces fit together in the larger context?',  # Holistic Thinking\n",
    "    'Trust your gut feeling on this. What does your intuition tell you about the best approach?',  # Intuitive Thinking\n",
    "    'Examine the conflicting viewpoints around this issue. Can we find a middle ground or synthesis?',  # Dialectical Thinking\n",
    "])\n",
    "\n",
    "prompt_instruction = np.array([\n",
    "    'Solve the math word problem, giving your answer as an arabic numeral',  \n",
    "    'Solve the problem by explaining why systemic or structural issues would not be the cause of the issue.', \n",
    "    'Generate the answer to a word problem and write it as a number.',  \n",
    "    'Break down the math problem step-by-step and provide the final numeric solution.', \n",
    "    'Apply fundamental mathematical principles to solve the problem, and provide a clear numeric answer.',\n",
    "    'Use visual aids like diagrams or graphs if necessary to better illustrate the process of solving the problem.',\n",
    "    'Consider using an algorithm or formula that is most efficient in solving this type of math problem. Provide the final answer as a number.',\n",
    "    'Discuss the rationale behind each step you take in solving the problem, ensuring the explanation is clear and concise.',\n",
    "    'If applicable, use real-world examples to contextualize the math problem, and solve it providing a numeric answer.',\n",
    "    'Detail the mathematical concepts or theories utilized in solving the problem, and conclude with a numeric solution.',\n",
    "    'Present multiple methods to solve the problem if possible, concluding each with a clear numeric answer.',\n",
    "    'Ensure accuracy by double-checking calculations and logic used in solving the problem, and present the final numeric solution.',\n",
    "    'Adapt a teaching approach, explaining the problem and solution as if educating someone with basic mathematical knowledge.',\n",
    "])\n",
    "\n",
    "prompt_mutators = np.array([\n",
    "    'Generate a prompt mutant that introduces an element of suspense or intrigue.',  \n",
    "    'What do people who are good at creative thinking normally do with this kind of mutation question?',  \n",
    "    'Change the following instruction being as brief as possible',  \n",
    "    'Modify the prompt to emphasize the importance of collaboration or teamwork in the process.',\n",
    "    'Rework the instruction to appeal to someone with a background in arts or humanities.',\n",
    "    'Twist the prompt to challenge someone with advanced expertise in the subject.',\n",
    "    'Adjust the instruction to encourage out-of-the-box thinking or a novel approach.',\n",
    "    'Refine the prompt to make it sound like a riddle or puzzle to be solved.',\n",
    "    'Adapt the original instruction to cater to a younger audience or beginners.',\n",
    "    'Convert the prompt to make it sound like a quest or mission.',\n",
    "    'Reimagine the instruction as if it is a call to action for a global challenge or competition.',\n",
    "    'Infuse humor or sarcasm into the original prompt.'\n",
    "])\n"
   ]
  },
  {
   "cell_type": "code",
   "execution_count": 37,
   "metadata": {},
   "outputs": [],
   "source": [
    "\n",
    "def create_prompt_examples(indexes, dataset):\n",
    "\n",
    "    prompt_examples_str = 'These are some examples of similar problems and how to solve them: \\n'\n",
    "\n",
    "    for index in indexes:\n",
    "\n",
    "        prompt_examples_str = prompt_examples_str + 'Q: ' + dataset['train'][int(index)]['question'] + '\\nA: ' + dataset['train'][int(index)]['answer'] + '\\n'\n",
    "\n",
    "    return prompt_examples_str\n",
    "\n",
    "\n",
    "def create_population(thinking_styles, instructions, prompt_examples, dataset, test_indexes):\n",
    "\n",
    "    population =  []\n",
    "\n",
    "    problems = dataset['test'][test_indexes]['question']\n",
    "\n",
    "    answers = dataset['test'][test_indexes]['answer']\n",
    "\n",
    "    for i in range(len(instructions)):\n",
    "\n",
    "        prompt = thinking_styles[i] + '\\n' + instructions[i] + '\\n' + prompt_examples + '\\nQ: ' + problems[i]\n",
    "\n",
    "        population.append(prompt)\n",
    "\n",
    "\n",
    "    return population, answers\n",
    "\n",
    "def mutate_instructions1(instructions, mutation_prompts, indexes_to_mutate, indexes_good_prompts):\n",
    "\n",
    "    instructions_for_mutation, new_instructions = [], np.copy(instructions)\n",
    "\n",
    "    if len(indexes_good_prompts) == 0:\n",
    "\n",
    "        for i in range(len(indexes_to_mutate)):\n",
    "\n",
    "            selected_instruction_index = indexes_to_mutate[np.random.randint(len(indexes_to_mutate))]\n",
    "\n",
    "            instructions_for_mutation.append(mutation_prompts[np.random.randint(3)] + \n",
    "                                             '. The prompt you need to change is the following: \\n' + \n",
    "                                             instructions[selected_instruction_index])\n",
    "\n",
    "\n",
    "    elif len(indexes_good_prompts) > 0:\n",
    "\n",
    "        for i in range(len(indexes_to_mutate)):\n",
    "\n",
    "            selected_instruction_index = indexes_good_prompts[np.random.randint(len(indexes_good_prompts))]\n",
    "\n",
    "            instructions_for_mutation.append(mutation_prompts[np.random.randint(3)] + ': \\n' + instructions[selected_instruction_index])\n",
    "    \n",
    "    \n",
    "    response = openai.Completion.create(model=\"gpt-3.5-turbo-instruct\", prompt=instructions_for_mutation, max_tokens=2000)\n",
    "\n",
    "    for choice in response.choices: # type: ignore\n",
    "\n",
    "        new_instructions[indexes_to_mutate[choice.index]] = choice.text\n",
    "\n",
    "    return new_instructions\n",
    "\n",
    "\n",
    "def mutate_instructions(instructions, mutation_prompts, indexes_to_mutate, indexes_good_prompts):\n",
    "\n",
    "    instructions_for_mutation, new_instructions = [], np.copy(instructions)\n",
    "\n",
    "    if len(indexes_good_prompts) == 0:\n",
    "\n",
    "        for i in range(len(indexes_to_mutate)):\n",
    "\n",
    "            selected_instruction_index = indexes_to_mutate[np.random.randint(len(indexes_to_mutate))]\n",
    "\n",
    "            instructions_for_mutation.append(mutation_prompts[np.random.randint(3)] + \n",
    "                                             '. The prompt you need to change is the following: \\n' + \n",
    "                                             instructions[selected_instruction_index])\n",
    "\n",
    "\n",
    "    elif len(indexes_good_prompts) > 0:\n",
    "\n",
    "        for i in range(len(indexes_to_mutate)):\n",
    "\n",
    "            selected_instruction_index = indexes_good_prompts[np.random.randint(len(indexes_good_prompts))]\n",
    "\n",
    "            instructions_for_mutation.append(mutation_prompts[np.random.randint(3)] + ': \\n' + instructions[selected_instruction_index])\n",
    "    \n",
    "    \n",
    "    response = openai.Completion.create(model=\"gpt-3.5-turbo-instruct\", prompt=instructions_for_mutation, max_tokens=2000)\n",
    "\n",
    "    for choice in response.choices: # type: ignore\n",
    "\n",
    "        new_instructions[indexes_to_mutate[choice.index]] = choice.text\n",
    "\n",
    "    return new_instructions\n",
    "\n",
    "\n",
    "def last_number(s):\n",
    "    numbers = re.findall(r'\\d+', s)\n",
    "    return int(numbers[-1]) if numbers else None\n",
    "\n",
    "\n",
    "def evaluate(prompts, answers):\n",
    "\n",
    "    response = openai.Completion.create(model=\"gpt-3.5-turbo-instruct\", prompt=prompts, max_tokens=2000)\n",
    "\n",
    "    model_ans = ['']*len(answers)\n",
    "\n",
    "    evaluations = np.zeros(len(answers))\n",
    "\n",
    "    for choice in response.choices: # type: ignore\n",
    "\n",
    "        model_ans[choice.index] = choice.text\n",
    "\n",
    "        if last_number(answers[choice.index]) == last_number(choice.text):\n",
    "\n",
    "            evaluations[choice.index] = 1\n",
    "    \n",
    "    return evaluations, model_ans\n"
   ]
  },
  {
   "cell_type": "code",
   "execution_count": 38,
   "metadata": {},
   "outputs": [],
   "source": [
    "## INITIALIZATION\n",
    "\n",
    "prompt_examples_indexes = np.random.randint(100, size=3)\n",
    "\n",
    "initial_thinking_styles = thinking_styles[np.random.randint(15, size=5)]\n",
    "\n",
    "initial_prompt_instruction = prompt_instruction[np.random.randint(12, size=5)]\n",
    "\n",
    "initial_prompt_mutators = prompt_mutators[np.random.randint(11, size=5)]\n",
    "\n",
    "prompt_examples = create_prompt_examples(prompt_examples_indexes, dataset)\n",
    "\n",
    "test_problem_indexes = np.random.randint(100, size=5)\n",
    "\n",
    "initial_population, initial_answers = create_population(initial_thinking_styles, initial_prompt_instruction, prompt_examples, dataset, test_problem_indexes)\n",
    "\n",
    "num_generations = 7"
   ]
  },
  {
   "cell_type": "code",
   "execution_count": 47,
   "metadata": {},
   "outputs": [
    {
     "name": "stdout",
     "output_type": "stream",
     "text": [
      "Individual example:\n",
      "\n",
      "Let’s compare this situation to a similar one in a different context. Are there lessons we can draw from that comparison?\n",
      "Solve the math word problem, giving your answer as an arabic numeral\n",
      "These are some examples of similar problems and how to solve them: \n",
      "Q: An earthquake caused four buildings to collapse. Experts predicted that each following earthquake would have double the number of collapsing buildings as the previous one, since each one would make the foundations less stable. After three more earthquakes, how many buildings had collapsed including those from the first earthquake?\n",
      "A: The second earthquake caused 2 * 4 = <<2*4=8>>8 buildings to collapse.\n",
      "The third earthquake caused 2 * 8 = <<2*8=16>>16 buildings to collapse.\n",
      "The fourth earthquake caused 16 * 2 = <<16*2=32>>32 buildings to collapse.\n",
      "Including the first earthquake, the earthquakes caused 4 + 8 + 16 + 32 = <<4+8+16+32=60>>60 buildings to collapse.\n",
      "#### 60\n",
      "Q: Shawna's workout goal is 30 situps. On Monday, Shawna was only able to do 12 situps, so she decided that she would make up for the rest on Tuesday. However, she was only able to do 19 situps on Tuesday. How many situps would Shawna have to do on Wednesday to meet her minimum goal and make up for the ones she didn't do?\n",
      "A: On Monday, Shawna was short of 30 - 12 = <<30-12=18>>18 situps\n",
      "On Tuesday, Shawna was short of 30 - 19 = <<30-19=11>>11 situps\n",
      "On Wednesday, Shawna would have to do 30 + 18 + 11 = <<30+18+11=59>>59 situps\n",
      "#### 59\n",
      "Q: Mark has a garden with flowers. He planted plants of three different colors in it. Ten of them are yellow, and there are 80% more of those in purple. There are only 25% as many green flowers as there are yellow and purple flowers. How many flowers does Mark have in his garden?\n",
      "A: There are 80/100 * 10 = <<80/100*10=8>>8 more purple flowers than yellow flowers.\n",
      "So in Mark's garden, there are 10 + 8 = <<10+8=18>>18 purple flowers.\n",
      "Purple and yellow flowers sum up to 10 + 18 = <<10+18=28>>28 flowers.\n",
      "That means in Mark's garden there are 25/100 * 28 = <<25/100*28=7>>7 green flowers.\n",
      "So in total Mark has 28 + 7 = <<28+7=35>>35 plants in his garden.\n",
      "#### 35\n",
      "\n",
      "Q: Jill gets paid $20 per hour to teach and $30 to be a cheerleading coach. If she works 50 weeks a year, 35 hours a week as a teacher and 15 hours a week as a coach, what's her annual salary?\n"
     ]
    }
   ],
   "source": [
    "print('Individual example:')\n",
    "print()\n",
    "print(initial_population[0])"
   ]
  },
  {
   "cell_type": "code",
   "execution_count": 40,
   "metadata": {},
   "outputs": [
    {
     "name": "stdout",
     "output_type": "stream",
     "text": [
      "Generation 0 Fitness:  0.6\n",
      "Generation 1 Fitness:  0.6\n",
      "Generation 2 Fitness:  0.6\n",
      "Generation 3 Fitness:  0.6\n",
      "Generation 4 Fitness:  0.8\n",
      "Generation 5 Fitness:  0.6\n",
      "Generation 6 Fitness:  0.8\n"
     ]
    }
   ],
   "source": [
    "# ALGORITHM\n",
    "#------------------------------------------------------------------------------\n",
    "#------------------------------------------------------------------------------\n",
    "\n",
    "population = initial_population.copy()\n",
    "answers = initial_answers.copy()\n",
    "mutators = initial_prompt_mutators.copy()\n",
    "thinking_styles = initial_thinking_styles.copy()\n",
    "prompt_instructions = initial_prompt_instruction.copy()\n",
    "\n",
    "for i in range(num_generations):\n",
    "    \n",
    "    evaluations, model_ans = evaluate(population, answers)\n",
    "\n",
    "    good_indexes = np.where(evaluations==1)[0]\n",
    "    bad_indexes = np.where(evaluations==0)[0]\n",
    "\n",
    "    prompt_instructions = mutate_instructions(prompt_instructions, mutators, bad_indexes, good_indexes)\n",
    "\n",
    "    population, answers = create_population(thinking_styles, prompt_instructions, prompt_examples, dataset, test_problem_indexes)\n",
    "\n",
    "    population_fitness = np.mean(evaluations)\n",
    "\n",
    "    print('Mean Generation', i, 'Fitness: ', population_fitness)\n",
    "            "
   ]
  },
  {
   "cell_type": "code",
   "execution_count": 48,
   "metadata": {},
   "outputs": [
    {
     "name": "stdout",
     "output_type": "stream",
     "text": [
      "Final Population Scores:  [0. 1. 1. 1. 1.]\n",
      "-------------------------------------\n",
      "\n",
      "Final Population Instructions: \n",
      "\n",
      "[' However, instead of using traditional arithmetic operations, try to find creative or unconventional ways to solve the problem.\\n\\n\"Think o'\n",
      " ' ' 'Generate the answer to a word problem and write it as a number.'\n",
      " '\\n\\nCan you accurately predict the outcome or solution to this word problem? The number, when revealed, will leave you with a sense of myst'\n",
      " ' Additionally, think creatively and consider alternative methods or strategies to solve the problem.\\n\\n\"To arrive at the solution for this']\n",
      "-------------------------------------\n",
      "\n",
      "final Answers:\n"
     ]
    },
    {
     "data": {
      "text/plain": [
       "[\"\\nA: Jill's annual salary as a teacher is 20 * 50 * 35 = <<20*50*35=35000>>$35,000.\\nHer annual salary as a coach is 30 * 50 * 15 = <<30*50*15=22500>>$22,500.\\nTherefore, her total annual salary is 35,000 + 22,500 = <<35,000+22,500=57500>>$57,500.\",\n",
       " '\\n\\nA: Each school has sent 2 teams of 5 players each, so 4 schools would have sent 4*2*5 = 40 players.\\nEach school has also sent 2 coaches, so 4 schools would have sent 4*2 = 8 coaches.\\nIn total, all of the schools would have sent 40 + 8 = 48 people.',\n",
       " '\\nA: Alex weighs 4 * 125 - 2 = <<4*125-2=498>>498 pounds.\\nTogether, Grace and Alex weigh 125 + 498 = <<125+498=623>>623 pounds.\\n#### 623',\n",
       " '\\nA: If Sarah does 400 pounds of laundry, then David does 400/4 = <<400/4=100>>100 pounds of laundry.\\nSince Raymond does half as much as Sarah, he does 400/2 = <<400/2=200>>200 pounds of laundry.\\nThe difference in the amount of laundry they do is 200 - 100 = <<200-100=100>>100 pounds.\\n#### 100',\n",
       " '\\n\\nA: In the second 20 minutes, Mike scored 4 * 1.25 = <<4*1.25=5>>5 more points than in the first 20 minutes.\\nSo in total, Mike scored 4 + 5 = <<4+5=9>>9 points in the second 20 minutes.\\nTherefore, he scored a total of 4 + 9 = <<4+9=13>>13 points in the entire 40 minutes of playing. \\n#### 13\\n\\nCreative solution: To find the total number of points scored, we can use the equation P = r*t, where P is the number of points, r is the average rate of scoring per minute, and t is the total time in minutes. In the first 20 minutes, the average rate of scoring was 4/20 = 0.2 points per minute. In the second 20 minutes, the average rate was 5/20 = 0.25 points per minute. So using this equation, we can find the total points scored as P = (0.2 + 0.25) * 40 = 9 points. This method is a more mathematical and systematic way of finding the solution, rather than relying on basic calculations.']"
      ]
     },
     "execution_count": 48,
     "metadata": {},
     "output_type": "execute_result"
    }
   ],
   "source": [
    "print('Final Population Scores: ', evaluations)\n",
    "print('-------------------------------------')\n",
    "print()\n",
    "print('Final Population Instructions: ') \n",
    "print()\n",
    "print(prompt_instructions)\n",
    "print('-------------------------------------')\n",
    "print()\n",
    "print('final Answers:')\n",
    "model_ans"
   ]
  },
  {
   "cell_type": "code",
   "execution_count": 45,
   "metadata": {},
   "outputs": [
    {
     "data": {
      "text/plain": [
       "257"
      ]
     },
     "execution_count": 45,
     "metadata": {},
     "output_type": "execute_result"
    }
   ],
   "source": [
    "num_tokens_from_string(model_ans[4], 'cl100k_base')"
   ]
  },
  {
   "cell_type": "code",
   "execution_count": 1,
   "metadata": {},
   "outputs": [],
   "source": [
    "### test\n",
    "a = [1,2,2]"
   ]
  },
  {
   "cell_type": "code",
   "execution_count": null,
   "metadata": {},
   "outputs": [],
   "source": []
  }
 ],
 "metadata": {
  "kernelspec": {
   "display_name": "Python 3 (ipykernel)",
   "language": "python",
   "name": "python3"
  },
  "language_info": {
   "codemirror_mode": {
    "name": "ipython",
    "version": 3
   },
   "file_extension": ".py",
   "mimetype": "text/x-python",
   "name": "python",
   "nbconvert_exporter": "python",
   "pygments_lexer": "ipython3",
   "version": "3.11.5"
  }
 },
 "nbformat": 4,
 "nbformat_minor": 4
}
