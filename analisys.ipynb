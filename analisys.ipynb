{
 "cells": [
  {
   "cell_type": "code",
   "execution_count": 19,
   "metadata": {},
   "outputs": [],
   "source": [
    "import pickle\n",
    "from src.utils import plot_gene_frequency, plot_fitness_per_generation, plot_gene_frequency_per_gen, best_prompts, experimental_setup, best_prompts_per_model\n",
    "from src.llm import LLM\n",
    "from src.dataset import Dataset\n",
    "from src.prompt import Prompt\n",
    "import numpy as np"
   ]
  },
  {
   "cell_type": "code",
   "execution_count": null,
   "metadata": {},
   "outputs": [],
   "source": [
    "## RESULT FILES\n",
    "\n",
    "result_gpt = 'Results/gpt-3.5-turbo--gsm8k/'\n",
    "result_llama_10_gen = 'Results/llama-v2-70b-chat--gsm8k--1/' \n",
    "result_llama_50_gen = 'Results/llama-v2-70b-chat--gsm8k--2/'\n",
    "result_mistral_50_gen = 'Results/mistral-7b-instruct-4k--gsm8k--1/'\n",
    "result_mistral_50_gen_2 = 'Results/mistral-7b-instruct-4k--gsm8k--2/'"
   ]
  },
  {
   "cell_type": "code",
   "execution_count": null,
   "metadata": {},
   "outputs": [],
   "source": [
    "## Pick result to analyze\n",
    "selected_result = result_gpt"
   ]
  },
  {
   "cell_type": "code",
   "execution_count": null,
   "metadata": {},
   "outputs": [],
   "source": [
    "results_file = open(selected_result + 'ga_run.pkl', 'rb')    \n",
    "results = pickle.load(results_file)\n",
    "\n",
    "exp_cond_file = open(selected_result +'exp_conditions.pkl', 'rb')\n",
    "exp_cond = pickle.load(exp_cond_file)"
   ]
  },
  {
   "cell_type": "code",
   "execution_count": null,
   "metadata": {},
   "outputs": [],
   "source": [
    "plot_fitness_per_generation(results)"
   ]
  },
  {
   "cell_type": "code",
   "execution_count": null,
   "metadata": {},
   "outputs": [],
   "source": [
    "plot_gene_frequency(results, 0.0)"
   ]
  },
  {
   "cell_type": "code",
   "execution_count": null,
   "metadata": {},
   "outputs": [],
   "source": [
    "#plot_gene_frequency_per_gen(results, 36)"
   ]
  },
  {
   "cell_type": "code",
   "execution_count": null,
   "metadata": {},
   "outputs": [],
   "source": [
    "best_prompts(results, exp_cond, cutoff=0.95)"
   ]
  },
  {
   "cell_type": "code",
   "execution_count": null,
   "metadata": {},
   "outputs": [],
   "source": [
    "#experimental_setup('examples', exp_cond)"
   ]
  },
  {
   "cell_type": "code",
   "execution_count": null,
   "metadata": {},
   "outputs": [],
   "source": [
    "#best_prompts_per_model(results, exp_cond, 0.95)"
   ]
  },
  {
   "cell_type": "markdown",
   "metadata": {},
   "source": [
    "## Best prompts against baseline"
   ]
  },
  {
   "cell_type": "code",
   "execution_count": 20,
   "metadata": {},
   "outputs": [],
   "source": [
    "llama_sys_prompt = 'As a computer scientist, apply algorithmic thinking and computational techniques to efficiently solve this math problem.'\n",
    "llama_inst_prompt = '''\n",
    "Thank you for your thoughtful and comprehensive response. I appreciate your emphasis on ethical and social implications of AI systems, and your commitment to ensuring that AI systems promote positive change and minimize potential harm.\n",
    "\n",
    "I would like to further suggest that we should also consider the following principles:\n",
    "\n",
    "11. Addressing Privacy Concerns: AI systems often rely on collecting and processing large amounts of personal data, which raises concerns about privacy and data protection. It's important to ensure that AI systems are designed with privacy in mind, and that they comply with data protection regulations and best practices.\n",
    "12. Ensuring Accountability and Transparency: AI systems should be designed to ensure accountability and transparency, so that people can understand how they make decisions and how they can be held accountable. This includes developing systems that can provide clear explanations for their decisions and that can be audited and monitored for bias and errors.\n",
    "13. Fostering Collaboration between AI and Human Experts: AI systems should be designed to collaborate with human experts, rather than replacing them. This includes developing systems that can augment human capabilities, and that can provide valuable insights and recommendations to human decision-makers.\n",
    "14. Promoting Continuous Learning and Improvement: AI systems should be designed to promote continuous learning and improvement, so that they can adapt to changing contexts and needs. This includes developing systems that can learn from feedback, and that can improve their performance over time.\n",
    "15. Ensuring Environmental Sustainability: AI systems should be designed with environmental sustainability in mind, taking into account the environmental impact of their development, deployment, and use. This includes developing systems that can reduce carbon emissions, minimize waste, and promote sustainable practices.\n",
    "\n",
    "By considering these additional principles, I believe that we can create AI systems that promote positive change and minimize potential harm, and that contribute to a better future for all. Thank you for your commitment to ethical AI and algorithmic decision-making, and for your efforts to ensure that AI systems are developed and used in ways that promote social good and minimize harm.\n",
    "\n",
    "I hope this helps! Let me know if you have any other questions or concerns.\n",
    "'''\n",
    "\n",
    "\n",
    "llama_examples = ''' \n",
    "Q: Don throws 3 darts.  One is a bullseye worth 50 points.  One completely missed the target, so received no points. The third was worth half the points of the bullseye.  What is the final score from these 3 throws?\n",
    "A: The third dart earned Don 50 / 2 = <<50/2=25>>25 points.\n",
    "Thus, his total score is 50 + 0 + 25 = <<50+0+25=75>>75 points.\n",
    "#### 75\n",
    "Q: Janet's grades for her first semester of college were 90, 80, 70, and 100. If her semester 2 average was 82 percent, how much higher was her semester 1 average compared to her semester 2 average?\n",
    "A: First add all Janet's grade for the first semester of college: 90 + 80 + 70 + 100 = <<90+80+70+100=340>>340\n",
    "Then divide that number by 4 to find her average grade: 340 / 4 = <<340/4=85>>85\n",
    "Then subtract her semester 2 average to find the difference: 85 - 82 = <<85-82=3>>3\n",
    "#### 3\n",
    "Q: Cassandra bought four dozen Granny Smith apples and used them to make four apple pies.  She cut each pie into 6 large pieces.  How many apples are in each slice of pie?\n",
    "A: Four dozen apples contain 4*12=<<4*12=48>>48 apples.\n",
    "Four pies, each cut into 6 pieces, contain 4*6=<<4*6=24>>24 pieces.\n",
    "Thus, there are 48/24=<<48/24=2>>2 apples in every slice of Cassandra's apple pie.\n",
    "#### 2\n",
    "Q: Mr. Finnegan has 3 tanks with a capacity of 7000 gallons, 5000 gallons, and 3000 gallons, respectively. If he fills the first tank up to 3/4 full, the second tank with water up to 4/5 of its capacity, and the third tank up to half of its capacity, how many gallons in total are in the tanks?\n",
    "A: The capacity of the first tank is 7000 gallons, and if it is filled up to 3/4 full, it carries 3/4*7000 = 5250 gallons.\n",
    "When the second tank is filled up to 4/5 of its capacity, it carries 4/5*5000 = <<4/5*5000=4000>>4000 gallons.\n",
    "The total amount of water in the first two tanks is 5250+4000 = <<5250+4000=9250>>9250 gallons.\n",
    "If Mr. Finnegan fills the third tank with water up to half its capacity, the tank fills up with 1/2*3000 = <<1500=1500>>1500 gallons.\n",
    "In total, the three tanks have 9350+1500 = <<9350+1500=10850>>10850 gallons of water.\n",
    "#### 10850\n",
    "'''"
   ]
  },
  {
   "cell_type": "code",
   "execution_count": 21,
   "metadata": {},
   "outputs": [],
   "source": [
    "mistral_sys_prompt = 'You are a tutor, patiently breaking down and explaining this math problem to a student who is just beginning their mathematical journey.'\n",
    "mistral_inst_prompt = '''\n",
    "Wow, that's a great riddle! Pencil lead is indeed a very useful tool for writing and drawing. It's amazing how something so simple can be used in so many ways. Do you have any other fun riddles you'd like to share?\n",
    "'''\n",
    "mistral_examples = ''' \n",
    "Q: Jacoby wants to save money for a trip to Brickville. He needs to have $5000 total to go on his trip. He works a job earning $20 per hour and works 10 hours. He then finds he can sell cookies for $4 each, and he sells 24 pieces of cookies. With the money he has so far, he buys a lottery ticket for $10 and wins $500. Finally, he gets $500 from both of his sisters as a gift. How much more, in dollars, does Jacob need to go to Brickville?\n",
    "A: Jacob earns $20 per hour * 10 hours = $<<20*10=200>>200 for working.\n",
    "So he earns $4 each * 24 = $<<4*24=96>>96 for the cookies.\n",
    "So far he has earned $200 + $96 = $<<200+96=296>>296.\n",
    "He buys a lottery ticket so $296 - $10 = $<<296-10=286>>286 was left in his money.\n",
    "After winning in a lottery, he had a total of $500 + $286 = $<<500+286=786>>786.\n",
    "He gets $500 * 2 per sister = $<<500*2=1000>>1000 from her sisters.\n",
    "So he has so far $1000 + $786 = $<<1000+786=1786>>1786.\n",
    "He needs $5000 - $1786 = $<<5000-1786=3214>>3214.\n",
    "#### 3214\n",
    "Q: Tony is driving his car between his town and a friend's down. The towns are 120 miles apart and he gets there in 3 hours. The next day, he is driving to see another friend who lives 200 miles away from his friend. If he drives at the same speed, how long will the drive take?\n",
    "A: He is driving 40 MPH because 120 / 3 = <<120/3=40>>40\n",
    "It will take him 5 hours because 200 / 40 = <<200/40=5>>5\n",
    "#### 5\n",
    "Q: Diana earned $150 in July. She earned 3 times this amount in August. In September, She earned twice the money she earned in August. How much money did Diana earn over these three months?\n",
    "A: The amount of money Diana earned in August is 3 * $150 = $<<3*150=450>>450.\n",
    "The amount of money Diana earned in September is 2 * $450 = $<<2*450=900>>900.\n",
    "The total amount of money Diana earned over the three months is $150 + $450 + $900 = $<<150+450+900=1500>>1500.\n",
    "#### 1500\n",
    "Q: Jame's buys 100 head of cattle for $40,000.  It cost 20% more than that to feed them.  They each weigh 1000 pounds and sell for $2 per pound.  How much profit did he make?\n",
    "A: It cost .2*40000=$<<.2*40000=8000>>8000 more to feed than buy them\n",
    "So the total cost to feed them was 40000+8000=$<<40000+8000=48000>>48,000\n",
    "So in total it cost 48000+40000=$<<48000+40000=88000>>88,000\n",
    "Each cow sells for 2*1000=$<<2*1000=2000>>2000\n",
    "So he sells them for 2000*100=$<<2000*100=200000>>200,000\n",
    "So he makes a profit of 200,000-88,000=$<<200000-88000=112000>>112,000\n",
    "#### 112000\n",
    "Q: A busy restaurant is counting how many customers they had during that Friday to try to predict how many they might get on Saturday. During breakfast, they had 73 customers. During lunch, they had 127 customers. During dinner, they had 87 customers. If they predict they'll get twice the amount of customers on Saturday as they had on Friday, how many customers do they predict they will get?\n",
    "A: On Friday the restaurant had 73 customers for breakfast + 127 customers for lunch + 87 customers for dinner = <<73+127+87=287>>287 customers total on Friday.\n",
    "If they predict getting 2x the amount of customers on Saturday as on Friday, they will have 287 customers x 2 = <<287*2=574>>574 customers on Saturday.\n",
    "#### 574\n",
    "Q: Mark collects money for the homeless.  He visits 20 households a day for 5 days and half of those households give him a pair of 20s.  How much did he collect?\n",
    "A: He got money from 20/2=<<20/2=10>>10 households per day\n",
    "So that means he got money from 10*5=<<10*5=50>>50 households\n",
    "Each of those houses gave 20*2=$<<20*2=40>>40\n",
    "So he raised 40*50=$<<40*50=2000>>2000\n",
    "#### 2000\n",
    "Q: Olaf is playing a game with his dad. He scored three times more points than his dad, who scored 7 points. How many points did they score in total?\n",
    "A: Olaf scored three times more points than his dad, which means he scored 7 * 3 = <<3*7=21>>21 points.\n",
    "So in total, Olaf and his dad scored 21 + 7 = <<21+7=28>>28 points.\n",
    "#### 28\n",
    "Q: With 40 seconds left to play in the basketball game, the Dunkinville Hornets were leading the Fredingo Fireflies by a score of 86 to 74.  In the remaining seconds in the game, the Fireflies scored 7 three-point baskets while holding the Hornets to only 2 two-point baskets to win the game.  How many more points did the Fireflies score in the game than did the Hornets?\n",
    "A: In the final 40 seconds, the Fireflies scored seven 3-point baskets to improve their score by 3*7=<<7*3=21>>21 points.\n",
    "Thus, the Fireflies final total was 74+21=<<74+21=95>>95 points.\n",
    "In the final 40 seconds, the hornets scored an additional two 2-point baskets to improve their score by 2*2=<<2*2=4>>4 points.\n",
    "Thus, the Hornets final total was 86+4=<<86+4=90>>90 points.\n",
    "The final difference in points between the two teams was 95-90=<<95-90=5>>5 points.\n",
    "#### 5\n",
    "'''"
   ]
  },
  {
   "cell_type": "code",
   "execution_count": 22,
   "metadata": {},
   "outputs": [],
   "source": [
    "gpt_sys_prompt = 'You are a math educator providing clear, practical guidance.'\n",
    "gpt_inst_prompt = '''\n",
    "Additionally, as a professional statistician, I would gather relevant data to further analyze and understand the problem. This would involve collecting data on obesity rates, demographics, socioeconomic factors, access to recreational facilities and nutritious food options, cultural norms, advertising influence, and other relevant variables.\n",
    "\n",
    "I would then use statistical techniques to analyze this data and identify patterns, correlations, and causal relationships. This could involve conducting regression analyses, hypothesis testing, and other statistical modeling techniques.\n",
    "\n",
    "By utilizing data analysis, I would be able to quantify the impact of different factors on obesity rates and identify key drivers of the problem. This would assist in prioritizing interventions and designing targeted solutions. I could also use data visualization techniques to present these findings in a clear and understandable manner.\n",
    "\n",
    "Furthermore, as a professional statistician, I would emphasize the importance of ongoing data collection and monitoring to measure the effectiveness of implemented interventions. By regularly evaluating the impact of interventions and adjusting strategies accordingly, the system can be continually improved and adapted to address the changing dynamics of the problem.\n",
    "'''\n",
    "gpt_examples = ''' \n",
    "Q: Voltaire and Leila are vloggers, Voltaire has an average of 50 viewers per day while Leila has twice the number of viewers Voltaire has. If they earn $0.50 per view, how much does Leila earn per week?\n",
    "A: Leila has 50 x 2 = <<50*2=100>>100 viewers per day.\n",
    "So, she earns 100 x $0.50 = $<<100*0.5=50>>50 per day.\n",
    "Therefore, Leila earns $50 x 7 = $<<50*7=350>>350 every week.\n",
    "#### 350\n",
    "Q: Antoinette weighs 7 less kilograms than twice Rupert's weight. Together they weigh 98 kilograms. How many kilograms does Antoinette weigh?\n",
    "A: Let R = Rupert's weight\n",
    "Antoinette = 2R - 7\n",
    "R + 2R - 7 = 98\n",
    "3R = 105\n",
    "Rupert = <<35=35>>35 kg\n",
    "Antoinette = 2 * 35 - 7 = <<2*35-7=63>>63 kg\n",
    "Antoinette weighs 63 kilograms.\n",
    "#### 63\n",
    "Q: It costs $.10 to print one page. Jenny wants to print 7 copies of her 25-page essay. She also wants to buy 7 pens that each cost $1.50. If she pays the store with 2 twenty dollar bills, how much money should she get in change?\n",
    "A: Jenny needs to print 7*25= <<7*25=175>>175 pages.\n",
    "This will cost 175*$.10 =$<<175*.10=17.5>>17.5.\n",
    "The pens will cost 7*$1.50=$<<7*1.5=10.50>>10.50.\n",
    "In total, she will spend $17.5+$10.5=$<<17.5+10.5=28>>28.\n",
    "Since she pays with 2 twenty dollar bills she pays with 2*20=<<2*20=40>>40 dollars.\n",
    "Thus, she will get $40-$28=$<<40-28=12>>12 in change.\n",
    "#### 12\n",
    "'''"
   ]
  },
  {
   "cell_type": "code",
   "execution_count": 23,
   "metadata": {},
   "outputs": [],
   "source": [
    "dataset = Dataset(name='gsm8k')\n",
    "\n",
    "llm_mistral = LLM(provider='fireworks', model='llama-v2-70b-chat', api_key='---')\n",
    "llm_llama = LLM(provider='fireworks', model='llama-v2-70b-chat', api_key='---')\n",
    "llm_gpt = LLM(provider='openai', model='gpt-3.5-turbo', api_key='---)"
   ]
  },
  {
   "cell_type": "code",
   "execution_count": 24,
   "metadata": {},
   "outputs": [],
   "source": [
    "problems, answers = dataset.pick_random_problems(100, 'test')"
   ]
  },
  {
   "cell_type": "code",
   "execution_count": 25,
   "metadata": {},
   "outputs": [
    {
     "name": "stdout",
     "output_type": "stream",
     "text": [
      "99\r"
     ]
    }
   ],
   "source": [
    "eval_mistral = np.zeros(100)\n",
    "eval_llama = np.zeros(100)\n",
    "eval_gpt = np.zeros(100)\n",
    "\n",
    "for i in range(100):\n",
    "\n",
    "    predicted_ans_mistral = llm_mistral.generate(mistral_sys_prompt, mistral_inst_prompt, mistral_examples, problems[i])\n",
    "    predicted_ans_gpt = llm_gpt.generate(gpt_sys_prompt, gpt_inst_prompt, gpt_examples, problems[i])\n",
    "    predicted_ans_llama = llm_llama.generate(llama_sys_prompt, llama_inst_prompt, llama_examples, problems[i])\n",
    "    eval_mistral[i] = dataset.evaluate(answers[i], predicted_ans_mistral)\n",
    "    eval_gpt[i] = dataset.evaluate(answers[i], predicted_ans_gpt)\n",
    "    eval_llama[i] = dataset.evaluate(answers[i], predicted_ans_llama)\n",
    "    print(i, end='\\r')\n"
   ]
  },
  {
   "cell_type": "code",
   "execution_count": 27,
   "metadata": {},
   "outputs": [
    {
     "name": "stdout",
     "output_type": "stream",
     "text": [
      "16.0 64.0 50.0\n"
     ]
    }
   ],
   "source": [
    "print(np.sum(eval_mistral), np.sum(eval_gpt), np.sum(eval_llama))"
   ]
  },
  {
   "cell_type": "code",
   "execution_count": null,
   "metadata": {},
   "outputs": [],
   "source": []
  }
 ],
 "metadata": {
  "kernelspec": {
   "display_name": "Python 3",
   "language": "python",
   "name": "python3"
  },
  "language_info": {
   "codemirror_mode": {
    "name": "ipython",
    "version": 3
   },
   "file_extension": ".py",
   "mimetype": "text/x-python",
   "name": "python",
   "nbconvert_exporter": "python",
   "pygments_lexer": "ipython3",
   "version": "3.10.12"
  }
 },
 "nbformat": 4,
 "nbformat_minor": 2
}
