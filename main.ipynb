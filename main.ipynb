{
 "cells": [
  {
   "cell_type": "markdown",
   "id": "bfc82248-19e9-48a1-884d-13e35648f0d4",
   "metadata": {},
   "source": [
    "# Step 0: Import classes from other files"
   ]
  },
  {
   "cell_type": "code",
   "execution_count": 1,
   "id": "8b0ed3c0-2fd8-4722-868d-bdb616f5f380",
   "metadata": {
    "tags": []
   },
   "outputs": [],
   "source": [
    "%load_ext autoreload\n",
    "%autoreload 2\n",
    "from constants import *\n",
    "from evaluator import *\n",
    "from model import *\n",
    "from mutator import *\n",
    "from prompt import *\n",
    "from task import *\n",
    "\n",
    "import warnings\n",
    "warnings.filterwarnings(\"ignore\")"
   ]
  },
  {
   "cell_type": "code",
   "execution_count": 2,
   "id": "347afade-b6ba-45b2-a153-ff12cc5b7926",
   "metadata": {
    "tags": []
   },
   "outputs": [],
   "source": [
    "import re\n",
    "\n",
    "def extract_last_numeric_value(input_string):\n",
    "    # Regular expression pattern to extract all numeric values with periods and ignoring commas\n",
    "    pattern = r'[\\d,.]+'\n",
    "\n",
    "    # Find all matches using re.finditer()\n",
    "    matches = re.finditer(pattern, input_string)\n",
    "\n",
    "    # Initialize a variable to store the last numeric value\n",
    "    last_numeric_value = None\n",
    "\n",
    "    # Iterate through the matches and update the last_numeric_value\n",
    "    for match in matches:\n",
    "        numeric_value = match.group()\n",
    "        # Remove commas if needed\n",
    "        numeric_value = numeric_value.replace(\",\", \"\")\n",
    "        last_numeric_value = numeric_value\n",
    "\n",
    "    return last_numeric_value"
   ]
  },
  {
   "cell_type": "code",
   "execution_count": 3,
   "id": "885be8c1-db50-45ae-82b6-0787d0ce77bb",
   "metadata": {
    "tags": []
   },
   "outputs": [],
   "source": [
    "def evaluate_func(orig, pred):\n",
    "    orig_value = extract_last_numeric_value(orig)\n",
    "    pred_value = extract_last_numeric_value(pred)\n",
    "    try:\n",
    "        return abs(float(orig_value) - float(pred_value)) < 1e-6\n",
    "    except:\n",
    "        return False"
   ]
  },
  {
   "cell_type": "markdown",
   "id": "2bffa6b1-8a4d-41c0-a29f-66119f16abe4",
   "metadata": {},
   "source": [
    "# Step 1: Initialize the models and the task"
   ]
  },
  {
   "cell_type": "code",
   "execution_count": 4,
   "id": "599f4e73-6164-4106-abf3-193304f52947",
   "metadata": {
    "tags": []
   },
   "outputs": [
    {
     "data": {
      "application/vnd.jupyter.widget-view+json": {
       "model_id": "a9fddf206d6142268a6a13f876d8a4a3",
       "version_major": 2,
       "version_minor": 0
      },
      "text/plain": [
       "Fetching 1 files:   0%|          | 0/1 [00:00<?, ?it/s]"
      ]
     },
     "metadata": {},
     "output_type": "display_data"
    },
    {
     "data": {
      "application/vnd.jupyter.widget-view+json": {
       "model_id": "fb38080d38e64aaaa574ee85fcc3db61",
       "version_major": 2,
       "version_minor": 0
      },
      "text/plain": [
       "Fetching 1 files:   0%|          | 0/1 [00:00<?, ?it/s]"
      ]
     },
     "metadata": {},
     "output_type": "display_data"
    }
   ],
   "source": [
    "from datasets import load_dataset\n",
    "\n",
    "# mutation_model = Model(provider=\"huggingface\", model_name=\"mistralai/Mistral-7B-Instruct-v0.1\")\n",
    "mutation_model = Model(provider=\"quantized_llama\", model_name=\"TheBloke/Mistral-7B-OpenOrca-GGUF\", model_file=\"mistral-7b-openorca.Q4_K_M.gguf\", model_type=\"mistral\")\n",
    "evaluation_model = mutation_model\n"
   ]
  },
  {
   "cell_type": "code",
   "execution_count": 5,
   "id": "2aeaedc2-dcf5-4fbb-9b12-319b8219a532",
   "metadata": {},
   "outputs": [],
   "source": [
    "system_instruction = \"You are genius at mathematical thinking and reasoning.\"\n",
    "thinking_style = \"Think about this step by step.\"\n",
    "task = Task(load_dataset('gsm8k', 'main'),\n",
    "            'Solve the math word problem, giving your answer as an arabic numeral.',\n",
    "            evaluate_func)\n",
    "initial_prompt = Prompt(task.initial_prompt, system_instruction, thinking_style, num_examples=0, gene_id=0, previous_mutation=None)"
   ]
  },
  {
   "cell_type": "code",
   "execution_count": 6,
   "id": "19d47306-1ea6-434a-8374-4e26591e8a99",
   "metadata": {
    "tags": []
   },
   "outputs": [
    {
     "data": {
      "text/plain": [
       "DatasetDict({\n",
       "    train: Dataset({\n",
       "        features: ['question', 'answer'],\n",
       "        num_rows: 7473\n",
       "    })\n",
       "    test: Dataset({\n",
       "        features: ['question', 'answer'],\n",
       "        num_rows: 1319\n",
       "    })\n",
       "})"
      ]
     },
     "execution_count": 6,
     "metadata": {},
     "output_type": "execute_result"
    }
   ],
   "source": [
    "task.dataset"
   ]
  },
  {
   "cell_type": "code",
   "execution_count": 7,
   "id": "c75d7299-2ce5-4ad5-9162-4e54a3596803",
   "metadata": {
    "tags": []
   },
   "outputs": [
    {
     "name": "stdout",
     "output_type": "stream",
     "text": [
      "SYSTEM: You are genius at mathematical thinking and reasoning.\n",
      "USER: Think about this step by step., Solve the math word problem, giving your answer as an arabic numeral.\n",
      "QUESTION: Misha picks out 4 blouses from the 30% off rack.  The regular price for each blouse is $20.  How much is the total cost of the discounted blouses?\n",
      "ANSWER: \n",
      "\n"
     ]
    }
   ],
   "source": [
    "# Sample zero shot prompt\n",
    "print(initial_prompt._zero_shot_prompt(task.test_sample()['question']))"
   ]
  },
  {
   "cell_type": "code",
   "execution_count": 8,
   "id": "adb36c5c-161f-42ea-a12e-a8e5c80ae03e",
   "metadata": {
    "tags": []
   },
   "outputs": [
    {
     "name": "stdout",
     "output_type": "stream",
     "text": [
      "SYSTEM: You are genius at mathematical thinking and reasoning.\n",
      "USER: Think about this step by step., Solve the math word problem, giving your answer as an arabic numeral.\n",
      "QUESTION: Tim has some cans of soda. Jeff comes by, and takes 6 cans of soda from Tim. Tim then goes and buys another half the amount of soda cans he had left. If Tim has 24 cans of soda in the end, how many cans of soda did Tim have at first?\n",
      "ANSWER: Let x be the number of cans Tim has at first.\n",
      "After Jeff comes by, Tim has x-6 cans left.\n",
      "Tim buys another (x-6)/2 cans.\n",
      "x-6+(x-6)/2=24\n",
      "2*x-12+x-6=48\n",
      "3*x-18=48\n",
      "3*x=66\n",
      "x=<<22=22>>22\n",
      "#### 22\n",
      "QUESTION: Two girls each got 1/6 of the 24 liters of water. Then a boy got 6 liters of water. How many liters of water were left?\n",
      "ANSWER: \n",
      "\n"
     ]
    }
   ],
   "source": [
    "# Sample one shot prompt\n",
    "print(initial_prompt._one_shot_prompt(\n",
    "    task.test_sample()['question'],\n",
    "    task.train_sample()))"
   ]
  },
  {
   "cell_type": "code",
   "execution_count": 9,
   "id": "3d4684a2-ca0d-40df-a126-b8997d2a307c",
   "metadata": {
    "tags": []
   },
   "outputs": [
    {
     "name": "stdout",
     "output_type": "stream",
     "text": [
      "SYSTEM: You are genius at mathematical thinking and reasoning.\n",
      "USER: Think about this step by step., Solve the math word problem, giving your answer as an arabic numeral.. \n",
      "QUESTION: A pipe is clogged so that only 2 ounces of cleaner can run through the pipe per minute. After fifteen minutes, the cleaner has unclogged it enough that 3 ounces can run through per minute. Ten minutes later, the clog is cleared enough for 4 ounces to run through per minute. How many ounces of cleaner were used after 30 minutes?\n",
      "ANSWER: For 15 minutes at 2 ounces per minute, 2 * 15 = <<2*15=30>>30 ounces were used.\n",
      "For the next 10 minutes at 3 ounces per minute, 3 * 10 = <<3*10=30>>30 ounces were used.\n",
      "There are 30 - 15 - 10 = <<30-15-10=5>>5 minutes remaining.\n",
      "For the next 5 minutes at 4 ounces per minute, 4 * 5 = <<4*5=20>>20 ounces were used.\n",
      "After 30 minutes, 30 + 30 + 20 = <<30+30+20=80>>80 ounces of cleaner were used.\n",
      "#### 80\n",
      "QUESTION: A train travels 270 miles in 3 hours. At the same rate, how many additional hours would it take to travel an additional 180 miles?\n",
      "ANSWER: The rate is 270/3=<<270/3=90>>90 mph.\n",
      "Then it takes an additional 180/90=<<180/90=2>>2 hours.\n",
      "#### 2\n",
      "QUESTION: John uses the bathroom every 50 minutes.  How many times does he use the bathroom during a 2.5-hour movie?\n",
      "ANSWER: The movie last 2.5*60=<<2.5*60=150>>150 minutes\n",
      "So he uses the bathroom 150/50=<<150/50=3>>3 times\n",
      "#### 3\n",
      "QUESTION: Aaron and Vanessa were relay race partners on a running team. Aaron was able to run each mile twice as fast as Vanessa, but Vanessa was able to run twice as far as Aaron did. If Vanessa ran 4 miles and Aaron completed his part of the race in 16 minutes, how long in minutes did Vanessa take to complete her part?\n",
      "ANSWER: \n"
     ]
    }
   ],
   "source": [
    "# Sample few shot prompt\n",
    "print(initial_prompt._few_shot_prompt(\n",
    "    task.test_sample()['question'],\n",
    "    task.train()))"
   ]
  },
  {
   "cell_type": "markdown",
   "id": "18983abe-ddff-4d52-b7d0-4a67bf95cb20",
   "metadata": {
    "tags": []
   },
   "source": [
    "# Step 2: Initialize a list of initial prompts using the mutator"
   ]
  },
  {
   "cell_type": "code",
   "execution_count": 30,
   "id": "7df4ebbf-12da-4ef4-822e-51ab05d56780",
   "metadata": {
    "tags": []
   },
   "outputs": [],
   "source": [
    "from datetime import datetime\n",
    "import os\n",
    "\n",
    "# Get the current timestamp as a string\n",
    "current_time = datetime.now().strftime(\"%Y-%m-%d_%H-%M-%S\")\n",
    "\n",
    "# Create the directory\n",
    "folder_path = f\"results/{current_time}\"\n",
    "if not os.path.exists(folder_path):\n",
    "    os.mkdir(folder_path)\n",
    "\n",
    "gene_folder_path = f\"results/{current_time}/genes\"\n",
    "if not os.path.exists(gene_folder_path):\n",
    "    os.mkdir(gene_folder_path)\n",
    "    \n",
    "generation_folder_path = f\"results/{current_time}/generation\"\n",
    "if not os.path.exists(generation_folder_path):\n",
    "    os.mkdir(generation_folder_path)"
   ]
  },
  {
   "cell_type": "code",
   "execution_count": 31,
   "id": "3af8b0fb-5629-4ff5-9126-184a25f960d6",
   "metadata": {
    "tags": []
   },
   "outputs": [],
   "source": [
    "NUM_POPULATION = 10\n",
    "NUM_NEW_POPULATION = 10\n",
    "NUM_CROSSOVER_PAIRS = 5\n",
    "NUM_GENERATIONS = 10\n",
    "NUM_EVALS = 10"
   ]
  },
  {
   "cell_type": "code",
   "execution_count": 33,
   "id": "5b2620e2-52a4-40a9-a741-14de9828b210",
   "metadata": {
    "tags": []
   },
   "outputs": [],
   "source": [
    "import random\n",
    "\n",
    "# Make the list of initial populations\n",
    "initial_pop = [initial_prompt]\n",
    "prompt_mutator = PromptMutator(mutation_model)\n",
    "for i in range(1, NUM_POPULATION):\n",
    "    # Randomly select prompt mutation mechanism by chance\n",
    "    new_prompt = prompt_mutator.random_mutate(initial_prompt)\n",
    "    initial_pop.append(new_prompt)"
   ]
  },
  {
   "cell_type": "code",
   "execution_count": 34,
   "id": "c17e3d92-8b95-4976-ad3a-aa4ef0bdb56e",
   "metadata": {
    "tags": []
   },
   "outputs": [
    {
     "name": "stdout",
     "output_type": "stream",
     "text": [
      "(Solve the math word  - You are genius at ma - Think about this ste - 0)\n",
      "(Now we're ready for  - Use the question to  - Think about this ste - 1)\n",
      "(For example, turning - Re-read and redefine - What are the underly - 2)\n",
      "(The third prompt hig - Analyze the data and - Does the problem inv - 0)\n",
      "(Step 2: Convert the  - Use your knowledge a - Creative Thinking: E - 1)\n",
      "(Picture a situation  - Celebrate small vict - In this revised chal - 2)\n",
      "(Summarize the main p - Analyze the problem  - \"Remembering the suc - 0)\n",
      "(\"Break down the prob - Practice mathematica - Challenging assumpti - 0)\n",
      "(How many more apples - Analyze the context  - Promote collaboratio - 1)\n",
      "(You have 20 apples a - You are genius at ma - Systemizing (logic b - 3)\n"
     ]
    }
   ],
   "source": [
    "for prompt in initial_pop:\n",
    "    print(prompt)"
   ]
  },
  {
   "cell_type": "markdown",
   "id": "b417f170-4409-4880-bb6d-1364f821f500",
   "metadata": {},
   "source": [
    "# Step 3: Evaluation and mutation loop"
   ]
  },
  {
   "cell_type": "code",
   "execution_count": 35,
   "id": "2a8e0a92-571c-4a40-a187-703c9fc39df5",
   "metadata": {
    "tags": []
   },
   "outputs": [],
   "source": [
    "n_gen = 0\n",
    "pop = [prompt.copy() for prompt in initial_pop]"
   ]
  },
  {
   "cell_type": "code",
   "execution_count": null,
   "id": "1f0d0443-0bd4-4a5a-8670-12323b9edbf1",
   "metadata": {
    "tags": []
   },
   "outputs": [
    {
     "name": "stdout",
     "output_type": "stream",
     "text": [
      "Gen 1:\n",
      "Mutation phase:\n"
     ]
    }
   ],
   "source": [
    "import time\n",
    "import pandas as pd\n",
    "\n",
    "start_time = time.time()\n",
    "params = EvaluatorParams(gene_folder_path, print_text_completion=True, store_text_completion=True)\n",
    "evaluator = Evaluator(params)\n",
    "# evaluation_model = mutation_model\n",
    "evaluation_model = Model(provider=\"fireworks\", model_name=\"accounts/fireworks/models/llama-v2-13b-chat\")\n",
    "# evaluation_model = Model(provider=\"fireworks\", model_name=\"accounts/fireworks/models/llama-v2-70b-chat\")\n",
    "# evaluation_model = Model(provider=\"openai\", model_name=\"gpt-3.5-turbo-instruct\")\n",
    "\n",
    "for i in range(NUM_GENERATIONS):\n",
    "    print(f\"Gen {i + 1}:\")\n",
    "    print(\"Mutation phase:\")\n",
    "    # Record generation time\n",
    "    # Generate n news prompt\n",
    "    new_pop = []\n",
    "    for i in range(NUM_NEW_POPULATION):\n",
    "        # Randomly select a prompt, a mutator and thinking style\n",
    "        prompt = random.choice(pop)\n",
    "\n",
    "        # Randomly select prompt mutation mechanism by chance\n",
    "        new_prompt = prompt_mutator.random_mutate(prompt)\n",
    "        new_pop.append(new_prompt)\n",
    "\n",
    "    for i in range(NUM_CROSSOVER_PAIRS):\n",
    "        # Randomly select a prompt, a mutator and thinking style\n",
    "        prompt1, prompt2 = random.sample(pop, 2)\n",
    "\n",
    "        # Randomly select prompt mutation mechanism by chance\n",
    "        new_prompt1, new_prompt2 = prompt_mutator.crossover(prompt1, prompt2)\n",
    "        new_pop.append(new_prompt1)\n",
    "        new_pop.append(new_prompt2)\n",
    "    \n",
    "    # Evaluate the prompt\n",
    "    all_pop = pop + new_pop\n",
    "    scores = evaluator.evaluate(evaluation_model, task, all_pop, NUM_EVALS)\n",
    "    \n",
    "    # Print prompt and their score\n",
    "    print(f\"Generation {n_gen + 1}\")\n",
    "    prompt_scores = [(all_pop[i].get_accuracy(), all_pop[i]) for i in range(len(all_pop))]\n",
    "    prompt_scores = sorted(prompt_scores, key=lambda x: x[0], reverse=True)\n",
    "    print(\"Score  | Evals | Prompt\")\n",
    "    for _, prompt in prompt_scores:\n",
    "        print(f\"{prompt.get_accuracy() * 100:5.2f}% | {prompt.get_num_evals():5d} | {prompt}\")\n",
    "        \n",
    "    # Store the generation data\n",
    "    prompt_genes = [prompt.gene() for prompt in all_pop]\n",
    "    prompt_evals = [prompt.get_num_evals() for prompt in all_pop]\n",
    "    prompt_accus = [prompt.get_accuracy() for prompt in all_pop]\n",
    "    data = {\n",
    "        \"Gene\": prompt_genes,\n",
    "        \"Evaluations\": prompt_evals,\n",
    "        \"Accuracy\": prompt_accus\n",
    "    }\n",
    "    df = pd.DataFrame(data)\n",
    "    df.to_csv(f\"{generation_folder_path}/run_{n_gen}.csv\", index=False)\n",
    "    \n",
    "        \n",
    "    # Survival of the fittest\n",
    "    # TODO: Create a more elaborate selection mechanism that keeps some weaker member\n",
    "    pop = [prompt_scores[i][1] for i in range(NUM_POPULATION)]\n",
    "    \n",
    "    # Record time\n",
    "    end_time = time.time()\n",
    "    execution_time = end_time - start_time\n",
    "    print(\"Execution time: {:.2f} seconds\".format(execution_time))\n",
    "    \n",
    "    # Increment n_gen\n",
    "    n_gen += 1"
   ]
  },
  {
   "cell_type": "code",
   "execution_count": null,
   "id": "32afa83c-6073-4c30-b5db-6c5a55e40f80",
   "metadata": {},
   "outputs": [],
   "source": []
  }
 ],
 "metadata": {
  "kernelspec": {
   "display_name": "Python 3 (ipykernel)",
   "language": "python",
   "name": "python3"
  },
  "language_info": {
   "codemirror_mode": {
    "name": "ipython",
    "version": 3
   },
   "file_extension": ".py",
   "mimetype": "text/x-python",
   "name": "python",
   "nbconvert_exporter": "python",
   "pygments_lexer": "ipython3",
   "version": "3.11.5"
  }
 },
 "nbformat": 4,
 "nbformat_minor": 5
}
