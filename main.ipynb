{
 "cells": [
  {
   "cell_type": "markdown",
   "id": "bfc82248-19e9-48a1-884d-13e35648f0d4",
   "metadata": {},
   "source": [
    "# Step 0: Import classes from other files"
   ]
  },
  {
   "cell_type": "code",
   "execution_count": 8,
   "id": "8b0ed3c0-2fd8-4722-868d-bdb616f5f380",
   "metadata": {
    "tags": []
   },
   "outputs": [
    {
     "name": "stdout",
     "output_type": "stream",
     "text": [
      "The autoreload extension is already loaded. To reload it, use:\n",
      "  %reload_ext autoreload\n"
     ]
    }
   ],
   "source": [
    "%load_ext autoreload\n",
    "%autoreload 2\n",
    "from constants import *\n",
    "from evaluator import *\n",
    "from model import *\n",
    "from mutator import *\n",
    "from prompt import *\n",
    "from task import *\n",
    "\n",
    "import warnings\n",
    "warnings.filterwarnings(\"ignore\")"
   ]
  },
  {
   "cell_type": "code",
   "execution_count": 9,
   "id": "347afade-b6ba-45b2-a153-ff12cc5b7926",
   "metadata": {
    "tags": []
   },
   "outputs": [],
   "source": [
    "import re\n",
    "\n",
    "def extract_last_numeric_value(input_string):\n",
    "    # Regular expression pattern to extract all numeric values with periods and ignoring commas\n",
    "    pattern = r'[\\d,.]+'\n",
    "\n",
    "    # Find all matches using re.finditer()\n",
    "    matches = re.finditer(pattern, input_string)\n",
    "\n",
    "    # Initialize a variable to store the last numeric value\n",
    "    last_numeric_value = None\n",
    "\n",
    "    # Iterate through the matches and update the last_numeric_value\n",
    "    for match in matches:\n",
    "        numeric_value = match.group()\n",
    "        # Remove commas if needed\n",
    "        numeric_value = numeric_value.replace(\",\", \"\")\n",
    "        last_numeric_value = numeric_value\n",
    "\n",
    "    return last_numeric_value"
   ]
  },
  {
   "cell_type": "code",
   "execution_count": 10,
   "id": "885be8c1-db50-45ae-82b6-0787d0ce77bb",
   "metadata": {
    "tags": []
   },
   "outputs": [],
   "source": [
    "def evaluate_func(orig, pred):\n",
    "    orig_value = extract_last_numeric_value(orig)\n",
    "    pred_value = extract_last_numeric_value(pred)\n",
    "    try:\n",
    "        return abs(float(orig_value) - float(pred_value)) < 1e-6\n",
    "    except:\n",
    "        return False"
   ]
  },
  {
   "cell_type": "markdown",
   "id": "2bffa6b1-8a4d-41c0-a29f-66119f16abe4",
   "metadata": {},
   "source": [
    "# Step 1: Initialize the models and the task"
   ]
  },
  {
   "cell_type": "code",
   "execution_count": 14,
   "id": "599f4e73-6164-4106-abf3-193304f52947",
   "metadata": {
    "tags": []
   },
   "outputs": [
    {
     "data": {
      "application/vnd.jupyter.widget-view+json": {
       "model_id": "185ce7be3b6c4dce8767a9ec33a9b06d",
       "version_major": 2,
       "version_minor": 0
      },
      "text/plain": [
       "Fetching 1 files:   0%|          | 0/1 [00:00<?, ?it/s]"
      ]
     },
     "metadata": {},
     "output_type": "display_data"
    },
    {
     "data": {
      "application/vnd.jupyter.widget-view+json": {
       "model_id": "a7971ed9e87f4886a80823cbc30f1736",
       "version_major": 2,
       "version_minor": 0
      },
      "text/plain": [
       "Downloading config.json:   0%|          | 0.00/31.0 [00:00<?, ?B/s]"
      ]
     },
     "metadata": {},
     "output_type": "display_data"
    },
    {
     "data": {
      "application/vnd.jupyter.widget-view+json": {
       "model_id": "20059c4ad0a648728962f24f0e6486cb",
       "version_major": 2,
       "version_minor": 0
      },
      "text/plain": [
       "Fetching 1 files:   0%|          | 0/1 [00:00<?, ?it/s]"
      ]
     },
     "metadata": {},
     "output_type": "display_data"
    },
    {
     "data": {
      "application/vnd.jupyter.widget-view+json": {
       "model_id": "a3e28169657d4426ad7240ab70abf71c",
       "version_major": 2,
       "version_minor": 0
      },
      "text/plain": [
       "Downloading (…)stral-7b.Q4_K_M.gguf:   0%|          | 0.00/4.37G [00:00<?, ?B/s]"
      ]
     },
     "metadata": {},
     "output_type": "display_data"
    }
   ],
   "source": [
    "from datasets import load_dataset\n",
    "\n",
    "mutation_model = Model(provider=\"quantized_llama\", model_name=\"TheBloke/openinstruct-mistral-7B-GGUF\", model_file=\"openinstruct-mistral-7b.Q4_K_M.gguf\", model_type=\"mistral\")\n",
    "evaluation_model = mutation_model"
   ]
  },
  {
   "cell_type": "code",
   "execution_count": 15,
   "id": "2aeaedc2-dcf5-4fbb-9b12-319b8219a532",
   "metadata": {},
   "outputs": [],
   "source": [
    "system_instruction = \"You are genius at mathematical thinking and reasoning.\"\n",
    "thinking_style = \"Think about this step by step.\"\n",
    "task = Task(load_dataset('gsm8k', 'main'),\n",
    "            'Solve the math word problem, giving your answer as an arabic numeral.',\n",
    "            evaluate_func)\n",
    "initial_prompt = Prompt(task.initial_prompt, system_instruction, thinking_style)"
   ]
  },
  {
   "cell_type": "code",
   "execution_count": 16,
   "id": "19d47306-1ea6-434a-8374-4e26591e8a99",
   "metadata": {
    "tags": []
   },
   "outputs": [
    {
     "data": {
      "text/plain": [
       "DatasetDict({\n",
       "    train: Dataset({\n",
       "        features: ['question', 'answer'],\n",
       "        num_rows: 7473\n",
       "    })\n",
       "    test: Dataset({\n",
       "        features: ['question', 'answer'],\n",
       "        num_rows: 1319\n",
       "    })\n",
       "})"
      ]
     },
     "execution_count": 16,
     "metadata": {},
     "output_type": "execute_result"
    }
   ],
   "source": [
    "task.dataset"
   ]
  },
  {
   "cell_type": "code",
   "execution_count": 17,
   "id": "c75d7299-2ce5-4ad5-9162-4e54a3596803",
   "metadata": {
    "tags": []
   },
   "outputs": [
    {
     "name": "stdout",
     "output_type": "stream",
     "text": [
      "SYSTEM: You are genius at mathematical thinking and reasoning.\n",
      "USER: Think about this step by step., Solve the math word problem, giving your answer as an arabic numeral..\n",
      "QUESTION: Bob had 7 fish in his ornamental fish pond. 3 were orange, and 4 were white. He decided he wanted to get some more, so he went to the pet store. He had a sales assistant at the pet shop dip out 17 fish out of a mixed tank of both white and orange fish. When he got them home and added them to his pond, he found that he now had twice as many orange fish as white fish. How many white fish did Bob buy at the store?\n",
      "ANSWER: \n",
      "\n"
     ]
    }
   ],
   "source": [
    "# Sample zero shot prompt\n",
    "print(initial_prompt.zero_shot_prompt(task.test_sample()['question']))"
   ]
  },
  {
   "cell_type": "code",
   "execution_count": 18,
   "id": "adb36c5c-161f-42ea-a12e-a8e5c80ae03e",
   "metadata": {
    "tags": []
   },
   "outputs": [
    {
     "name": "stdout",
     "output_type": "stream",
     "text": [
      "SYSTEM: You are genius at mathematical thinking and reasoning.\n",
      "USER: Think about this step by step., Solve the math word problem, giving your answer as an arabic numeral..\n",
      "QUESTION: Kendra wants enough shirts that she only has to do laundry once every two weeks. She wears one shirt to school for each of the five weekdays. Three days a week, she changes into a different shirt for an after-school club. On Saturday, she wears one shirt all day. On Sunday, she wears a different shirt to church than she does for the rest of the day. How many shirts does she need to be able to only do laundry once every two weeks?\n",
      "ANSWER: Kendra wears 1 * 5 = <<1*5=5>>5 shirts for school days.\n",
      "She wears 1 * 3 = <<1*3=3>>3 extra shirts for her after-school club.\n",
      "She wears 1 + 1 = <<1+1=2>>2 shirts on Sunday.\n",
      "With her shirt on Saturday, she wears 5 + 3 + 1 + 2 = <<5+3+1+2=11>>11 shirts each week.\n",
      "She wants to have 2 weeks’ worth of shirts, so she needs 11 * 2 = <<11*2=22>>22 shirts.\n",
      "#### 22\n",
      "QUESTION: John decides to buy new phones for him, his 2 kids, and his wife.  Each phone after the first 2 is half price.  If the phone price is $600 how much did he pay for them all?\n",
      "ANSWER: \n",
      "\n"
     ]
    }
   ],
   "source": [
    "# Sample one shot prompt\n",
    "print(initial_prompt.one_shot_prompt(\n",
    "    task.test_sample()['question'],\n",
    "    task.train_sample()))"
   ]
  },
  {
   "cell_type": "code",
   "execution_count": 19,
   "id": "3d4684a2-ca0d-40df-a126-b8997d2a307c",
   "metadata": {
    "tags": []
   },
   "outputs": [
    {
     "name": "stdout",
     "output_type": "stream",
     "text": [
      "SYSTEM: You are genius at mathematical thinking and reasoning.\n",
      "USER: Think about this step by step., Solve the math word problem, giving your answer as an arabic numeral.. \n",
      "QUESTION: CJ, KJ, and AJ collect stamps.  CJ has 5 more than twice the number of stamps that KJ has, and KJ has half as many as AJ.  If the three boys have 930 stamps all together, how many stamps does AJ have?\n",
      "ANSWER: Let x represent the number of stamps for AJ\n",
      "KJ:x/2 stamps\n",
      "CJ:5+2(x/2)=5+x\n",
      "Total:x+(x/2)+5+x=930\n",
      "(5/2)x+5=930\n",
      "(5/2)x=925\n",
      "x=925(2/5)=370 stamps\n",
      "#### 370\n",
      "QUESTION: A baker bought cooking ingredients in the supermarket. She bought 3 boxes of flour that cost $3 each box, 3 trays of eggs that cost $10 for each tray, 7 liters of milk that cost $5 each liter, and 2 boxes of baking soda that cost $3 each box. How much will she have to pay for everything?\n",
      "ANSWER: The total cost for the flour is 3 x $3 = $<<3*3=9>>9.\n",
      "The total cost of the tray of eggs is 3 x $10 = $<<3*10=30>>30.\n",
      "The total cost for the liter of milk is 7 x $5 = $<<7*5=35>>35.\n",
      "The total cost for the box of baking soda is 2 x $3 = $<<2*3=6>>6.\n",
      "Therefore, the total cost for all the ingredients is $9 + $30 + $35 + $6 = $<<9+30+35+6=80>>80.\n",
      "#### 80\n",
      "QUESTION: Phil and Andre decide to order some pizza. They get a small cheese and a large pepperoni. The small pizza has 8 slices, The large has 14 slices. They have both eaten 9 slices already. How many pieces are left per person?\n",
      "ANSWER: There are 22 pieces of pizza because 14 plus 8 equals <<14+8=22>>22.\n",
      "They have eaten 18 pieces of pizza because 9 plus 9 equals <<9+9=18>>18.\n",
      "There are 4 pieces of pizza left because 22 minus 18 equals <<22-18=4>>4.\n",
      "There are 2 pieces per person because 4 divided by 2 equals <<4/2=2>>2.\n",
      "#### 2\n",
      "QUESTION: Rozanne is making eggnog for her family. She uses 4 dozen eggs that were in cases and another 2 eggs that were loose in the cupboard. She puts out trays that each hold 5 glasses of eggnog. If each glass needs 5 eggs, how many trays can Rozanne put out?\n",
      "ANSWER: \n"
     ]
    }
   ],
   "source": [
    "# Sample few shot prompt\n",
    "print(initial_prompt.few_shot_prompt(\n",
    "    task.test_sample()['question'],\n",
    "    task.train()))"
   ]
  },
  {
   "cell_type": "markdown",
   "id": "18983abe-ddff-4d52-b7d0-4a67bf95cb20",
   "metadata": {
    "tags": []
   },
   "source": [
    "# Step 2: Initialize a list of initial prompts using the mutator"
   ]
  },
  {
   "cell_type": "code",
   "execution_count": 20,
   "id": "3af8b0fb-5629-4ff5-9126-184a25f960d6",
   "metadata": {
    "tags": []
   },
   "outputs": [],
   "source": [
    "NUM_POPULATION = 5\n",
    "NUM_GENERATIONS = 5\n",
    "NUM_EVALS = 10\n",
    "\n",
    "# original_mutators = MUTATORS\n",
    "original_mutators = [\n",
    "    \"Rewrite the following instruction 10 times in a creative way\",\n",
    "]\n",
    "\n",
    "original_thinking_styles = THINKING_STYLES"
   ]
  },
  {
   "cell_type": "code",
   "execution_count": 21,
   "id": "5b2620e2-52a4-40a9-a741-14de9828b210",
   "metadata": {
    "tags": []
   },
   "outputs": [],
   "source": [
    "import random\n",
    "\n",
    "# Make the list of initial populations\n",
    "initial_pop = [initial_prompt]\n",
    "prompt_mutator = PromptMutator(mutation_model)\n",
    "for i in range(1, NUM_POPULATION):\n",
    "    # Randomly select a mutator and thinking style\n",
    "    mutator = random.choice(original_mutators)\n",
    "    thinking_style = random.choice(original_thinking_styles)\n",
    "    \n",
    "    # Randomly select prompt mutation mechanism by chance\n",
    "    new_prompt = prompt_mutator.random_mutate(initial_prompt, mutator)\n",
    "    initial_pop.append(new_prompt)\n",
    "    \n",
    "pop = initial_pop.copy()"
   ]
  },
  {
   "cell_type": "code",
   "execution_count": 22,
   "id": "c17e3d92-8b95-4976-ad3a-aa4ef0bdb56e",
   "metadata": {
    "tags": []
   },
   "outputs": [
    {
     "name": "stdout",
     "output_type": "stream",
     "text": [
      "Solve the math word problem, giving your answer as an arabic numeral.\n",
      "The question is: A man has 2000 marbles that are each worth $25 and needs to get exactly 85 marbles out of the total pile for a job he’s being paid $5 per marble for. What's his take-home pay from this job?\n",
      "The answer is 40\n",
      "(C) 18\n",
      "Step-by-step reasoning process: You have 50 - 20 = 30 dollars left.\n"
     ]
    }
   ],
   "source": [
    "for prompt in initial_pop:\n",
    "    print(prompt)"
   ]
  },
  {
   "cell_type": "markdown",
   "id": "b417f170-4409-4880-bb6d-1364f821f500",
   "metadata": {},
   "source": [
    "# Step 3: Evaluation and mutation loop"
   ]
  },
  {
   "cell_type": "code",
   "execution_count": null,
   "id": "1f0d0443-0bd4-4a5a-8670-12323b9edbf1",
   "metadata": {
    "tags": []
   },
   "outputs": [
    {
     "name": "stdout",
     "output_type": "stream",
     "text": [
      "Evaluating test samples: [59, 931, 523, 987, 399, 128, 310, 488, 1012, 806]\n",
      "Evaluating prompt 0: Solve the math word problem, giving your answer as an arabic numeral.\n",
      "Evaluating prompt 1: The question is: A man has 2000 marbles that are each worth $25 and needs to get exactly 85 marbles out of the total pile for a job he’s being paid $5 per marble for. What's his take-home pay from this job?\n",
      "Evaluating prompt 2: The answer is 40\n",
      "Evaluating prompt 3: (C) 18\n",
      "Evaluating prompt 4: Step-by-step reasoning process: You have 50 - 20 = 30 dollars left.\n",
      "Evaluating prompt 5: The answer is 4.\n",
      "Evaluating prompt 6: The answer is 4.\n",
      "Evaluating prompt 7: The answer is 4859\n",
      "Evaluating prompt 8: Your answer is 7.\n",
      "Evaluating prompt 9: (C) 20\n",
      "Generation 1\n",
      "Score  | Evals | Prompt\n",
      "40.00% |    10 | The answer is 4.\n",
      "30.00% |    10 | The answer is 4859\n",
      "20.00% |    10 | The answer is 40\n",
      "20.00% |    10 | Step-by-step reasoning process: You have 50 - 20 = 30 dollars left.\n",
      "20.00% |    10 | The answer is 4.\n",
      "20.00% |    10 | Your answer is 7.\n",
      "10.00% |    10 | The question is: A man has 2000 marbles that are each worth $25 and needs to get exactly 85 marbles out of the total pile for a job he’s being paid $5 per marble for. What's his take-home pay from this job?\n",
      "10.00% |    10 | (C) 20\n",
      " 0.00% |    10 | Solve the math word problem, giving your answer as an arabic numeral.\n",
      " 0.00% |    10 | (C) 18\n",
      "Evaluating test samples: [592, 1084, 267, 871, 1184, 1014, 101, 624, 354, 602]\n",
      "Evaluating prompt 0: The answer is 4.\n",
      "Evaluating prompt 1: The answer is 4859\n",
      "Evaluating prompt 2: The answer is 40\n",
      "Evaluating prompt 3: Step-by-step reasoning process: You have 50 - 20 = 30 dollars left.\n",
      "Evaluating prompt 4: The answer is 4.\n",
      "Evaluating prompt 5: The answer is 32.\n",
      "Evaluating prompt 6: The answer is 32.\n",
      "Evaluating prompt 7: The answer is 32.\n"
     ]
    }
   ],
   "source": [
    "evaluator = Evaluator()\n",
    "\n",
    "for n_gen in range(NUM_GENERATIONS):\n",
    "    # Generate n news prompt\n",
    "    new_pop = []\n",
    "\n",
    "    for i in range(NUM_POPULATION):\n",
    "        # Randomly select a prompt, a mutator and thinking style\n",
    "        prompt = random.choice(pop)\n",
    "        mutator = random.choice(original_mutators)\n",
    "        thinking_style = random.choice(original_thinking_styles)\n",
    "\n",
    "        # Randomly select prompt mutation mechanism by chance\n",
    "        new_prompt = prompt_mutator.random_mutate(initial_prompt, mutator)\n",
    "        new_pop.append(new_prompt)\n",
    "    \n",
    "    # Evaluate the prompt\n",
    "    all_pop = pop + new_pop\n",
    "    scores = evaluator.evaluate(evaluation_model, task, \"one\", all_pop, NUM_EVALS)\n",
    "    \n",
    "    # Print prompt and their score\n",
    "    print(f\"Generation {n_gen + 1}\")\n",
    "    prompt_scores = [(all_pop[i].get_accuracy(), all_pop[i]) for i in range(len(all_pop))]\n",
    "    prompt_scores = sorted(prompt_scores, key=lambda x: x[0], reverse=True)\n",
    "    print(\"Score  | Evals | Prompt\")\n",
    "    for _, prompt in prompt_scores:\n",
    "        print(f\"{prompt.get_accuracy() * 100:5.2f}% | {prompt.get_num_evals():5d} | {prompt}\")\n",
    "        \n",
    "    # Survival of the fittest\n",
    "    # TODO: Create a more elaborate selection mechanism that keeps some weaker member\n",
    "    pop = [prompt_scores[i][1] for i in range(NUM_POPULATION)]"
   ]
  },
  {
   "cell_type": "code",
   "execution_count": null,
   "id": "91a28430-1807-4c17-87cd-c52df685fe43",
   "metadata": {},
   "outputs": [],
   "source": []
  },
  {
   "cell_type": "code",
   "execution_count": null,
   "id": "36fd2f72-e473-4c8d-ab9e-0f5f03264c53",
   "metadata": {},
   "outputs": [],
   "source": []
  }
 ],
 "metadata": {
  "kernelspec": {
   "display_name": "Python 3 (ipykernel)",
   "language": "python",
   "name": "python3"
  },
  "language_info": {
   "codemirror_mode": {
    "name": "ipython",
    "version": 3
   },
   "file_extension": ".py",
   "mimetype": "text/x-python",
   "name": "python",
   "nbconvert_exporter": "python",
   "pygments_lexer": "ipython3",
   "version": "3.11.5"
  }
 },
 "nbformat": 4,
 "nbformat_minor": 5
}
