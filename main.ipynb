{
 "cells": [
  {
   "cell_type": "markdown",
   "id": "bfc82248-19e9-48a1-884d-13e35648f0d4",
   "metadata": {},
   "source": [
    "# Step 0: Import classes from other files"
   ]
  },
  {
   "cell_type": "code",
   "execution_count": 77,
   "id": "8b0ed3c0-2fd8-4722-868d-bdb616f5f380",
   "metadata": {
    "tags": []
   },
   "outputs": [
    {
     "name": "stdout",
     "output_type": "stream",
     "text": [
      "The autoreload extension is already loaded. To reload it, use:\n",
      "  %reload_ext autoreload\n"
     ]
    }
   ],
   "source": [
    "%load_ext autoreload\n",
    "%autoreload 2\n",
    "from constants import *\n",
    "from evaluator import *\n",
    "from model import *\n",
    "from mutator import *\n",
    "from prompt import *\n",
    "from task import *\n",
    "\n",
    "import warnings\n",
    "warnings.filterwarnings(\"ignore\")"
   ]
  },
  {
   "cell_type": "code",
   "execution_count": 27,
   "id": "347afade-b6ba-45b2-a153-ff12cc5b7926",
   "metadata": {
    "tags": []
   },
   "outputs": [],
   "source": [
    "import re\n",
    "\n",
    "def extract_last_numeric_value(input_string):\n",
    "    # Regular expression pattern to extract all numeric values with periods and ignoring commas\n",
    "    pattern = r'[\\d,.]+'\n",
    "\n",
    "    # Find all matches using re.finditer()\n",
    "    matches = re.finditer(pattern, input_string)\n",
    "\n",
    "    # Initialize a variable to store the last numeric value\n",
    "    last_numeric_value = None\n",
    "\n",
    "    # Iterate through the matches and update the last_numeric_value\n",
    "    for match in matches:\n",
    "        numeric_value = match.group()\n",
    "        # Remove commas if needed\n",
    "        numeric_value = numeric_value.replace(\",\", \"\")\n",
    "        last_numeric_value = numeric_value\n",
    "\n",
    "    return last_numeric_value"
   ]
  },
  {
   "cell_type": "code",
   "execution_count": 28,
   "id": "885be8c1-db50-45ae-82b6-0787d0ce77bb",
   "metadata": {
    "tags": []
   },
   "outputs": [],
   "source": [
    "def evaluate_func(orig, pred):\n",
    "    orig_value = extract_last_numeric_value(orig)\n",
    "    pred_value = extract_last_numeric_value(pred)\n",
    "    try:\n",
    "        return abs(float(orig_value) - float(pred_value)) < 1e-6\n",
    "    except:\n",
    "        return False"
   ]
  },
  {
   "cell_type": "markdown",
   "id": "2bffa6b1-8a4d-41c0-a29f-66119f16abe4",
   "metadata": {},
   "source": [
    "# Step 1: Initialize the models and the task"
   ]
  },
  {
   "cell_type": "code",
   "execution_count": 12,
   "id": "599f4e73-6164-4106-abf3-193304f52947",
   "metadata": {
    "tags": []
   },
   "outputs": [
    {
     "data": {
      "application/vnd.jupyter.widget-view+json": {
       "model_id": "eb1fbe492dbe43f38fc074b833e272a4",
       "version_major": 2,
       "version_minor": 0
      },
      "text/plain": [
       "Fetching 1 files:   0%|          | 0/1 [00:00<?, ?it/s]"
      ]
     },
     "metadata": {},
     "output_type": "display_data"
    },
    {
     "data": {
      "application/vnd.jupyter.widget-view+json": {
       "model_id": "761ab19cc0304c8ea31fabe28e5e7ed4",
       "version_major": 2,
       "version_minor": 0
      },
      "text/plain": [
       "Fetching 1 files:   0%|          | 0/1 [00:00<?, ?it/s]"
      ]
     },
     "metadata": {},
     "output_type": "display_data"
    }
   ],
   "source": [
    "from datasets import load_dataset\n",
    "\n",
    "# mutation_model = Model(provider=\"huggingface\", model_name=\"mistralai/Mistral-7B-Instruct-v0.1\")\n",
    "mutation_model = Model(provider=\"quantized_llama\", model_name=\"TheBloke/Mistral-7B-OpenOrca-GGUF\", model_file=\"mistral-7b-openorca.Q4_K_M.gguf\", model_type=\"mistral\")\n",
    "evaluation_model = mutation_model"
   ]
  },
  {
   "cell_type": "code",
   "execution_count": 78,
   "id": "2aeaedc2-dcf5-4fbb-9b12-319b8219a532",
   "metadata": {},
   "outputs": [],
   "source": [
    "system_instruction = \"You are genius at mathematical thinking and reasoning.\"\n",
    "thinking_style = \"Think about this step by step.\"\n",
    "task = Task(load_dataset('gsm8k', 'main'),\n",
    "            'Solve the math word problem, giving your answer as an arabic numeral.',\n",
    "            evaluate_func)\n",
    "initial_prompt = Prompt(task.initial_prompt, system_instruction, thinking_style, num_examples=0, gene_id=0, previous_mutation=None)"
   ]
  },
  {
   "cell_type": "code",
   "execution_count": 79,
   "id": "19d47306-1ea6-434a-8374-4e26591e8a99",
   "metadata": {
    "tags": []
   },
   "outputs": [
    {
     "data": {
      "text/plain": [
       "DatasetDict({\n",
       "    train: Dataset({\n",
       "        features: ['question', 'answer'],\n",
       "        num_rows: 7473\n",
       "    })\n",
       "    test: Dataset({\n",
       "        features: ['question', 'answer'],\n",
       "        num_rows: 1319\n",
       "    })\n",
       "})"
      ]
     },
     "execution_count": 79,
     "metadata": {},
     "output_type": "execute_result"
    }
   ],
   "source": [
    "task.dataset"
   ]
  },
  {
   "cell_type": "code",
   "execution_count": 80,
   "id": "c75d7299-2ce5-4ad5-9162-4e54a3596803",
   "metadata": {
    "tags": []
   },
   "outputs": [
    {
     "name": "stdout",
     "output_type": "stream",
     "text": [
      "SYSTEM: You are genius at mathematical thinking and reasoning.\n",
      "USER: Think about this step by step., Solve the math word problem, giving your answer as an arabic numeral..\n",
      "QUESTION: Thomas withdraws $1000 in 20 dollar bills from the bank account.  He loses 10 bills while getting home.  After that, he uses half of the remaining bills to pay for a bill.  Thomas then triples his money.  He then converts all his bills to 5 dollar bills.  How many 5 dollar bills does he have?\n",
      "ANSWER: \n",
      "\n"
     ]
    }
   ],
   "source": [
    "# Sample zero shot prompt\n",
    "print(initial_prompt._zero_shot_prompt(task.test_sample()['question']))"
   ]
  },
  {
   "cell_type": "code",
   "execution_count": 81,
   "id": "adb36c5c-161f-42ea-a12e-a8e5c80ae03e",
   "metadata": {
    "tags": []
   },
   "outputs": [
    {
     "name": "stdout",
     "output_type": "stream",
     "text": [
      "SYSTEM: You are genius at mathematical thinking and reasoning.\n",
      "USER: Think about this step by step., Solve the math word problem, giving your answer as an arabic numeral..\n",
      "QUESTION: Mona plays a multiplayer video game on the weekends. She joins groups with four other players to complete objectives in the game. The past weekend, she joined 9 groups. One of the groups included two players she had grouped with before that weekend, and another group included one person she had grouped with before. How many unique players did Mona group with on the video game that weekend?\n",
      "ANSWER: Mona joined 9 groups, so she played with 9 * 4 = <<9*4=36>>36 people.\n",
      "She grouped with 2 + 1 = <<2+1=3>>3 people twice.\n",
      "Thus, she played with 36 - 3 = <<36-3=33>>33 unique players that weekend.\n",
      "#### 33\n",
      "QUESTION: Pierson scored 278 points in one game of bowling. Nikita scored 11 more than half as many as Pierson. How many points did Pierson and Nikita have in total?\n",
      "ANSWER: \n",
      "\n"
     ]
    }
   ],
   "source": [
    "# Sample one shot prompt\n",
    "print(initial_prompt._one_shot_prompt(\n",
    "    task.test_sample()['question'],\n",
    "    task.train_sample()))"
   ]
  },
  {
   "cell_type": "code",
   "execution_count": 82,
   "id": "3d4684a2-ca0d-40df-a126-b8997d2a307c",
   "metadata": {
    "tags": []
   },
   "outputs": [
    {
     "name": "stdout",
     "output_type": "stream",
     "text": [
      "SYSTEM: You are genius at mathematical thinking and reasoning.\n",
      "USER: Think about this step by step., Solve the math word problem, giving your answer as an arabic numeral.. \n",
      "QUESTION: Erin is sorting through the library books to decide which ones to replace. She finds 8 less than 6 times as many obsolete books as damaged books. If she removes 69 books total, how many books were damaged?\n",
      "ANSWER: Let o be the number of obsolete books and d be the number of damaged books. We know that o + d = 69 and o = 6d - 8.\n",
      "Substituting the first equation into the second equation, we get 6d - 8 + d = 69\n",
      "Combining like terms, we get 7d - 8 = 69\n",
      "Adding 8 to both sides, we get 7d = 77\n",
      "Dividing both sides by 7, we get d = 11\n",
      "#### 11\n",
      "QUESTION: Tickets to the school play cost $6 for students and $8 for adults. If 20 students and 12 adults bought tickets, how many dollars' worth of tickets were sold?\n",
      "ANSWER: The students bought $6*20=$<<6*20=120>>120 worth of tickets\n",
      "The adults bought $8*12=$<<8*12=96>>96 worth of tickets\n",
      "Together $120 + $96 = $<<120+96=216>>216 worth of tickets were sold\n",
      "#### 216\n",
      "QUESTION: Bella bought stamps at the post office. Some of the stamps had a snowflake design, some had a truck design, and some had a rose design. Bella bought 11 snowflake stamps. She bought 9 more truck stamps than snowflake stamps, and 13 fewer rose stamps than truck stamps. How many stamps did Bella buy in all?\n",
      "ANSWER: The number of truck stamps is 11 + 9 = <<11+9=20>>20.\n",
      "The number of rose stamps is 20 − 13 = <<20-13=7>>7.\n",
      "Bella bought 11 + 20 + 7 = <<11+20+7=38>>38 stamps in all.\n",
      "#### 38\n",
      "QUESTION: At a spa, Iris spent $400 to do her hair, 1/4 as much to do a manicure, and 3/4 as much money as a manicure to do a pedicure. How much money did she spend at the spa?\n",
      "ANSWER: \n"
     ]
    }
   ],
   "source": [
    "# Sample few shot prompt\n",
    "print(initial_prompt._few_shot_prompt(\n",
    "    task.test_sample()['question'],\n",
    "    task.train()))"
   ]
  },
  {
   "cell_type": "markdown",
   "id": "18983abe-ddff-4d52-b7d0-4a67bf95cb20",
   "metadata": {
    "tags": []
   },
   "source": [
    "# Step 2: Initialize a list of initial prompts using the mutator"
   ]
  },
  {
   "cell_type": "code",
   "execution_count": 83,
   "id": "7df4ebbf-12da-4ef4-822e-51ab05d56780",
   "metadata": {
    "tags": []
   },
   "outputs": [],
   "source": [
    "from datetime import datetime\n",
    "import os\n",
    "\n",
    "# Get the current timestamp as a string\n",
    "current_time = datetime.now().strftime(\"%Y-%m-%d_%H-%M-%S\")\n",
    "\n",
    "# Create the directory\n",
    "folder_path = f\"results/{current_time}\"\n",
    "if not os.path.exists(folder_path):\n",
    "    os.mkdir(folder_path)\n",
    "\n",
    "gene_folder_path = f\"results/{current_time}/genes\"\n",
    "if not os.path.exists(gene_folder_path):\n",
    "    os.mkdir(gene_folder_path)\n",
    "    \n",
    "generation_folder_path = f\"results/{current_time}/generation\"\n",
    "if not os.path.exists(generation_folder_path):\n",
    "    os.mkdir(generation_folder_path)"
   ]
  },
  {
   "cell_type": "code",
   "execution_count": 84,
   "id": "3af8b0fb-5629-4ff5-9126-184a25f960d6",
   "metadata": {
    "tags": []
   },
   "outputs": [],
   "source": [
    "NUM_POPULATION = 5\n",
    "NUM_GENERATIONS = 5\n",
    "NUM_EVALS = 10\n",
    "NUM_EXAMPLES_LIMIT = 4\n",
    "NUM_EXAMPLES_MUTATION_PROB = 0.5\n",
    "\n",
    "original_mutators = MUTATORS\n",
    "original_mutators = [\n",
    "    \"10 times, modify the following instruction in a creative manner.\",\n",
    "    \"10 times, change the following instruction to make it more fun, and make sure to think WELL outside the box.\",\n",
    "    # \"10 times, as a really good teacher, explain the instruction, as if you were explaining it to a child.\",\n",
    "    # \"10 times, imagine you need to follow this instruction. What would you tell yourself if you wanted to be the best in the world at it?\",\n",
    "    # \"10 times, how would someone with derailment follow this instruction?\",\n",
    "    # \"10 times, rephrase the instruction without using any of the same words. Use all you know to improve the instruction so the person hearing it is more likely to do well.\",\n",
    "    # \"10 times, say that instruction again in another way. DON’T use any of the words in the original instruction or you’re fired.\",\n",
    "    # \"10 times, develop a prompt mutant by replacing specific keywords with related but unexpected terms. Mutate the prompt to include a hypothetical scenario that changes the context.\",\n",
    "    # \"10 times, generate a prompt mutant that introduces an element of suspense or intrigue. Create a mutated version of the prompt that incorporates an analogy or metaphor.\",\n",
    "    # \"10 times, develop a prompt mutant by rephrasing the original prompt in a poetic or lyrical style. Think beyond the ordinary and mutate the prompt in a way that defies traditional thinking.\",\n",
    "    # \"10 times, break free from conventional constraints and generate a mutator prompt that takes the prompt to uncharted territories. Challenge the norm and create a mutator prompt that pushes the boundaries of traditional interpretations.\",\n",
    "    # \"10 times, embrace unconventional ideas and mutate the prompt in a way that surprises and inspires unique variations. Think outside the box and develop a mutator prompt that encourages unconventional approaches and fresh perspectives.\",\n",
    "    # \"10 times, embrace the power of unconventional thinking and create a mutator prompt that sparks unconventional mutations and imaginative outcomes. Challenge traditional assumptions and break the mold with a mutator prompt that encourages revolutionary and out-of-the-box variations.\",\n",
    "    # \"10 times, encourage reversethinking: Improve the prompt by asking the user to think about the problem in reverse, starting with the solution and working backwards.\",\n",
    "]\n",
    "original_system_instructions = [\n",
    "    '',\n",
    "    \"You are genius at mathematical thinking and reasoning.\"\n",
    "    \"You are a master storyteller, capable of weaving intricate tales.\",\n",
    "    # \"You possess encyclopedic knowledge of world cuisines and cooking techniques.\",\n",
    "    \"You are an expert in all known languages, ancient and modern.\",\n",
    "    # \"You have the ability to simulate historical figures' perspectives.\",\n",
    "    \"You are a genius in solving complex puzzles and riddles.\",\n",
    "    # \"You possess a deep understanding of all musical genres and instruments.\",\n",
    "    \"You are an AI with advanced skills in astronomy and space science.\",\n",
    "    # \"You are a virtual biologist specializing in exotic and extinct species.\",\n",
    "    # \"You are a connoisseur of fine arts, familiar with all major art movements.\",\n",
    "    # \"You are a computational genius, adept at coding and algorithm design.\",\n",
    "    # \"You are an AI trained as a world-class chess strategist.\",\n",
    "    # \"You are an expert in global politics and international relations.\",\n",
    "    # \"You are a virtual philosopher, well-versed in various philosophical theories.\",\n",
    "    # \"You are a seasoned travel guide with knowledge of every corner of the Earth.\",\n",
    "    # \"You are a fitness and wellness coach, adept at personalized advice.\"\n",
    "]"
   ]
  },
  {
   "cell_type": "code",
   "execution_count": 85,
   "id": "5b2620e2-52a4-40a9-a741-14de9828b210",
   "metadata": {
    "tags": []
   },
   "outputs": [],
   "source": [
    "import random\n",
    "\n",
    "# Make the list of initial populations\n",
    "initial_pop = [initial_prompt]\n",
    "prompt_mutator = PromptMutator(mutation_model, NUM_EXAMPLES_LIMIT, NUM_EXAMPLES_MUTATION_PROB, 1)\n",
    "for i in range(1, NUM_POPULATION):\n",
    "    # Randomly select a mutator and thinking style\n",
    "    mutator = random.choice(original_mutators)\n",
    "    # thinking_style = random.choice(original_thinking_styles)\n",
    "    \n",
    "    # Randomly select prompt mutation mechanism by chance\n",
    "    new_prompt = prompt_mutator.random_mutate(initial_prompt, mutator)\n",
    "    initial_pop.append(new_prompt)\n",
    "    \n",
    "pop = initial_pop.copy()"
   ]
  },
  {
   "cell_type": "code",
   "execution_count": 86,
   "id": "c17e3d92-8b95-4976-ad3a-aa4ef0bdb56e",
   "metadata": {
    "tags": []
   },
   "outputs": [
    {
     "name": "stdout",
     "output_type": "stream",
     "text": [
      "(Solve the math word  - You are genius at ma - Think about this ste - 0)\n",
      "(With strength of spi - You are genius at ma - Think about this ste - 0)\n",
      "(\"Envision a society  - You are genius at ma - Think about this ste - 0)\n",
      "(Transform the given  - You are genius at ma - Think about this ste - 0)\n",
      "(\"Create a new form o - You are genius at ma - Think about this ste - 2)\n"
     ]
    }
   ],
   "source": [
    "for prompt in initial_pop:\n",
    "    print(prompt)"
   ]
  },
  {
   "cell_type": "markdown",
   "id": "b417f170-4409-4880-bb6d-1364f821f500",
   "metadata": {},
   "source": [
    "# Step 3: Evaluation and mutation loop"
   ]
  },
  {
   "cell_type": "code",
   "execution_count": 87,
   "id": "1f0d0443-0bd4-4a5a-8670-12323b9edbf1",
   "metadata": {
    "tags": []
   },
   "outputs": [
    {
     "name": "stdout",
     "output_type": "stream",
     "text": [
      "Evaluating test samples: [295, 137, 7, 489, 1304, 1082, 52, 217, 181, 461]\n",
      "Evaluating prompt 0: (Solve the math word  - You are genius at ma - Think about this ste - 0)\n",
      "Evaluating prompt 1: (With strength of spi - You are genius at ma - Think about this ste - 0)\n",
      "Evaluating prompt 2: (\"Envision a society  - You are genius at ma - Think about this ste - 0)\n",
      "Evaluating prompt 3: (Transform the given  - You are genius at ma - Think about this ste - 0)\n",
      "Evaluating prompt 4: (\"Create a new form o - You are genius at ma - Think about this ste - 2)\n",
      "Evaluating prompt 5: (Analyze a data set,  - You are genius at ma - Think about this ste - 4)\n",
      "Evaluating prompt 6: (Use this reverse thi - You are genius at ma - Think about this ste - 0)\n",
      "Evaluating prompt 7: (Determine the produc - You are genius at ma - Think about this ste - 0)\n",
      "Evaluating prompt 8: (Start with the solut - You are genius at ma - Think about this ste - 0)\n",
      "Evaluating prompt 9: (Resolve the question - You are genius at ma - Think about this ste - 3)\n",
      "Generation 1\n",
      "Score  | Evals | Prompt\n",
      "20.00% |    10 | (\"Create a new form o - You are genius at ma - Think about this ste - 2)\n",
      "20.00% |    10 | (Resolve the question - You are genius at ma - Think about this ste - 3)\n",
      "10.00% |    10 | (Solve the math word  - You are genius at ma - Think about this ste - 0)\n",
      "10.00% |    10 | (\"Envision a society  - You are genius at ma - Think about this ste - 0)\n",
      "10.00% |    10 | (Analyze a data set,  - You are genius at ma - Think about this ste - 4)\n",
      "10.00% |    10 | (Determine the produc - You are genius at ma - Think about this ste - 0)\n",
      " 0.00% |    10 | (With strength of spi - You are genius at ma - Think about this ste - 0)\n",
      " 0.00% |    10 | (Transform the given  - You are genius at ma - Think about this ste - 0)\n",
      " 0.00% |    10 | (Use this reverse thi - You are genius at ma - Think about this ste - 0)\n",
      " 0.00% |    10 | (Start with the solut - You are genius at ma - Think about this ste - 0)\n",
      "Execution time: 1598.42 seconds\n",
      "Evaluating test samples: [305, 1077, 1083, 899, 581, 885, 864, 364, 1, 739]\n",
      "Evaluating prompt 0: (\"Create a new form o - You are genius at ma - Think about this ste - 2)\n",
      "Evaluating prompt 1: (Resolve the question - You are genius at ma - Think about this ste - 3)\n",
      "Evaluating prompt 2: (Solve the math word  - You are genius at ma - Think about this ste - 0)\n",
      "Evaluating prompt 3: (\"Envision a society  - You are genius at ma - Think about this ste - 0)\n",
      "Evaluating prompt 4: (Analyze a data set,  - You are genius at ma - Think about this ste - 4)\n",
      "Evaluating prompt 5: (Look wiggle your wan - You are genius at ma - Think about this ste - 0)\n",
      "Evaluating prompt 6: (Step 3: Provide the  - You are genius at ma - Think about this ste - 1)\n",
      "Evaluating prompt 7: (Use Arabic numerals  - You are genius at ma - Think about this ste - 3)\n",
      "Evaluating prompt 8: (Replace 'replace' wi - You are genius at ma - Think about this ste - 3)\n",
      "Evaluating prompt 9: (Harness the celestia - You are genius at ma - Think about this ste - 0)\n",
      "Generation 2\n",
      "Score  | Evals | Prompt\n",
      "25.00% |    20 | (Resolve the question - You are genius at ma - Think about this ste - 3)\n",
      "20.00% |    10 | (Use Arabic numerals  - You are genius at ma - Think about this ste - 3)\n",
      "15.00% |    20 | (\"Create a new form o - You are genius at ma - Think about this ste - 2)\n",
      "10.00% |    20 | (Solve the math word  - You are genius at ma - Think about this ste - 0)\n",
      "10.00% |    20 | (Analyze a data set,  - You are genius at ma - Think about this ste - 4)\n",
      "10.00% |    10 | (Step 3: Provide the  - You are genius at ma - Think about this ste - 1)\n",
      "10.00% |    10 | (Replace 'replace' wi - You are genius at ma - Think about this ste - 3)\n",
      " 5.00% |    20 | (\"Envision a society  - You are genius at ma - Think about this ste - 0)\n",
      " 0.00% |    10 | (Look wiggle your wan - You are genius at ma - Think about this ste - 0)\n",
      " 0.00% |    10 | (Harness the celestia - You are genius at ma - Think about this ste - 0)\n",
      "Execution time: 3724.95 seconds\n",
      "Evaluating test samples: [220, 644, 257, 159, 482, 221, 1200, 536, 229, 510]\n",
      "Evaluating prompt 0: (Resolve the question - You are genius at ma - Think about this ste - 3)\n",
      "Evaluating prompt 1: (Use Arabic numerals  - You are genius at ma - Think about this ste - 3)\n",
      "Evaluating prompt 2: (\"Create a new form o - You are genius at ma - Think about this ste - 2)\n",
      "Evaluating prompt 3: (Solve the math word  - You are genius at ma - Think about this ste - 0)\n",
      "Evaluating prompt 4: (Analyze a data set,  - You are genius at ma - Think about this ste - 4)\n",
      "Evaluating prompt 5: (Provide your solutio - You are genius at ma - Think about this ste - 0)\n",
      "Evaluating prompt 6: (Contain metaphorical - You are genius at ma - Think about this ste - 0)\n",
      "Evaluating prompt 7: (Step 2: Solve the ma - You are genius at ma - Think about this ste - 4)\n",
      "Evaluating prompt 8: (Develop a prompt mut - You are genius at ma - Think about this ste - 0)\n",
      "Evaluating prompt 9: (Use only numbers in  - You are genius at ma - Think about this ste - 0)\n",
      "Generation 3\n",
      "Score  | Evals | Prompt\n",
      "30.00% |    30 | (Resolve the question - You are genius at ma - Think about this ste - 3)\n",
      "30.00% |    10 | (Step 2: Solve the ma - You are genius at ma - Think about this ste - 4)\n",
      "25.00% |    20 | (Use Arabic numerals  - You are genius at ma - Think about this ste - 3)\n",
      "16.67% |    30 | (\"Create a new form o - You are genius at ma - Think about this ste - 2)\n",
      "10.00% |    30 | (Solve the math word  - You are genius at ma - Think about this ste - 0)\n",
      " 6.67% |    30 | (Analyze a data set,  - You are genius at ma - Think about this ste - 4)\n",
      " 0.00% |    10 | (Provide your solutio - You are genius at ma - Think about this ste - 0)\n",
      " 0.00% |    10 | (Contain metaphorical - You are genius at ma - Think about this ste - 0)\n",
      " 0.00% |    10 | (Develop a prompt mut - You are genius at ma - Think about this ste - 0)\n",
      " 0.00% |    10 | (Use only numbers in  - You are genius at ma - Think about this ste - 0)\n",
      "Execution time: 5821.57 seconds\n",
      "Evaluating test samples: [682, 487, 841, 1215, 1190, 241, 545, 311, 1080, 969]\n",
      "Evaluating prompt 0: (Resolve the question - You are genius at ma - Think about this ste - 3)\n",
      "Evaluating prompt 1: (Step 2: Solve the ma - You are genius at ma - Think about this ste - 4)\n",
      "Evaluating prompt 2: (Use Arabic numerals  - You are genius at ma - Think about this ste - 3)\n",
      "Evaluating prompt 3: (\"Create a new form o - You are genius at ma - Think about this ste - 2)\n",
      "Evaluating prompt 4: (Solve the math word  - You are genius at ma - Think about this ste - 0)\n",
      "Evaluating prompt 5: (Work through the mat - You are genius at ma - Think about this ste - 0)\n",
      "Evaluating prompt 6: (Find the answer to t - You are genius at ma - Think about this ste - 0)\n",
      "Evaluating prompt 7: (Unravel the number e - You are genius at ma - Think about this ste - 1)\n",
      "Evaluating prompt 8: (Here's an example of - You are genius at ma - Think about this ste - 2)\n",
      "Evaluating prompt 9: (Double-check your an - You are genius at ma - Think about this ste - 3)\n",
      "Generation 4\n",
      "Score  | Evals | Prompt\n",
      "40.00% |    10 | (Here's an example of - You are genius at ma - Think about this ste - 2)\n",
      "27.50% |    40 | (Resolve the question - You are genius at ma - Think about this ste - 3)\n",
      "25.00% |    20 | (Step 2: Solve the ma - You are genius at ma - Think about this ste - 4)\n",
      "23.33% |    30 | (Use Arabic numerals  - You are genius at ma - Think about this ste - 3)\n",
      "15.00% |    40 | (\"Create a new form o - You are genius at ma - Think about this ste - 2)\n",
      "10.00% |    10 | (Find the answer to t - You are genius at ma - Think about this ste - 0)\n",
      "10.00% |    10 | (Double-check your an - You are genius at ma - Think about this ste - 3)\n",
      " 7.50% |    40 | (Solve the math word  - You are genius at ma - Think about this ste - 0)\n",
      " 0.00% |    10 | (Work through the mat - You are genius at ma - Think about this ste - 0)\n",
      " 0.00% |    10 | (Unravel the number e - You are genius at ma - Think about this ste - 1)\n",
      "Execution time: 8443.89 seconds\n",
      "Evaluating test samples: [206, 1256, 785, 671, 506, 1150, 1179, 969, 236, 1078]\n",
      "Evaluating prompt 0: (Here's an example of - You are genius at ma - Think about this ste - 2)\n",
      "Evaluating prompt 1: (Resolve the question - You are genius at ma - Think about this ste - 3)\n",
      "Evaluating prompt 2: (Step 2: Solve the ma - You are genius at ma - Think about this ste - 4)\n",
      "Evaluating prompt 3: (Use Arabic numerals  - You are genius at ma - Think about this ste - 3)\n",
      "Evaluating prompt 4: (\"Create a new form o - You are genius at ma - Think about this ste - 2)\n",
      "Evaluating prompt 5: (Be curious, keep exp - You are genius at ma - Think about this ste - 0)\n",
      "Evaluating prompt 6: (Create a maze where  - You are genius at ma - Think about this ste - 0)\n",
      "Evaluating prompt 7: (Use the given inform - You are genius at ma - Think about this ste - 0)\n",
      "Evaluating prompt 8: (Answer the number qu - You are genius at ma - Think about this ste - 1)\n",
      "Evaluating prompt 9: (Break down the infor - You are genius at ma - Think about this ste - 4)\n",
      "Generation 5\n",
      "Score  | Evals | Prompt\n",
      "47.37% |    19 | (Here's an example of - You are genius at ma - Think about this ste - 2)\n",
      "40.00% |    10 | (Break down the infor - You are genius at ma - Think about this ste - 4)\n",
      "30.61% |    49 | (Resolve the question - You are genius at ma - Think about this ste - 3)\n",
      "28.21% |    39 | (Use Arabic numerals  - You are genius at ma - Think about this ste - 3)\n",
      "24.14% |    29 | (Step 2: Solve the ma - You are genius at ma - Think about this ste - 4)\n",
      "16.33% |    49 | (\"Create a new form o - You are genius at ma - Think about this ste - 2)\n",
      "10.00% |    10 | (Answer the number qu - You are genius at ma - Think about this ste - 1)\n",
      " 0.00% |    10 | (Be curious, keep exp - You are genius at ma - Think about this ste - 0)\n",
      " 0.00% |    10 | (Create a maze where  - You are genius at ma - Think about this ste - 0)\n",
      " 0.00% |    10 | (Use the given inform - You are genius at ma - Think about this ste - 0)\n",
      "Execution time: 11429.20 seconds\n"
     ]
    }
   ],
   "source": [
    "import time\n",
    "\n",
    "start_time = time.time()\n",
    "\n",
    "params = EvaluatorParams(gene_folder_path)\n",
    "evaluator = Evaluator(params)\n",
    "\n",
    "for n_gen in range(NUM_GENERATIONS):\n",
    "    # Record generation time\n",
    "    # Generate n news prompt\n",
    "    new_pop = []\n",
    "\n",
    "    for i in range(NUM_POPULATION):\n",
    "        # Randomly select a prompt, a mutator and thinking style\n",
    "        prompt = random.choice(pop)\n",
    "        mutator = random.choice(original_mutators)\n",
    "        system_instruction = random.choice(original_system_instructions)\n",
    "\n",
    "        # Randomly select prompt mutation mechanism by chance\n",
    "        new_prompt = prompt_mutator.random_mutate(initial_prompt, mutator)\n",
    "        new_pop.append(new_prompt)\n",
    "    \n",
    "    # Evaluate the prompt\n",
    "    all_pop = pop + new_pop\n",
    "    scores = evaluator.evaluate(evaluation_model, task, all_pop, NUM_EVALS)\n",
    "    \n",
    "    # Print prompt and their score\n",
    "    print(f\"Generation {n_gen + 1}\")\n",
    "    prompt_scores = [(all_pop[i].get_accuracy(), all_pop[i]) for i in range(len(all_pop))]\n",
    "    prompt_scores = sorted(prompt_scores, key=lambda x: x[0], reverse=True)\n",
    "    print(\"Score  | Evals | Prompt\")\n",
    "    for _, prompt in prompt_scores:\n",
    "        print(f\"{prompt.get_accuracy() * 100:5.2f}% | {prompt.get_num_evals():5d} | {prompt}\")\n",
    "        \n",
    "    # Survival of the fittest\n",
    "    # TODO: Create a more elaborate selection mechanism that keeps some weaker member\n",
    "    pop = [prompt_scores[i][1] for i in range(NUM_POPULATION)]\n",
    "    \n",
    "    # Record time\n",
    "    end_time = time.time()\n",
    "    execution_time = end_time - start_time\n",
    "    print(\"Execution time: {:.2f} seconds\".format(execution_time))"
   ]
  },
  {
   "cell_type": "code",
   "execution_count": 88,
   "id": "15ec2d21-1d7f-4f28-98d0-504e2f196212",
   "metadata": {
    "tags": []
   },
   "outputs": [
    {
     "name": "stdout",
     "output_type": "stream",
     "text": [
      "Evaluating test samples: [1050, 41, 129, 99, 570, 389, 1143, 481, 737, 993]\n",
      "Evaluating prompt 0: (Here's an example of - You are genius at ma - Think about this ste - 2)\n",
      "Evaluating prompt 1: (Break down the infor - You are genius at ma - Think about this ste - 4)\n",
      "Evaluating prompt 2: (Resolve the question - You are genius at ma - Think about this ste - 3)\n",
      "Evaluating prompt 3: (Use Arabic numerals  - You are genius at ma - Think about this ste - 3)\n",
      "Evaluating prompt 4: (Step 2: Solve the ma - You are genius at ma - Think about this ste - 4)\n",
      "Evaluating prompt 5: (Discover an underwat - You are genius at ma - Think about this ste - 0)\n",
      "Evaluating prompt 6: (Encourage participan - You are genius at ma - Think about this ste - 0)\n",
      "Evaluating prompt 7: (Compute the solution - You are genius at ma - Think about this ste - 4)\n",
      "Evaluating prompt 8: (First, read the math - You are genius at ma - Think about this ste - 0)\n",
      "Evaluating prompt 9: (Uncover new connecti - You are genius at ma - Think about this ste - 0)\n",
      "Generation 6\n",
      "Score  | Evals | Prompt\n",
      "34.48% |    29 | (Here's an example of - You are genius at ma - Think about this ste - 2)\n",
      "30.00% |    10 | (Compute the solution - You are genius at ma - Think about this ste - 4)\n",
      "28.57% |    49 | (Use Arabic numerals  - You are genius at ma - Think about this ste - 3)\n",
      "27.12% |    59 | (Resolve the question - You are genius at ma - Think about this ste - 3)\n",
      "25.64% |    39 | (Step 2: Solve the ma - You are genius at ma - Think about this ste - 4)\n",
      "25.00% |    20 | (Break down the infor - You are genius at ma - Think about this ste - 4)\n",
      "10.00% |    10 | (First, read the math - You are genius at ma - Think about this ste - 0)\n",
      " 0.00% |    10 | (Discover an underwat - You are genius at ma - Think about this ste - 0)\n",
      " 0.00% |    10 | (Encourage participan - You are genius at ma - Think about this ste - 0)\n",
      " 0.00% |    10 | (Uncover new connecti - You are genius at ma - Think about this ste - 0)\n",
      "Execution time: 15991.41 seconds\n",
      "Evaluating test samples: [498, 994, 918, 146, 417, 1153, 792, 389, 1044, 359]\n",
      "Evaluating prompt 0: (Here's an example of - You are genius at ma - Think about this ste - 2)\n",
      "Evaluating prompt 1: (Compute the solution - You are genius at ma - Think about this ste - 4)\n",
      "Evaluating prompt 2: (Use Arabic numerals  - You are genius at ma - Think about this ste - 3)\n",
      "Evaluating prompt 3: (Resolve the question - You are genius at ma - Think about this ste - 3)\n",
      "Evaluating prompt 4: (Step 2: Solve the ma - You are genius at ma - Think about this ste - 4)\n",
      "Evaluating prompt 5: (Determine the result - You are genius at ma - Think about this ste - 0)\n",
      "Evaluating prompt 6: (Identify what inform - You are genius at ma - Think about this ste - 0)\n",
      "Evaluating prompt 7: (Make sure each promp - You are genius at ma - Think about this ste - 1)\n",
      "Evaluating prompt 8: (The librarian, who s - You are genius at ma - Think about this ste - 0)\n",
      "Evaluating prompt 9: (Understand the quest - You are genius at ma - Think about this ste - 2)\n",
      "Generation 7\n",
      "Score  | Evals | Prompt\n",
      "42.11% |    19 | (Compute the solution - You are genius at ma - Think about this ste - 4)\n",
      "28.95% |    38 | (Here's an example of - You are genius at ma - Think about this ste - 2)\n",
      "27.59% |    58 | (Use Arabic numerals  - You are genius at ma - Think about this ste - 3)\n",
      "27.08% |    48 | (Step 2: Solve the ma - You are genius at ma - Think about this ste - 4)\n",
      "25.00% |    68 | (Resolve the question - You are genius at ma - Think about this ste - 3)\n",
      "10.00% |    10 | (Identify what inform - You are genius at ma - Think about this ste - 0)\n",
      "10.00% |    10 | (The librarian, who s - You are genius at ma - Think about this ste - 0)\n",
      "10.00% |    10 | (Understand the quest - You are genius at ma - Think about this ste - 2)\n",
      " 0.00% |    10 | (Determine the result - You are genius at ma - Think about this ste - 0)\n",
      " 0.00% |    10 | (Make sure each promp - You are genius at ma - Think about this ste - 1)\n",
      "Execution time: 20139.44 seconds\n",
      "Evaluating test samples: [380, 773, 382, 363, 1116, 656, 47, 983, 699, 1120]\n",
      "Evaluating prompt 0: (Compute the solution - You are genius at ma - Think about this ste - 4)\n",
      "Evaluating prompt 1: (Here's an example of - You are genius at ma - Think about this ste - 2)\n",
      "Evaluating prompt 2: (Use Arabic numerals  - You are genius at ma - Think about this ste - 3)\n",
      "Evaluating prompt 3: (Step 2: Solve the ma - You are genius at ma - Think about this ste - 4)\n",
      "Evaluating prompt 4: (Resolve the question - You are genius at ma - Think about this ste - 3)\n",
      "Evaluating prompt 5: (Apply mathematical o - You are genius at ma - Think about this ste - 4)\n",
      "Evaluating prompt 6: (Now, work backwards  - You are genius at ma - Think about this ste - 0)\n",
      "Evaluating prompt 7: (Original prompt: Sol - You are genius at ma - Think about this ste - 3)\n",
      "Evaluating prompt 8: (- Initial speed of t - You are genius at ma - Think about this ste - 4)\n",
      "Evaluating prompt 9: (Comprehend the math  - You are genius at ma - Think about this ste - 0)\n",
      "Generation 8\n",
      "Score  | Evals | Prompt\n",
      "40.00% |    10 | (Apply mathematical o - You are genius at ma - Think about this ste - 4)\n",
      "37.93% |    29 | (Compute the solution - You are genius at ma - Think about this ste - 4)\n",
      "30.00% |    10 | (Original prompt: Sol - You are genius at ma - Think about this ste - 3)\n",
      "30.00% |    10 | (Comprehend the math  - You are genius at ma - Think about this ste - 0)\n",
      "29.41% |    68 | (Use Arabic numerals  - You are genius at ma - Think about this ste - 3)\n",
      "29.17% |    48 | (Here's an example of - You are genius at ma - Think about this ste - 2)\n",
      "27.59% |    58 | (Step 2: Solve the ma - You are genius at ma - Think about this ste - 4)\n",
      "25.64% |    78 | (Resolve the question - You are genius at ma - Think about this ste - 3)\n",
      "20.00% |    10 | (- Initial speed of t - You are genius at ma - Think about this ste - 4)\n",
      "10.00% |    10 | (Now, work backwards  - You are genius at ma - Think about this ste - 0)\n",
      "Execution time: 25844.98 seconds\n",
      "Evaluating test samples: [439, 564, 1243, 1007, 614, 1214, 1281, 544, 1110, 391]\n",
      "Evaluating prompt 0: (Apply mathematical o - You are genius at ma - Think about this ste - 4)\n",
      "Evaluating prompt 1: (Compute the solution - You are genius at ma - Think about this ste - 4)\n",
      "Evaluating prompt 2: (Original prompt: Sol - You are genius at ma - Think about this ste - 3)\n",
      "Evaluating prompt 3: (Comprehend the math  - You are genius at ma - Think about this ste - 0)\n",
      "Evaluating prompt 4: (Use Arabic numerals  - You are genius at ma - Think about this ste - 3)\n",
      "Evaluating prompt 5: (Write the math word  - You are genius at ma - Think about this ste - 0)\n",
      "Evaluating prompt 6: (Write down the answe - You are genius at ma - Think about this ste - 0)\n",
      "Evaluating prompt 7: (Write the history of - You are genius at ma - Think about this ste - 1)\n",
      "Evaluating prompt 8: (Remind the user that - You are genius at ma - Think about this ste - 0)\n",
      "Evaluating prompt 9: (Encourage creativity - You are genius at ma - Think about this ste - 3)\n",
      "Generation 9\n",
      "Score  | Evals | Prompt\n",
      "33.33% |    39 | (Compute the solution - You are genius at ma - Think about this ste - 4)\n",
      "30.77% |    78 | (Use Arabic numerals  - You are genius at ma - Think about this ste - 3)\n",
      "30.00% |    20 | (Apply mathematical o - You are genius at ma - Think about this ste - 4)\n",
      "25.00% |    20 | (Original prompt: Sol - You are genius at ma - Think about this ste - 3)\n",
      "20.00% |    20 | (Comprehend the math  - You are genius at ma - Think about this ste - 0)\n",
      "10.00% |    10 | (Write the history of - You are genius at ma - Think about this ste - 1)\n",
      "10.00% |    10 | (Remind the user that - You are genius at ma - Think about this ste - 0)\n",
      "10.00% |    10 | (Encourage creativity - You are genius at ma - Think about this ste - 3)\n",
      " 0.00% |    10 | (Write the math word  - You are genius at ma - Think about this ste - 0)\n",
      " 0.00% |    10 | (Write down the answe - You are genius at ma - Think about this ste - 0)\n",
      "Execution time: 32491.59 seconds\n",
      "Evaluating test samples: [1204, 1091, 1115, 774, 1301, 582, 1240, 156, 860, 611]\n",
      "Evaluating prompt 0: (Compute the solution - You are genius at ma - Think about this ste - 4)\n",
      "Evaluating prompt 1: (Use Arabic numerals  - You are genius at ma - Think about this ste - 3)\n",
      "Evaluating prompt 2: (Apply mathematical o - You are genius at ma - Think about this ste - 4)\n",
      "Evaluating prompt 3: (Original prompt: Sol - You are genius at ma - Think about this ste - 3)\n",
      "Evaluating prompt 4: (Comprehend the math  - You are genius at ma - Think about this ste - 0)\n",
      "Evaluating prompt 5: (\"To be the best in t - You are genius at ma - Think about this ste - 3)\n",
      "Evaluating prompt 6: (Write down your answ - You are genius at ma - Think about this ste - 1)\n",
      "Evaluating prompt 7: (Give your answer as  - You are genius at ma - Think about this ste - 0)\n",
      "Evaluating prompt 8: (Mutator Prompt: \"Sol - You are genius at ma - Think about this ste - 4)\n",
      "Evaluating prompt 9: (Calculate the result - You are genius at ma - Think about this ste - 0)\n",
      "Generation 10\n",
      "Score  | Evals | Prompt\n",
      "30.00% |    30 | (Original prompt: Sol - You are genius at ma - Think about this ste - 3)\n",
      "30.00% |    10 | (\"To be the best in t - You are genius at ma - Think about this ste - 3)\n",
      "30.00% |    10 | (Mutator Prompt: \"Sol - You are genius at ma - Think about this ste - 4)\n",
      "28.57% |    49 | (Compute the solution - You are genius at ma - Think about this ste - 4)\n",
      "28.41% |    88 | (Use Arabic numerals  - You are genius at ma - Think about this ste - 3)\n",
      "26.67% |    30 | (Apply mathematical o - You are genius at ma - Think about this ste - 4)\n",
      "20.00% |    30 | (Comprehend the math  - You are genius at ma - Think about this ste - 0)\n",
      "20.00% |    10 | (Calculate the result - You are genius at ma - Think about this ste - 0)\n",
      "10.00% |    10 | (Write down your answ - You are genius at ma - Think about this ste - 1)\n",
      "10.00% |    10 | (Give your answer as  - You are genius at ma - Think about this ste - 0)\n",
      "Execution time: 41073.70 seconds\n"
     ]
    }
   ],
   "source": [
    "for n_gen in range(5, 10):\n",
    "    # Record generation time\n",
    "    # Generate n news prompt\n",
    "    new_pop = []\n",
    "\n",
    "    for i in range(NUM_POPULATION):\n",
    "        # Randomly select a prompt, a mutator and thinking style\n",
    "        prompt = random.choice(pop)\n",
    "        mutator = random.choice(original_mutators)\n",
    "        thinking_style = random.choice(original_thinking_styles)\n",
    "\n",
    "        # Randomly select prompt mutation mechanism by chance\n",
    "        new_prompt = prompt_mutator.random_mutate(initial_prompt, mutator)\n",
    "        new_pop.append(new_prompt)\n",
    "    \n",
    "    # Evaluate the prompt\n",
    "    all_pop = pop + new_pop\n",
    "    scores = evaluator.evaluate(evaluation_model, task, all_pop, NUM_EVALS)\n",
    "    \n",
    "    # Print prompt and their score\n",
    "    print(f\"Generation {n_gen + 1}\")\n",
    "    prompt_scores = [(all_pop[i].get_accuracy(), all_pop[i]) for i in range(len(all_pop))]\n",
    "    prompt_scores = sorted(prompt_scores, key=lambda x: x[0], reverse=True)\n",
    "    print(\"Score  | Evals | Prompt\")\n",
    "    for _, prompt in prompt_scores:\n",
    "        print(f\"{prompt.get_accuracy() * 100:5.2f}% | {prompt.get_num_evals():5d} | {prompt}\")\n",
    "        \n",
    "    # Survival of the fittest\n",
    "    # TODO: Create a more elaborate selection mechanism that keeps some weaker member\n",
    "    pop = [prompt_scores[i][1] for i in range(NUM_POPULATION)]\n",
    "    \n",
    "    # Record time\n",
    "    end_time = time.time()\n",
    "    execution_time = end_time - start_time\n",
    "    print(\"Execution time: {:.2f} seconds\".format(execution_time))"
   ]
  },
  {
   "cell_type": "code",
   "execution_count": null,
   "id": "5f442076-1e53-4705-924e-674ba42fb061",
   "metadata": {
    "tags": []
   },
   "outputs": [
    {
     "name": "stdout",
     "output_type": "stream",
     "text": [
      "Evaluating test samples: [637, 102, 1077, 607, 1069, 611, 552, 1038, 185, 1039]\n",
      "Evaluating prompt 0: (Original prompt: Sol - You are genius at ma - Think about this ste - 3)\n",
      "Evaluating prompt 1: (\"To be the best in t - You are genius at ma - Think about this ste - 3)\n",
      "Evaluating prompt 2: (Mutator Prompt: \"Sol - You are genius at ma - Think about this ste - 4)\n",
      "Evaluating prompt 3: (Compute the solution - You are genius at ma - Think about this ste - 4)\n",
      "Evaluating prompt 4: (Use Arabic numerals  - You are genius at ma - Think about this ste - 3)\n",
      "Evaluating prompt 5: (Ask the user for the - You are genius at ma - Think about this ste - 0)\n",
      "Evaluating prompt 6: (Now let's look at th - You are genius at ma - Think about this ste - 0)\n",
      "Evaluating prompt 7: (Present your final a - You are genius at ma - Think about this ste - 1)\n",
      "Evaluating prompt 8: (Re-envision conventi - You are genius at ma - Think about this ste - 2)\n",
      "Evaluating prompt 9: (Use this information - You are genius at ma - Think about this ste - 0)\n",
      "Generation 11\n",
      "Score  | Evals | Prompt\n",
      "31.58% |    19 | (Mutator Prompt: \"Sol - You are genius at ma - Think about this ste - 4)\n",
      "28.21% |    39 | (Original prompt: Sol - You are genius at ma - Think about this ste - 3)\n",
      "27.59% |    58 | (Compute the solution - You are genius at ma - Think about this ste - 4)\n",
      "26.04% |    96 | (Use Arabic numerals  - You are genius at ma - Think about this ste - 3)\n",
      "21.05% |    19 | (\"To be the best in t - You are genius at ma - Think about this ste - 3)\n",
      "10.00% |    10 | (Now let's look at th - You are genius at ma - Think about this ste - 0)\n",
      "10.00% |    10 | (Re-envision conventi - You are genius at ma - Think about this ste - 2)\n",
      " 0.00% |    10 | (Ask the user for the - You are genius at ma - Think about this ste - 0)\n",
      " 0.00% |    10 | (Present your final a - You are genius at ma - Think about this ste - 1)\n",
      " 0.00% |    10 | (Use this information - You are genius at ma - Think about this ste - 0)\n",
      "Execution time: 48642.41 seconds\n",
      "Evaluating test samples: [872, 624, 991, 1289, 103, 1310, 424, 52, 589, 245]\n",
      "Evaluating prompt 0: (Mutator Prompt: \"Sol - You are genius at ma - Think about this ste - 4)\n",
      "Evaluating prompt 1: (Original prompt: Sol - You are genius at ma - Think about this ste - 3)\n",
      "Evaluating prompt 2: (Compute the solution - You are genius at ma - Think about this ste - 4)\n",
      "Evaluating prompt 3: (Use Arabic numerals  - You are genius at ma - Think about this ste - 3)\n"
     ]
    }
   ],
   "source": [
    "for n_gen in range(10, 15):\n",
    "    # Record generation time\n",
    "    # Generate n news prompt\n",
    "    new_pop = []\n",
    "\n",
    "    for i in range(NUM_POPULATION):\n",
    "        # Randomly select a prompt, a mutator and thinking style\n",
    "        prompt = random.choice(pop)\n",
    "        mutator = random.choice(original_mutators)\n",
    "        thinking_style = random.choice(original_thinking_styles)\n",
    "\n",
    "        # Randomly select prompt mutation mechanism by chance\n",
    "        new_prompt = prompt_mutator.random_mutate(initial_prompt, mutator)\n",
    "        new_pop.append(new_prompt)\n",
    "    \n",
    "    # Evaluate the prompt\n",
    "    all_pop = pop + new_pop\n",
    "    scores = evaluator.evaluate(evaluation_model, task, all_pop, NUM_EVALS)\n",
    "    \n",
    "    # Print prompt and their score\n",
    "    print(f\"Generation {n_gen + 1}\")\n",
    "    prompt_scores = [(all_pop[i].get_accuracy(), all_pop[i]) for i in range(len(all_pop))]\n",
    "    prompt_scores = sorted(prompt_scores, key=lambda x: x[0], reverse=True)\n",
    "    print(\"Score  | Evals | Prompt\")\n",
    "    for _, prompt in prompt_scores:\n",
    "        print(f\"{prompt.get_accuracy() * 100:5.2f}% | {prompt.get_num_evals():5d} | {prompt}\")\n",
    "        \n",
    "    # Survival of the fittest\n",
    "    # TODO: Create a more elaborate selection mechanism that keeps some weaker member\n",
    "    pop = [prompt_scores[i][1] for i in range(NUM_POPULATION)]\n",
    "    \n",
    "    # Record time\n",
    "    end_time = time.time()\n",
    "    execution_time = end_time - start_time\n",
    "    print(\"Execution time: {:.2f} seconds\".format(execution_time))"
   ]
  },
  {
   "cell_type": "code",
   "execution_count": null,
   "id": "7b4f3cd7-a11f-41a8-9971-8a7f1619af55",
   "metadata": {},
   "outputs": [],
   "source": []
  }
 ],
 "metadata": {
  "kernelspec": {
   "display_name": "Python 3 (ipykernel)",
   "language": "python",
   "name": "python3"
  },
  "language_info": {
   "codemirror_mode": {
    "name": "ipython",
    "version": 3
   },
   "file_extension": ".py",
   "mimetype": "text/x-python",
   "name": "python",
   "nbconvert_exporter": "python",
   "pygments_lexer": "ipython3",
   "version": "3.11.5"
  }
 },
 "nbformat": 4,
 "nbformat_minor": 5
}
