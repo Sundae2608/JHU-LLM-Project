{
 "cells": [
  {
   "cell_type": "code",
   "execution_count": 15,
   "metadata": {},
   "outputs": [],
   "source": [
    "import openai  # for making OpenAI API requests\n",
    "from datasets import load_dataset\n",
    "import tiktoken\n",
    "import numpy as np\n",
    "import re\n",
    "\n",
    "openai.api_key = 'APY KEY'"
   ]
  },
  {
   "cell_type": "code",
   "execution_count": 16,
   "metadata": {},
   "outputs": [],
   "source": [
    "def num_tokens_from_string(string: str, encoding_name: str) -> int:\n",
    "    encoding = tiktoken.get_encoding(encoding_name)\n",
    "    num_tokens = len(encoding.encode(string))\n",
    "    return num_tokens\n",
    "\n",
    "# Encoding name\tOpenAI models\n",
    "\n",
    "# cl100k_base:\tgpt-4, gpt-3.5-turbo, text-embedding-ada-002\n",
    "# p50k_base:\ttext-davinci-003, text-davinci-002\n",
    "# r50k_base:\tGPT-3 models (text-curie-001, text-babbage-001, text-ada-001, davinci, curie, babbage, ada)\n",
    "\n",
    "#print(num_tokens_from_string(\"Hello world, let's test tiktoken.\", \"cl100k_base\"))"
   ]
  },
  {
   "cell_type": "code",
   "execution_count": 17,
   "metadata": {},
   "outputs": [],
   "source": [
    "dataset = load_dataset(\"gsm8k\", 'main')"
   ]
  },
  {
   "cell_type": "code",
   "execution_count": 18,
   "metadata": {},
   "outputs": [],
   "source": [
    "thinking_styles = np.array([\n",
    "    'Let’s think step by step.',  # Original\n",
    "    'Let’s make a step by step plan and implement it with good notion and explanation',  # Original\n",
    "    'How could I devise an experiment to help solve the problem?',  # Original\n",
    "    'How can I simplify the problem so that it is easier to solve?',  # Original\n",
    "    'Try creative thinking, generate innovative and out-of-the-box ideas to solve the problem. Explore unconventional solutions, thinking beyond traditional boundaries, and encouraging imagination and originality.',  # Original\n",
    "    'Critically evaluate the given information. Are there any biases or assumptions that might be influencing the interpretation?',  # Critical Thinking\n",
    "    'Imagine a similar situation in a different time or place. How might it have been approached historically?',  # Historical Thinking\n",
    "    'Project the outcomes into the future. If we follow this path, where might we end up in 10 years?',  # Futuristic Thinking\n",
    "    'Put yourself in the shoes of all the stakeholders involved. How would they feel about this situation?',  # Empathetic Thinking\n",
    "    'Consider how the different elements of this problem interact with one another. Can we identify any feedback loops or systemic issues?',  # Systems Thinking\n",
    "    'Reflect on the ethical dimensions of this challenge. Are there moral principles that should guide our decision-making?',  # Ethical Thinking\n",
    "    'Let’s compare this situation to a similar one in a different context. Are there lessons we can draw from that comparison?',  # Comparative Thinking\n",
    "    'Consider the problem holistically. How do all the pieces fit together in the larger context?',  # Holistic Thinking\n",
    "    'Trust your gut feeling on this. What does your intuition tell you about the best approach?',  # Intuitive Thinking\n",
    "    'Examine the conflicting viewpoints around this issue. Can we find a middle ground or synthesis?',  # Dialectical Thinking\n",
    "])\n",
    "\n",
    "prompt_instruction = np.array([\n",
    "    'Solve the math word problem, giving your answer as an arabic numeral',  \n",
    "    'Solve the problem by explaining why systemic or structural issues would not be the cause of the issue.', \n",
    "    'Generate the answer to a word problem and write it as a number.',  \n",
    "    'Break down the math problem step-by-step and provide the final numeric solution.', \n",
    "    'Apply fundamental mathematical principles to solve the problem, and provide a clear numeric answer.',\n",
    "    'Use visual aids like diagrams or graphs if necessary to better illustrate the process of solving the problem.',\n",
    "    'Consider using an algorithm or formula that is most efficient in solving this type of math problem. Provide the final answer as a number.',\n",
    "    'Discuss the rationale behind each step you take in solving the problem, ensuring the explanation is clear and concise.',\n",
    "    'If applicable, use real-world examples to contextualize the math problem, and solve it providing a numeric answer.',\n",
    "    'Detail the mathematical concepts or theories utilized in solving the problem, and conclude with a numeric solution.',\n",
    "    'Present multiple methods to solve the problem if possible, concluding each with a clear numeric answer.',\n",
    "    'Ensure accuracy by double-checking calculations and logic used in solving the problem, and present the final numeric solution.',\n",
    "    'Adapt a teaching approach, explaining the problem and solution as if educating someone with basic mathematical knowledge.',\n",
    "])\n",
    "\n",
    "prompt_mutators = np.array([\n",
    "    'Generate a prompt mutant that introduces an element of suspense or intrigue.',  \n",
    "    'What do people who are good at creative thinking normally do with this kind of mutation question?',  \n",
    "    'Change the following instruction being as brief as possible',  \n",
    "    'Modify the prompt to emphasize the importance of collaboration or teamwork in the process.',\n",
    "    'Rework the instruction to appeal to someone with a background in arts or humanities.',\n",
    "    'Twist the prompt to challenge someone with advanced expertise in the subject.',\n",
    "    'Adjust the instruction to encourage out-of-the-box thinking or a novel approach.',\n",
    "    'Refine the prompt to make it sound like a riddle or puzzle to be solved.',\n",
    "    'Adapt the original instruction to cater to a younger audience or beginners.',\n",
    "    'Convert the prompt to make it sound like a quest or mission.',\n",
    "    'Reimagine the instruction as if it is a call to action for a global challenge or competition.',\n",
    "    'Infuse humor or sarcasm into the original prompt.'\n",
    "])\n"
   ]
  },
  {
   "cell_type": "code",
   "execution_count": 19,
   "metadata": {},
   "outputs": [],
   "source": [
    "\n",
    "def create_prompt_examples(indexes, dataset):\n",
    "\n",
    "    prompt_examples_str = 'These are some examples of similar problems and how to solve them: \\n'\n",
    "\n",
    "    for index in indexes:\n",
    "\n",
    "        prompt_examples_str = prompt_examples_str + 'Q: ' + dataset['train'][int(index)]['question'] + '\\nA: ' + dataset['train'][int(index)]['answer'] + '\\n'\n",
    "\n",
    "    return prompt_examples_str\n",
    "\n",
    "\n",
    "def create_population(thinking_styles, instructions, prompt_examples, dataset, test_indexes):\n",
    "\n",
    "    population =  []\n",
    "\n",
    "    problems = dataset['test'][test_indexes]['question']\n",
    "\n",
    "    answers = dataset['test'][test_indexes]['answer']\n",
    "\n",
    "    for i in range(len(instructions)):\n",
    "\n",
    "        prompt = thinking_styles[i] + '\\n' + instructions[i] + '\\n' + prompt_examples + '\\nQ: ' + problems[i]\n",
    "\n",
    "        population.append(prompt)\n",
    "\n",
    "\n",
    "    return population, answers\n",
    "\n",
    "\n",
    "def mutate_instructions(instructions, mutation_prompts, indexes_to_mutate, indexes_good_prompts):\n",
    "\n",
    "    instructions_for_mutation, new_instructions = [], np.copy(instructions)\n",
    "\n",
    "    if len(indexes_good_prompts) == 0:\n",
    "\n",
    "        for i in range(len(indexes_to_mutate)):\n",
    "\n",
    "            selected_instruction_index = indexes_to_mutate[np.random.randint(len(indexes_to_mutate))]\n",
    "\n",
    "            instructions_for_mutation.append(mutation_prompts[np.random.randint(3)] + \n",
    "                                             '. The prompt you need to change is the following: \\n' + \n",
    "                                             instructions[selected_instruction_index])\n",
    "\n",
    "\n",
    "    elif len(indexes_good_prompts) > 0:\n",
    "\n",
    "        for i in range(len(indexes_to_mutate)):\n",
    "\n",
    "            selected_instruction_index = indexes_good_prompts[np.random.randint(len(indexes_good_prompts))]\n",
    "\n",
    "            instructions_for_mutation.append(mutation_prompts[np.random.randint(3)] + ': \\n' + instructions[selected_instruction_index])\n",
    "    \n",
    "\n",
    "    for i in range(len(instructions_for_mutation)):\n",
    "\n",
    "        message = [{\"role\": \"user\", \"content\": instructions_for_mutation[i]}]\n",
    "\n",
    "        response = openai.ChatCompletion.create(model='gpt-3.5-turbo', messages=message, temperature=0)\n",
    "\n",
    "        new_instructions[indexes_to_mutate[i]] = response['choices'][0]['message']['content'] # type: ignore\n",
    "\n",
    "\n",
    "    return new_instructions\n",
    "\n",
    "\n",
    "def last_number(s):\n",
    "    numbers = re.findall(r'\\d+', s)\n",
    "    return int(numbers[-1]) if numbers else None\n",
    "\n",
    "\n",
    "def evaluate(prompts, answers):\n",
    "\n",
    "    evaluations = np.zeros(len(answers))\n",
    "\n",
    "    model_ans = ['']*len(answers)\n",
    "\n",
    "    for i in range(len(prompts)):\n",
    "\n",
    "        message = [{\"role\": \"user\", \"content\": prompts[i]}]\n",
    "\n",
    "        response = openai.ChatCompletion.create(model='gpt-3.5-turbo', messages=message, temperature=0)\n",
    "\n",
    "        model_ans[i] = response['choices'][0]['message']['content'] # type: ignore\n",
    "\n",
    "        if last_number(answers[i]) == last_number(model_ans[i] ):\n",
    "\n",
    "            evaluations[i] = 1\n",
    "    \n",
    "    return evaluations, model_ans\n"
   ]
  },
  {
   "cell_type": "code",
   "execution_count": 20,
   "metadata": {},
   "outputs": [],
   "source": [
    "## INITIALIZATION\n",
    "\n",
    "prompt_examples_indexes = np.random.randint(100, size=3)\n",
    "\n",
    "initial_thinking_styles = thinking_styles[np.random.randint(15, size=5)]\n",
    "\n",
    "initial_prompt_instruction = prompt_instruction[np.random.randint(12, size=5)]\n",
    "\n",
    "initial_prompt_mutators = prompt_mutators[np.random.randint(11, size=5)]\n",
    "\n",
    "prompt_examples = create_prompt_examples(prompt_examples_indexes, dataset)\n",
    "\n",
    "test_problem_indexes = np.random.randint(100, size=5)\n",
    "\n",
    "initial_population, initial_answers = create_population(initial_thinking_styles, initial_prompt_instruction, prompt_examples, dataset, test_problem_indexes)\n",
    "\n",
    "num_generations = 7"
   ]
  },
  {
   "cell_type": "code",
   "execution_count": 21,
   "metadata": {},
   "outputs": [
    {
     "name": "stdout",
     "output_type": "stream",
     "text": [
      "Individual example:\n",
      "\n",
      "Put yourself in the shoes of all the stakeholders involved. How would they feel about this situation?\n",
      "Consider using an algorithm or formula that is most efficient in solving this type of math problem. Provide the final answer as a number.\n",
      "These are some examples of similar problems and how to solve them: \n",
      "Q: James earns $20 an hour while working at his main job.  He earns 20% less while working his second job.  He works 30 hours at his main job and half that much at his second job.  How much does he earn per week?\n",
      "A: James earns 20*.2=$<<20*.2=4>>4 less while working his second job\n",
      "So he earns 20-4=$<<20-4=16>>16 an hour\n",
      "At his first job he earns 20*30=$<<20*30=600>>600\n",
      "He works 30/2=<<30/2=15>>15 hours at his second job\n",
      "So he earns 15*16=$<<15*16=240>>240\n",
      "So he earns 600+240=$<<600+240=840>>840 a week\n",
      "#### 840\n",
      "Q: Ann's favorite store was having a summer clearance. For $75 she bought 5 pairs of shorts for $7 each and 2 pairs of shoes for $10 each. She also bought 4 tops, all at the same price. How much did each top cost?\n",
      "A: She bought 5 shorts at $7 each so 5*7=$<<5*7=35>>35\n",
      "She bought 2 pair of shoes at $10 each so 2*10=$<<2*10=20>>20\n",
      "The shorts and shoes cost her 35+20 = $<<35+20=55>>55\n",
      "We know she spent 75 total and the shorts and shoes cost $55 which left a difference of 75-55 = $<<75-55=20>>20\n",
      "She bought 4 tops for a total of $20 so 20/4 = $5\n",
      "#### 5\n",
      "Q: The profit from a business transaction is shared among 2 business partners, Mike and Johnson in the ratio 2:5 respectively. If Johnson got $2500, how much will Mike have after spending some of his share on a shirt that costs $200?\n",
      "A: According to the ratio, for every 5 parts that Johnson gets, Mike gets 2 parts\n",
      "Since Johnson got $2500, each part is therefore $2500/5 = $<<2500/5=500>>500\n",
      "Mike will get 2*$500 = $<<2*500=1000>>1000\n",
      "After buying the shirt he will have $1000-$200 = $<<1000-200=800>>800 left\n",
      "#### 800\n",
      "\n",
      "Q: Grandma Jones baked 5 apple pies for the fireman's luncheon.  She cut each pie into 8 pieces and set the five pies out on the buffet table for the guests to serve themselves.  At the end of the evening, after the guests had taken and eaten their pieces of pie, there were 14 pieces of pie remaining.  How many pieces were taken by the guests?\n"
     ]
    }
   ],
   "source": [
    "print('Individual example:')\n",
    "print()\n",
    "print(initial_population[0])"
   ]
  },
  {
   "cell_type": "code",
   "execution_count": 22,
   "metadata": {},
   "outputs": [
    {
     "name": "stdout",
     "output_type": "stream",
     "text": [
      "Mean Generation 0 Fitness:  0.6\n",
      "Mean Generation 1 Fitness:  1.0\n",
      "Mean Generation 2 Fitness:  1.0\n",
      "Mean Generation 3 Fitness:  1.0\n",
      "Mean Generation 4 Fitness:  1.0\n",
      "Mean Generation 5 Fitness:  1.0\n",
      "Mean Generation 6 Fitness:  1.0\n"
     ]
    }
   ],
   "source": [
    "# ALGORITHM\n",
    "#------------------------------------------------------------------------------\n",
    "#------------------------------------------------------------------------------\n",
    "\n",
    "population = initial_population.copy()\n",
    "answers = initial_answers.copy()\n",
    "mutators = initial_prompt_mutators.copy()\n",
    "thinking_styles = initial_thinking_styles.copy()\n",
    "prompt_instructions = initial_prompt_instruction.copy()\n",
    "\n",
    "for i in range(num_generations):\n",
    "    \n",
    "    evaluations, model_ans = evaluate(population, answers)\n",
    "\n",
    "    good_indexes = np.where(evaluations==1)[0]\n",
    "    bad_indexes = np.where(evaluations==0)[0]\n",
    "\n",
    "    prompt_instructions = mutate_instructions(prompt_instructions, mutators, bad_indexes, good_indexes)\n",
    "\n",
    "    population, answers = create_population(thinking_styles, prompt_instructions, prompt_examples, dataset, test_problem_indexes)\n",
    "\n",
    "    population_fitness = np.mean(evaluations)\n",
    "\n",
    "    print('Mean Generation', i, 'Fitness: ', population_fitness)\n",
    "            "
   ]
  },
  {
   "cell_type": "code",
   "execution_count": 24,
   "metadata": {},
   "outputs": [
    {
     "name": "stdout",
     "output_type": "stream",
     "text": [
      "Final Population Scores:  [1. 1. 1. 1. 1.]\n",
      "-------------------------------------\n",
      "\n",
      "Final Population Instructions: \n",
      "\n",
      "['Consider using an algorithm or formula that is most efficient in solving this type of math problem. Provide the final answer as a number.'\n",
      " 'Break down the math problem step-by-step and provide the final numeric solution.'\n",
      " 'You receive a mysterious letter with a math word problem written on it. The problem seems simple enough: \"If a train leaves Station A at '\n",
      " 'People who are good at creative thinking would approach this mutation question by thinking outside the box and exploring different possib'\n",
      " 'Solve the math word problem, giving your answer as an arabic numeral']\n",
      "-------------------------------------\n",
      "\n",
      "final Answers:\n"
     ]
    },
    {
     "data": {
      "text/plain": [
       "['To solve this problem, we can use the formula:\\n\\nTotal pieces of pie - Remaining pieces of pie = Pieces taken by guests\\n\\nIn this case, the total pieces of pie are 5 pies * 8 pieces per pie = 40 pieces.\\n\\nSo, the equation becomes:\\n\\n40 - 14 = Pieces taken by guests\\n\\nSimplifying the equation:\\n\\n26 = Pieces taken by guests\\n\\nTherefore, the guests took 26 pieces of pie.',\n",
       " 'Stakeholders involved in this situation:\\n1. Ted the T-Rex (the one planning to bring potato salad)\\n2. Adult dinosaurs attending the picnic\\n3. Child dinosaurs attending the picnic\\n\\nHow they would feel about this situation:\\n1. Ted the T-Rex: Ted would want to ensure that he brings enough potato salad to feed everyone at the picnic. He would feel responsible for providing an adequate amount of food for both the adults and children.\\n2. Adult dinosaurs: The adult dinosaurs would expect to have enough potato salad to satisfy their appetite. They would want to enjoy the picnic without worrying about running out of food.\\n3. Child dinosaurs: The child dinosaurs would also expect to have enough potato salad to satisfy their appetite. They would rely on Ted to provide enough food for them to enjoy the picnic.\\n\\nStep-by-step breakdown of the math problem:\\n1. An adult dinosaur eats 10 lbs of potato salad.\\n2. A child dinosaur eats half as much as an adult, so a child dinosaur eats 10 lbs / 2 = 5 lbs of potato salad.\\n3. There will be 20 adults and 5 children at the picnic.\\n4. To calculate the total amount of potato salad needed, multiply the number of adults by the amount each adult eats: 20 adults * 10 lbs/adult = 200 lbs.\\n5. To calculate the total amount of potato salad needed, multiply the number of children by the amount each child eats: 5 children * 5 lbs/child = 25 lbs.\\n6. Add the amount of potato salad needed for adults and children: 200 lbs + 25 lbs = 225 lbs.\\n\\nFinal numeric solution:\\nTed needs to bring 225 lbs of potato salad to the picnic if he hopes to have enough to feed everyone.',\n",
       " \"A: Lee runs the 400-meter hurdles two seconds faster than Gerald, so Gerald's time is 38 + 2 = 40 seconds.\\nGerald's diet improved his speed by 10%, so his new time is 40 - (10% of 40) = 40 - 4 = 36 seconds.\\nTherefore, with his improved diet, Gerald can run the 400-meter hurdles in 36 seconds.\",\n",
       " 'A: The initial amount charged for the first half of the year is $140 * 6 = $840.\\nThe 10% discount on the other half of the year means she paid $140 - (10/100) * $140 = $126 per month.\\nSo, for the second half of the year, she paid $126 * 6 = $756.\\nTherefore, the total amount she paid for the streaming service by the end of the year is $840 + $756 = $1596.',\n",
       " 'Let\\'s call the cost of the boots \"B\". \\nThe cost of the first pair of high heels is $33. \\nThe cost of the second pair of high heels is twice as much as the first pair, so it is 2*$33 = $66. \\nThe total cost of the two pairs of high heels is $33 + $66 = $99. \\nWe know that the cost of the boots is $5 more than the cost of the two pairs of high heels, so B = $99 + $5 = $104. \\n\\nTherefore, the boots cost $104.']"
      ]
     },
     "execution_count": 24,
     "metadata": {},
     "output_type": "execute_result"
    }
   ],
   "source": [
    "print('Final Population Scores: ', evaluations)\n",
    "print('-------------------------------------')\n",
    "print()\n",
    "print('Final Population Instructions: ') \n",
    "print()\n",
    "print(prompt_instructions)\n",
    "print('-------------------------------------')\n",
    "print()\n",
    "print('final Answers:')\n",
    "model_ans"
   ]
  },
  {
   "cell_type": "code",
   "execution_count": 30,
   "metadata": {},
   "outputs": [
    {
     "data": {
      "text/plain": [
       "285"
      ]
     },
     "execution_count": 30,
     "metadata": {},
     "output_type": "execute_result"
    }
   ],
   "source": [
    "num_tokens_from_string(model_ans[2], 'cl100k_base')"
   ]
  },
  {
   "cell_type": "code",
   "execution_count": null,
   "metadata": {},
   "outputs": [],
   "source": []
  }
 ],
 "metadata": {
  "kernelspec": {
   "display_name": "Python 3",
   "language": "python",
   "name": "python3"
  },
  "language_info": {
   "codemirror_mode": {
    "name": "ipython",
    "version": 3
   },
   "file_extension": ".py",
   "mimetype": "text/x-python",
   "name": "python",
   "nbconvert_exporter": "python",
   "pygments_lexer": "ipython3",
   "version": "3.10.12"
  },
  "orig_nbformat": 4
 },
 "nbformat": 4,
 "nbformat_minor": 2
}
