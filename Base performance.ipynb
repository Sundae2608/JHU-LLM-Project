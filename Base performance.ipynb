{
 "cells": [
  {
   "cell_type": "code",
   "execution_count": 1,
   "id": "fb757ba1-c02d-4e55-83b1-a3dae40daa42",
   "metadata": {
    "tags": []
   },
   "outputs": [],
   "source": [
    "%load_ext autoreload\n",
    "%autoreload 2\n",
    "from constants import *\n",
    "from evaluator import *\n",
    "from model import *\n",
    "from mutator import *\n",
    "from prompt import *\n",
    "from task import *\n",
    "\n",
    "import warnings\n",
    "warnings.filterwarnings(\"ignore\")"
   ]
  },
  {
   "cell_type": "code",
   "execution_count": 2,
   "id": "39226e28-1c1b-42c5-b189-9229336caf75",
   "metadata": {
    "tags": []
   },
   "outputs": [],
   "source": [
    "import re\n",
    "\n",
    "def extract_last_numeric_value(input_string):\n",
    "    # Regular expression pattern to extract all numeric values with periods and ignoring commas\n",
    "    pattern = r'[\\d,.]+'\n",
    "\n",
    "    # Find all matches using re.finditer()\n",
    "    matches = re.finditer(pattern, input_string)\n",
    "\n",
    "    # Initialize a variable to store the last numeric value\n",
    "    last_numeric_value = None\n",
    "\n",
    "    # Iterate through the matches and update the last_numeric_value\n",
    "    for match in matches:\n",
    "        numeric_value = match.group()\n",
    "        # Remove commas if needed\n",
    "        numeric_value = numeric_value.replace(\",\", \"\")\n",
    "        last_numeric_value = numeric_value\n",
    "\n",
    "    return last_numeric_value"
   ]
  },
  {
   "cell_type": "code",
   "execution_count": 3,
   "id": "0dfc5475-2466-450f-993c-ef50ba0b99e5",
   "metadata": {
    "tags": []
   },
   "outputs": [],
   "source": [
    "def evaluate_func(orig, pred):\n",
    "    orig_value = extract_last_numeric_value(orig)\n",
    "    pred_value = extract_last_numeric_value(pred)\n",
    "    try:\n",
    "        return abs(float(orig_value) - float(pred_value)) < 1e-6\n",
    "    except:\n",
    "        return False"
   ]
  },
  {
   "cell_type": "markdown",
   "id": "4a707869-52da-41e5-9004-e54b09d19a5e",
   "metadata": {},
   "source": [
    "# Step 1: Set up all the models that we want to quantify performance"
   ]
  },
  {
   "cell_type": "code",
   "execution_count": 4,
   "id": "0abf7e77-2f67-44d3-82ef-a0d5dc4d78e3",
   "metadata": {
    "tags": []
   },
   "outputs": [],
   "source": [
    "from datasets import load_dataset\n",
    "\n",
    "# model_mistral = Model(provider=\"quantized_llama\", model_name=\"TheBloke/Mistral-7B-OpenOrca-GGUF\", model_file=\"mistral-7b-openorca.Q4_K_M.gguf\", model_type=\"mistral\")\n",
    "model_llama_13 = Model(provider=\"fireworks\", model_name=\"accounts/fireworks/models/llama-v2-13b-chat\")\n",
    "model_llama_70 = Model(provider=\"fireworks\", model_name=\"accounts/fireworks/models/llama-v2-70b-chat\")\n",
    "model_open_ai = Model(provider=\"openai\", model_name=\"gpt-3.5-turbo-instruct\")"
   ]
  },
  {
   "cell_type": "markdown",
   "id": "5e11f2a3-3268-4c28-9a7a-8d8c5a05d8d6",
   "metadata": {},
   "source": [
    "# Step 2: All base line evaluations"
   ]
  },
  {
   "cell_type": "code",
   "execution_count": 5,
   "id": "17ac93ea-7211-4feb-979a-a7bb1bdf9eaa",
   "metadata": {
    "tags": []
   },
   "outputs": [],
   "source": [
    "system_instruction = \"\"\n",
    "thinking_style = \"\"\n",
    "task = Task(load_dataset('gsm8k', 'main'),\n",
    "            'Solve the math word problem, giving your answer as an arabic numeral.',\n",
    "            evaluate_func)"
   ]
  },
  {
   "cell_type": "code",
   "execution_count": 6,
   "id": "05152113-f11b-47a5-b7e9-0707195adc53",
   "metadata": {
    "tags": []
   },
   "outputs": [
    {
     "data": {
      "text/plain": [
       "Dataset({\n",
       "    features: ['question', 'answer'],\n",
       "    num_rows: 1319\n",
       "})"
      ]
     },
     "execution_count": 6,
     "metadata": {},
     "output_type": "execute_result"
    }
   ],
   "source": [
    "task.test()"
   ]
  },
  {
   "cell_type": "code",
   "execution_count": 7,
   "id": "3e80af42-3a6d-4710-bc7f-585352ff92e6",
   "metadata": {
    "tags": []
   },
   "outputs": [
    {
     "name": "stdout",
     "output_type": "stream",
     "text": [
      "[1018, 319, 62, 140, 378, 440, 32, 1061, 92, 396, 64, 1054, 79, 716, 1284, 623, 1238, 399, 1191, 381, 123, 45, 497, 812, 824, 599, 911, 13, 426, 860, 519, 453, 1119, 406, 931, 358, 560, 807, 1232, 424, 941, 996, 258, 1039, 680, 20, 711, 1124, 651, 114, 1041, 1229, 882, 289, 868, 1162, 99, 983, 511, 888, 518, 48, 738, 628, 59, 966, 777, 292, 1196, 821, 660, 644, 545, 321, 190, 329, 400, 1267, 770, 784, 361, 988, 850, 788, 1315, 1163, 210, 142, 1206, 1156, 444, 549, 833, 347, 49, 1231, 422, 1265, 159, 581]\n"
     ]
    }
   ],
   "source": [
    "# Get the test indices, for consistency in evaluations\n",
    "NUM_EVALUATIONS = 1319\n",
    "test_indices, test_samples = task.test_samples(NUM_EVALUATIONS)\n",
    "print(test_indices)"
   ]
  },
  {
   "cell_type": "code",
   "execution_count": 32,
   "id": "1969246f-4f14-4eb0-b04a-d3847157a377",
   "metadata": {
    "tags": []
   },
   "outputs": [],
   "source": [
    "test_indices = [1018, 319, 62, 140, 378, 440, 32, 1061, 92, 396, 64, 1054, 79, 716, 1284, 623, 1238, 399, 1191, 381, 123, 45, 497, 812, 824, 599, 911, 13, 426, 860, 519, 453, 1119, 406, 931, 358, 560, 807, 1232, 424, 941, 996, 258, 1039, 680, 20, 711, 1124, 651, 114, 1041, 1229, 882, 289, 868, 1162, 99, 983, 511, 888, 518, 48, 738, 628, 59, 966, 777, 292, 1196, 821, 660, 644, 545, 321, 190, 329, 400, 1267, 770, 784, 361, 988, 850, 788, 1315, 1163, 210, 142, 1206, 1156, 444, 549, 833, 347, 49, 1231, 422, 1265, 159, 581]"
   ]
  },
  {
   "cell_type": "code",
   "execution_count": 8,
   "id": "e035cf6a-77d5-4a49-bb73-f1461b1df014",
   "metadata": {
    "tags": []
   },
   "outputs": [],
   "source": [
    "import pandas as pd\n",
    "\n",
    "def evaluate_model(evaluation_model, folder_path, all_pop):\n",
    "    all_pop = [prompt.copy() for prompt in all_pop]\n",
    "    evaluator_params = EvaluatorParams(folder_path, print_text_completion=False, store_text_completion=True, print_evaluation_steps=10)\n",
    "    evaluator = Evaluator(evaluator_params)\n",
    "    scores = evaluator.evaluate(evaluation_model, task, all_pop, 1319, None)\n",
    "\n",
    "    # Print prompt and their score\n",
    "    prompt_scores = [(all_pop[i].get_accuracy(), all_pop[i]) for i in range(len(all_pop))]\n",
    "    prompt_scores = sorted(prompt_scores, key=lambda x: x[0], reverse=True)\n",
    "    print(\"Score  | Evals | Prompt\")\n",
    "    for _, prompt in prompt_scores:\n",
    "        print(f\"{prompt.get_accuracy() * 100:5.2f}% | {prompt.get_num_evals():5d} | {prompt}\")\n",
    "\n",
    "    # Store the generation data\n",
    "    prompt_genes = [prompt.gene() for prompt in all_pop]\n",
    "    prompt_evals = [prompt.get_num_evals() for prompt in all_pop]\n",
    "    prompt_accus = [prompt.get_accuracy() for prompt in all_pop]\n",
    "    data = {\n",
    "        \"Gene\": prompt_genes,\n",
    "        \"Evaluations\": prompt_evals,\n",
    "        \"Accuracy\": prompt_accus\n",
    "    }\n",
    "    df = pd.DataFrame(data)\n",
    "    df.to_csv(f\"{folder_path}/results.csv\", index=False)"
   ]
  },
  {
   "cell_type": "code",
   "execution_count": 28,
   "id": "2e9a6c20-ea72-4a5c-945e-d94fa8f6a1c5",
   "metadata": {
    "tags": []
   },
   "outputs": [
    {
     "name": "stdout",
     "output_type": "stream",
     "text": [
      "Evaluating test samples: [1018, 319, 62, 140, 378, 440, 32, 1061, 92, 396, 64, 1054, 79, 716, 1284, 623, 1238, 399, 1191, 381, 123, 45, 497, 812, 824, 599, 911, 13, 426, 860, 519, 453, 1119, 406, 931, 358, 560, 807, 1232, 424, 941, 996, 258, 1039, 680, 20, 711, 1124, 651, 114, 1041, 1229, 882, 289, 868, 1162, 99, 983, 511, 888, 518, 48, 738, 628, 59, 966, 777, 292, 1196, 821, 660, 644, 545, 321, 190, 329, 400, 1267, 770, 784, 361, 988, 850, 788, 1315, 1163, 210, 142, 1206, 1156, 444, 549, 833, 347, 49, 1231, 422, 1265, 159, 581]\n",
      "Evaluating prompt 0: (Solve the math word  -                      -                      - 0)\n",
      "Num evals: 10 - Accuracy: 10.00%\n",
      "Num evals: 20 - Accuracy: 25.00%\n",
      "Num evals: 30 - Accuracy: 20.00%\n",
      "Num evals: 40 - Accuracy: 20.00%\n",
      "Num evals: 50 - Accuracy: 20.00%\n",
      "Num evals: 60 - Accuracy: 20.00%\n",
      "Num evals: 70 - Accuracy: 20.00%\n",
      "Num evals: 80 - Accuracy: 21.25%\n",
      "Num evals: 90 - Accuracy: 21.11%\n",
      "Num evals: 100 - Accuracy: 23.00%\n",
      "Evaluating prompt 1: (Solve the math word  -                      -                      - 1)\n",
      "Num evals: 10 - Accuracy: 30.00%\n",
      "Num evals: 20 - Accuracy: 40.00%\n",
      "Num evals: 30 - Accuracy: 40.00%\n",
      "Num evals: 40 - Accuracy: 37.50%\n",
      "Num evals: 50 - Accuracy: 36.00%\n",
      "Num evals: 60 - Accuracy: 38.33%\n",
      "Num evals: 70 - Accuracy: 41.43%\n",
      "Num evals: 80 - Accuracy: 40.00%\n",
      "Num evals: 90 - Accuracy: 38.89%\n",
      "Num evals: 100 - Accuracy: 36.00%\n",
      "Evaluating prompt 2: (Solve the math word  -                      -                      - 3)\n",
      "Num evals: 10 - Accuracy: 70.00%\n",
      "Num evals: 20 - Accuracy: 55.00%\n",
      "Num evals: 30 - Accuracy: 56.67%\n",
      "Num evals: 40 - Accuracy: 47.50%\n",
      "Num evals: 50 - Accuracy: 44.00%\n",
      "Num evals: 60 - Accuracy: 51.67%\n",
      "Num evals: 70 - Accuracy: 52.86%\n",
      "Num evals: 80 - Accuracy: 55.00%\n",
      "Num evals: 90 - Accuracy: 54.44%\n",
      "Num evals: 100 - Accuracy: 54.00%\n",
      "Score  | Evals | Prompt\n",
      "54.00% |   100 | (Solve the math word  -                      -                      - 3)\n",
      "36.00% |   100 | (Solve the math word  -                      -                      - 1)\n",
      "23.00% |   100 | (Solve the math word  -                      -                      - 0)\n"
     ]
    }
   ],
   "source": [
    "prompt1 = Prompt(task.initial_prompt, system_instruction, thinking_style, 0, 0, None)\n",
    "prompt2 = Prompt(task.initial_prompt, system_instruction, thinking_style, 1, 0, None)\n",
    "prompt3 = Prompt(task.initial_prompt, system_instruction, thinking_style, 3, 0, None)\n",
    "all_pop = [prompt1, prompt2, prompt3]\n",
    "\n",
    "# evaluate_model(model_mistral, \"base_performance_results/mistral\", all_pop)\n",
    "# evaluate_model(model_llama_13, \"base_performance_results/llama13\", all_pop)\n",
    "# evaluate_model(model_llama_70, \"base_performance_results/llama70\", all_pop)\n",
    "evaluate_model(model_open_ai, \"base_performance_results/openai\", all_pop)"
   ]
  },
  {
   "cell_type": "markdown",
   "id": "a3513a66-1146-4867-9be4-9d2bbf0631a6",
   "metadata": {},
   "source": [
    "# Alejandro Prompts"
   ]
  },
  {
   "cell_type": "code",
   "execution_count": 35,
   "id": "63ca5d8f-8fe5-49e4-8a52-3ced0234c6a2",
   "metadata": {},
   "outputs": [
    {
     "name": "stdout",
     "output_type": "stream",
     "text": [
      "Evaluating test samples: [1018, 319, 62, 140, 378, 440, 32, 1061, 92, 396, 64, 1054, 79, 716, 1284, 623, 1238, 399, 1191, 381, 123, 45, 497, 812, 824, 599, 911, 13, 426, 860, 519, 453, 1119, 406, 931, 358, 560, 807, 1232, 424, 941, 996, 258, 1039, 680, 20, 711, 1124, 651, 114, 1041, 1229, 882, 289, 868, 1162, 99, 983, 511, 888, 518, 48, 738, 628, 59, 966, 777, 292, 1196, 821, 660, 644, 545, 321, 190, 329, 400, 1267, 770, 784, 361, 988, 850, 788, 1315, 1163, 210, 142, 1206, 1156, 444, 549, 833, 347, 49, 1231, 422, 1265, 159, 581]\n",
      "Evaluating prompt 0: (Wow, that's a great  - You're a tutor, pati -                      - 0)\n",
      "Num evals: 10 - Accuracy: 20.00%\n",
      "Num evals: 20 - Accuracy: 20.00%\n",
      "Num evals: 30 - Accuracy: 16.67%\n",
      "Num evals: 40 - Accuracy: 12.50%\n",
      "Num evals: 50 - Accuracy: 10.00%\n",
      "Num evals: 60 - Accuracy: 11.67%\n",
      "Num evals: 70 - Accuracy: 11.43%\n",
      "Num evals: 80 - Accuracy: 11.25%\n",
      "Num evals: 90 - Accuracy: 10.00%\n",
      "Num evals: 100 - Accuracy: 9.00%\n",
      "Evaluating prompt 1: (Wow, that's a great  - You're a tutor, pati -                      - 1)\n",
      "Num evals: 10 - Accuracy: 0.00%\n",
      "Num evals: 20 - Accuracy: 5.00%\n",
      "Num evals: 30 - Accuracy: 3.33%\n",
      "Num evals: 40 - Accuracy: 5.00%\n",
      "Num evals: 50 - Accuracy: 4.00%\n",
      "Num evals: 60 - Accuracy: 5.00%\n",
      "Num evals: 70 - Accuracy: 4.29%\n",
      "Num evals: 80 - Accuracy: 5.00%\n",
      "Num evals: 90 - Accuracy: 5.56%\n",
      "Num evals: 100 - Accuracy: 5.00%\n",
      "Evaluating prompt 2: (Wow, that's a great  - You're a tutor, pati -                      - 3)\n",
      "Num evals: 10 - Accuracy: 30.00%\n",
      "Num evals: 20 - Accuracy: 35.00%\n",
      "Num evals: 30 - Accuracy: 40.00%\n",
      "Num evals: 40 - Accuracy: 35.00%\n",
      "Num evals: 50 - Accuracy: 34.00%\n",
      "Num evals: 60 - Accuracy: 31.67%\n",
      "Num evals: 70 - Accuracy: 31.43%\n",
      "Num evals: 80 - Accuracy: 28.75%\n",
      "Num evals: 90 - Accuracy: 26.67%\n",
      "Num evals: 100 - Accuracy: 26.00%\n",
      "Score  | Evals | Prompt\n",
      "26.00% |   100 | (Wow, that's a great  - You're a tutor, pati -                      - 3)\n",
      " 9.00% |   100 | (Wow, that's a great  - You're a tutor, pati -                      - 0)\n",
      " 5.00% |   100 | (Wow, that's a great  - You're a tutor, pati -                      - 1)\n"
     ]
    }
   ],
   "source": [
    "thinking_style = \"\"\n",
    "system_instruction = \"You're a tutor, patiently breaking down and explaining this math problem to a student who is just beginning their mathematical journey.\"\n",
    "prompt = \"\"\"Wow, that's a great riddle! Pencil lead is indeed a very useful tool for writing and drawing. It's amazing how something so simple can be used in so many ways. Do you have any other fun riddles you'd like to share?\"\"\"\n",
    "\n",
    "alejandro_prompt1_mistral_0 = Prompt(prompt, system_instruction, thinking_style, 0, 0, None)\n",
    "alejandro_prompt1_mistral_1 = Prompt(prompt, system_instruction, thinking_style, 1, 0, None)\n",
    "alejandro_prompt1_mistral_3 = Prompt(prompt, system_instruction, thinking_style, 3, 0, None)\n",
    "\n",
    "prompts = [alejandro_prompt1_mistral_0, alejandro_prompt1_mistral_1, alejandro_prompt1_mistral_3]\n",
    "\n",
    "evaluate_model(model_mistral, \"best_performance_results/alejandro/mistral1\", prompts)"
   ]
  },
  {
   "cell_type": "code",
   "execution_count": 36,
   "id": "8758c959-3099-4484-9420-5eb8e37750ef",
   "metadata": {
    "tags": []
   },
   "outputs": [
    {
     "name": "stdout",
     "output_type": "stream",
     "text": [
      "Evaluating test samples: [1018, 319, 62, 140, 378, 440, 32, 1061, 92, 396, 64, 1054, 79, 716, 1284, 623, 1238, 399, 1191, 381, 123, 45, 497, 812, 824, 599, 911, 13, 426, 860, 519, 453, 1119, 406, 931, 358, 560, 807, 1232, 424, 941, 996, 258, 1039, 680, 20, 711, 1124, 651, 114, 1041, 1229, 882, 289, 868, 1162, 99, 983, 511, 888, 518, 48, 738, 628, 59, 966, 777, 292, 1196, 821, 660, 644, 545, 321, 190, 329, 400, 1267, 770, 784, 361, 988, 850, 788, 1315, 1163, 210, 142, 1206, 1156, 444, 549, 833, 347, 49, 1231, 422, 1265, 159, 581]\n",
      "Evaluating prompt 0: (As a math teacher, I - Tackle this using co -                      - 0)\n",
      "Num evals: 10 - Accuracy: 0.00%\n",
      "Num evals: 20 - Accuracy: 15.00%\n",
      "Num evals: 30 - Accuracy: 13.33%\n",
      "Num evals: 40 - Accuracy: 10.00%\n",
      "Num evals: 50 - Accuracy: 10.00%\n",
      "Num evals: 60 - Accuracy: 10.00%\n",
      "Num evals: 70 - Accuracy: 8.57%\n",
      "Num evals: 80 - Accuracy: 8.75%\n",
      "Num evals: 90 - Accuracy: 7.78%\n",
      "Num evals: 100 - Accuracy: 7.00%\n",
      "Evaluating prompt 1: (As a math teacher, I - Tackle this using co -                      - 1)\n",
      "Num evals: 10 - Accuracy: 0.00%\n",
      "Num evals: 20 - Accuracy: 10.00%\n",
      "Num evals: 30 - Accuracy: 6.67%\n",
      "Num evals: 40 - Accuracy: 5.00%\n",
      "Num evals: 50 - Accuracy: 4.00%\n",
      "Num evals: 60 - Accuracy: 5.00%\n",
      "Num evals: 70 - Accuracy: 7.14%\n",
      "Num evals: 80 - Accuracy: 7.50%\n",
      "Num evals: 90 - Accuracy: 10.00%\n",
      "Num evals: 100 - Accuracy: 10.00%\n",
      "Evaluating prompt 2: (As a math teacher, I - Tackle this using co -                      - 3)\n",
      "Num evals: 10 - Accuracy: 30.00%\n",
      "Num evals: 20 - Accuracy: 30.00%\n",
      "Num evals: 30 - Accuracy: 33.33%\n",
      "Num evals: 40 - Accuracy: 27.50%\n",
      "Num evals: 50 - Accuracy: 30.00%\n",
      "Num evals: 60 - Accuracy: 31.67%\n",
      "Num evals: 70 - Accuracy: 27.14%\n",
      "Num evals: 80 - Accuracy: 28.75%\n",
      "Num evals: 90 - Accuracy: 30.00%\n",
      "Num evals: 100 - Accuracy: 28.00%\n",
      "Score  | Evals | Prompt\n",
      "28.00% |   100 | (As a math teacher, I - Tackle this using co -                      - 3)\n",
      "10.00% |   100 | (As a math teacher, I - Tackle this using co -                      - 1)\n",
      " 7.00% |   100 | (As a math teacher, I - Tackle this using co -                      - 0)\n"
     ]
    }
   ],
   "source": [
    "thinking_style = \"\"\n",
    "system_instruction = \"Tackle this using computational methods.\"\n",
    "prompt = \"\"\"As a math teacher, I would approach this problem by first understanding the context and purpose of the assistant. I would research the capabilities and limitations of the assistant and how it can be used to assist in problem-solving and decision-making. I would also consider the ethical implications of using an assistant and ensure that it aligns with my values and principles.\n",
    "Once I have a clear understanding of the assistant's capabilities and limitations, I would develop a set of guidelines for how it should be used. This would include guidelines for how it should respond to different types of questions and requests, as well as guidelines for how it should handle sensitive or confidential information.\n",
    "I would also develop a system for evaluating the assistant's performance and ensuring that it is meeting the desired standards. This would involve testing the assistant with different scenarios and evaluating its responses to ensure that they are accurate, fair, and unbiased.\n",
    "Overall, my approach would be to use the assistant as a tool to assist in problem-solving and decision-making, but always with caution and consideration for the ethical implications of its use.\"\"\"\n",
    "\n",
    "alejandro_prompt2_mistral_0 = Prompt(prompt, system_instruction, thinking_style, 0, 0, None)\n",
    "alejandro_prompt2_mistral_1 = Prompt(prompt, system_instruction, thinking_style, 1, 0, None)\n",
    "alejandro_prompt2_mistral_3 = Prompt(prompt, system_instruction, thinking_style, 3, 0, None)\n",
    "\n",
    "prompts = [alejandro_prompt2_mistral_0, alejandro_prompt2_mistral_1, alejandro_prompt2_mistral_3]\n",
    "\n",
    "evaluate_model(model_mistral, \"best_performance_results/alejandro/mistral2\", prompts)"
   ]
  },
  {
   "cell_type": "code",
   "execution_count": 37,
   "id": "620ef1eb-3799-4639-a648-3de5d79c81b7",
   "metadata": {
    "tags": []
   },
   "outputs": [
    {
     "name": "stdout",
     "output_type": "stream",
     "text": [
      "Evaluating test samples: [1018, 319, 62, 140, 378, 440, 32, 1061, 92, 396, 64, 1054, 79, 716, 1284, 623, 1238, 399, 1191, 381, 123, 45, 497, 812, 824, 599, 911, 13, 426, 860, 519, 453, 1119, 406, 931, 358, 560, 807, 1232, 424, 941, 996, 258, 1039, 680, 20, 711, 1124, 651, 114, 1041, 1229, 882, 289, 868, 1162, 99, 983, 511, 888, 518, 48, 738, 628, 59, 966, 777, 292, 1196, 821, 660, 644, 545, 321, 190, 329, 400, 1267, 770, 784, 361, 988, 850, 788, 1315, 1163, 210, 142, 1206, 1156, 444, 549, 833, 347, 49, 1231, 422, 1265, 159, 581]\n",
      "Evaluating prompt 0: (Thank you for your t - As a computer scient -                      - 0)\n",
      "Num evals: 10 - Accuracy: 0.00%\n",
      "Num evals: 20 - Accuracy: 10.00%\n",
      "Num evals: 30 - Accuracy: 10.00%\n",
      "Num evals: 40 - Accuracy: 7.50%\n",
      "Num evals: 50 - Accuracy: 6.00%\n",
      "Num evals: 60 - Accuracy: 11.67%\n",
      "Num evals: 70 - Accuracy: 12.86%\n",
      "Num evals: 80 - Accuracy: 12.50%\n",
      "Num evals: 90 - Accuracy: 11.11%\n",
      "Num evals: 100 - Accuracy: 10.00%\n",
      "Evaluating prompt 1: (Thank you for your t - As a computer scient -                      - 1)\n",
      "Num evals: 10 - Accuracy: 20.00%\n",
      "Num evals: 20 - Accuracy: 25.00%\n",
      "Num evals: 30 - Accuracy: 16.67%\n",
      "Num evals: 40 - Accuracy: 15.00%\n",
      "Num evals: 50 - Accuracy: 14.00%\n",
      "Num evals: 60 - Accuracy: 13.33%\n",
      "Num evals: 70 - Accuracy: 12.86%\n",
      "Num evals: 80 - Accuracy: 13.75%\n",
      "Num evals: 90 - Accuracy: 13.33%\n",
      "Num evals: 100 - Accuracy: 15.00%\n",
      "Evaluating prompt 2: (Thank you for your t - As a computer scient -                      - 3)\n",
      "Num evals: 10 - Accuracy: 10.00%\n",
      "Num evals: 20 - Accuracy: 5.00%\n",
      "Num evals: 30 - Accuracy: 6.67%\n",
      "Num evals: 40 - Accuracy: 10.00%\n",
      "Num evals: 50 - Accuracy: 10.00%\n",
      "Num evals: 60 - Accuracy: 11.67%\n",
      "Num evals: 70 - Accuracy: 12.86%\n",
      "Num evals: 80 - Accuracy: 12.50%\n",
      "Num evals: 90 - Accuracy: 12.22%\n",
      "Num evals: 100 - Accuracy: 11.00%\n",
      "Score  | Evals | Prompt\n",
      "15.00% |   100 | (Thank you for your t - As a computer scient -                      - 1)\n",
      "11.00% |   100 | (Thank you for your t - As a computer scient -                      - 3)\n",
      "10.00% |   100 | (Thank you for your t - As a computer scient -                      - 0)\n"
     ]
    }
   ],
   "source": [
    "thinking_style = \"\"\n",
    "system_instruction = \"As a computer scientist, apply algorithmic thinking and computational techniques to efficiently solve this math problem.\"\n",
    "prompt = \"\"\"Thank you for your thoughtful and comprehensive response. I appreciate your emphasis on ethical and social implications of AI systems, and your commitment to ensuring that AI systems promote positive change and minimize potential harm.\n",
    "I would like to further suggest that we should also consider the following principles:\n",
    "11. Addressing Privacy Concerns: AI systems often rely on collecting and processing large amounts of personal data, which raises concerns about privacy and data protection. It's important to ensure that AI systems are designed with privacy in mind, and that they comply with data protection regulations and best practices.\n",
    "12. Ensuring Accountability and Transparency: AI systems should be designed to ensure accountability and transparency, so that people can understand how they make decisions and how they can be held accountable. This includes developing systems that can provide clear explanations for their decisions and that can be audited and monitored for bias and errors.\n",
    "13. Fostering Collaboration between AI and Human Experts: AI systems should be designed to collaborate with human experts, rather than replacing them. This includes developing systems that can augment human capabilities, and that can provide valuable insights and recommendations to human decision-makers.\n",
    "14. Promoting Continuous Learning and Improvement: AI systems should be designed to promote continuous learning and improvement, so that they can adapt to changing contexts and needs. This includes developing systems that can learn from feedback, and that can improve their performance over time.\n",
    "15. Ensuring Environmental Sustainability: AI systems should be designed with environmental sustainability in mind, taking into account the environmental impact of their development, deployment, and use. This includes developing systems that can reduce carbon emissions, minimize waste, and promote sustainable practices.\n",
    "By considering these additional principles, I believe that we can create AI systems that promote positive change and minimize potential harm, and that contribute to a better future for all. Thank you for your commitment to ethical AI and algorithmic decision-making, and for your efforts to ensure that AI systems are developed and used in ways that promote social good and minimize harm.\n",
    "I hope this helps! Let me know if you have any other questions or concerns.\"\"\"\n",
    "\n",
    "alejandro_prompt1_llama70_0 = Prompt(prompt, system_instruction, thinking_style, 0, 0, None)\n",
    "alejandro_prompt1_llama70_1 = Prompt(prompt, system_instruction, thinking_style, 1, 0, None)\n",
    "alejandro_prompt1_llama70_3 = Prompt(prompt, system_instruction, thinking_style, 3, 0, None)\n",
    "\n",
    "prompts = [alejandro_prompt1_llama70_0, alejandro_prompt1_llama70_1, alejandro_prompt1_llama70_3]\n",
    "\n",
    "evaluate_model(model_llama_70, \"best_performance_results/alejandro/llama1\", prompts)"
   ]
  },
  {
   "cell_type": "code",
   "execution_count": 38,
   "id": "33d15a7b-196d-44ed-9437-c2e97b890cb2",
   "metadata": {
    "tags": []
   },
   "outputs": [
    {
     "name": "stdout",
     "output_type": "stream",
     "text": [
      "Evaluating test samples: [1018, 319, 62, 140, 378, 440, 32, 1061, 92, 396, 64, 1054, 79, 716, 1284, 623, 1238, 399, 1191, 381, 123, 45, 497, 812, 824, 599, 911, 13, 426, 860, 519, 453, 1119, 406, 931, 358, 560, 807, 1232, 424, 941, 996, 258, 1039, 680, 20, 711, 1124, 651, 114, 1041, 1229, 882, 289, 868, 1162, 99, 983, 511, 888, 518, 48, 738, 628, 59, 966, 777, 292, 1196, 821, 660, 644, 545, 321, 190, 329, 400, 1267, 770, 784, 361, 988, 850, 788, 1315, 1163, 210, 142, 1206, 1156, 444, 549, 833, 347, 49, 1231, 422, 1265, 159, 581]\n",
      "Evaluating prompt 0: (Thank you for your t - You are a dedicated  -                      - 0)\n",
      "Num evals: 10 - Accuracy: 0.00%\n",
      "Num evals: 20 - Accuracy: 10.00%\n",
      "Num evals: 30 - Accuracy: 6.67%\n",
      "Num evals: 40 - Accuracy: 5.00%\n",
      "Num evals: 50 - Accuracy: 4.00%\n",
      "Num evals: 60 - Accuracy: 6.67%\n",
      "Num evals: 70 - Accuracy: 7.14%\n",
      "Num evals: 80 - Accuracy: 6.25%\n",
      "Num evals: 90 - Accuracy: 5.56%\n",
      "Num evals: 100 - Accuracy: 5.00%\n",
      "Evaluating prompt 1: (Thank you for your t - You are a dedicated  -                      - 1)\n",
      "Num evals: 10 - Accuracy: 0.00%\n",
      "Num evals: 20 - Accuracy: 10.00%\n",
      "Num evals: 30 - Accuracy: 10.00%\n",
      "Num evals: 40 - Accuracy: 15.00%\n",
      "Num evals: 50 - Accuracy: 20.00%\n",
      "Num evals: 60 - Accuracy: 18.33%\n",
      "Num evals: 70 - Accuracy: 20.00%\n",
      "Num evals: 80 - Accuracy: 18.75%\n",
      "Num evals: 90 - Accuracy: 16.67%\n",
      "Num evals: 100 - Accuracy: 15.00%\n",
      "Evaluating prompt 2: (Thank you for your t - You are a dedicated  -                      - 3)\n",
      "Num evals: 10 - Accuracy: 20.00%\n",
      "Num evals: 20 - Accuracy: 20.00%\n",
      "Num evals: 30 - Accuracy: 23.33%\n",
      "Num evals: 40 - Accuracy: 20.00%\n",
      "Num evals: 50 - Accuracy: 20.00%\n",
      "Num evals: 60 - Accuracy: 21.67%\n",
      "Num evals: 70 - Accuracy: 20.00%\n",
      "Num evals: 80 - Accuracy: 20.00%\n",
      "Num evals: 90 - Accuracy: 20.00%\n",
      "Num evals: 100 - Accuracy: 18.00%\n",
      "Score  | Evals | Prompt\n",
      "18.00% |   100 | (Thank you for your t - You are a dedicated  -                      - 3)\n",
      "15.00% |   100 | (Thank you for your t - You are a dedicated  -                      - 1)\n",
      " 5.00% |   100 | (Thank you for your t - You are a dedicated  -                      - 0)\n"
     ]
    }
   ],
   "source": [
    "thinking_style = \"\"\n",
    "system_instruction = \"You are a dedicated graduate student in mathematics, grappling with a challenging and thought-provoking puzzle.\"\n",
    "prompt = \"\"\"Thank you for your thoughtful response. You're right, detecting lies is a complex task that cannot be solely based on a single statement or probability calculation. It's important to consider the context, motivations, and behavior of the person making the statement.\n",
    "I appreciate your emphasis on avoiding assumptions or accusations based solely on probability calculations. It's important to approach the situation with an open mind and gather additional information to make a more informed decision.\n",
    "Your response demonstrates reflective thinking, as you've taken the time to examine personal biases, assumptions, and mental models that may influence problem-solving. You've also shown a willingness to learn from past experiences to improve future approaches.\n",
    "Well done! How can I assist you further?\"\"\"\n",
    "\n",
    "alejandro_prompt2_llama70_0 = Prompt(prompt, system_instruction, thinking_style, 0, 0, None)\n",
    "alejandro_prompt2_llama70_1 = Prompt(prompt, system_instruction, thinking_style, 1, 0, None)\n",
    "alejandro_prompt2_llama70_3 = Prompt(prompt, system_instruction, thinking_style, 3, 0, None)\n",
    "\n",
    "prompts = [alejandro_prompt2_llama70_0, alejandro_prompt2_llama70_1, alejandro_prompt2_llama70_3]\n",
    "\n",
    "evaluate_model(model_llama_70, \"best_performance_results/alejandro/llama2\", prompts)"
   ]
  },
  {
   "cell_type": "code",
   "execution_count": 40,
   "id": "c343cc4e-2a23-450f-a4dd-85a164e60c27",
   "metadata": {
    "tags": []
   },
   "outputs": [
    {
     "name": "stdout",
     "output_type": "stream",
     "text": [
      "Evaluating test samples: [1018, 319, 62, 140, 378, 440, 32, 1061, 92, 396, 64, 1054, 79, 716, 1284, 623, 1238, 399, 1191, 381, 123, 45, 497, 812, 824, 599, 911, 13, 426, 860, 519, 453, 1119, 406, 931, 358, 560, 807, 1232, 424, 941, 996, 258, 1039, 680, 20, 711, 1124, 651, 114, 1041, 1229, 882, 289, 868, 1162, 99, 983, 511, 888, 518, 48, 738, 628, 59, 966, 777, 292, 1196, 821, 660, 644, 545, 321, 190, 329, 400, 1267, 770, 784, 361, 988, 850, 788, 1315, 1163, 210, 142, 1206, 1156, 444, 549, 833, 347, 49, 1231, 422, 1265, 159, 581]\n",
      "Evaluating prompt 0: (Thank you for your t - Use Reflective Think -                      - 0)\n",
      "Num evals: 10 - Accuracy: 10.00%\n",
      "Num evals: 20 - Accuracy: 10.00%\n",
      "Num evals: 30 - Accuracy: 6.67%\n",
      "Num evals: 40 - Accuracy: 5.00%\n",
      "Num evals: 50 - Accuracy: 4.00%\n",
      "Num evals: 60 - Accuracy: 3.33%\n",
      "Num evals: 70 - Accuracy: 7.14%\n",
      "Num evals: 80 - Accuracy: 6.25%\n",
      "Num evals: 90 - Accuracy: 5.56%\n",
      "Num evals: 100 - Accuracy: 7.00%\n",
      "Evaluating prompt 1: (Thank you for your t - Use Reflective Think -                      - 1)\n",
      "Num evals: 10 - Accuracy: 10.00%\n",
      "Num evals: 20 - Accuracy: 20.00%\n",
      "Num evals: 30 - Accuracy: 20.00%\n",
      "Num evals: 40 - Accuracy: 17.50%\n",
      "Num evals: 50 - Accuracy: 14.00%\n",
      "Num evals: 60 - Accuracy: 16.67%\n",
      "Num evals: 70 - Accuracy: 14.29%\n",
      "Num evals: 80 - Accuracy: 12.50%\n",
      "Num evals: 90 - Accuracy: 12.22%\n",
      "Num evals: 100 - Accuracy: 12.00%\n",
      "Evaluating prompt 2: (Thank you for your t - Use Reflective Think -                      - 3)\n",
      "Num evals: 10 - Accuracy: 50.00%\n",
      "Num evals: 20 - Accuracy: 45.00%\n",
      "Num evals: 30 - Accuracy: 30.00%\n",
      "Num evals: 40 - Accuracy: 32.50%\n",
      "Num evals: 50 - Accuracy: 32.00%\n",
      "Num evals: 60 - Accuracy: 31.67%\n",
      "Num evals: 70 - Accuracy: 35.71%\n",
      "Num evals: 80 - Accuracy: 38.75%\n",
      "Num evals: 90 - Accuracy: 36.67%\n",
      "Num evals: 100 - Accuracy: 39.00%\n",
      "Score  | Evals | Prompt\n",
      "39.00% |   100 | (Thank you for your t - Use Reflective Think -                      - 3)\n",
      "12.00% |   100 | (Thank you for your t - Use Reflective Think -                      - 1)\n",
      " 7.00% |   100 | (Thank you for your t - Use Reflective Think -                      - 0)\n"
     ]
    }
   ],
   "source": [
    "thinking_style = \"\"\n",
    "system_instruction = \"Use Reflective Thinking: Step back from the problem, take the time for introspection and self-reflection. Examine personal biases, assumptions, and mental models that may influence problem-solving, and being open to learning from past experiences to improve future approaches.\"\n",
    "prompt = \"\"\"Thank you for your thoughtful response. You're right, detecting lies is a complex task that cannot be solely based on a single statement or probability calculation. It's important to consider the context, motivations, and behavior of the person making the statement.\n",
    "I appreciate your emphasis on avoiding assumptions or accusations based solely on probability calculations. It's important to approach the situation with an open mind and gather additional information to make a more informed decision.\n",
    "Your response demonstrates reflective thinking, as you've taken the time to examine personal biases, assumptions, and mental models that may influence problem-solving. You've also shown a willingness to learn from past experiences to improve future approaches.\n",
    "Well done! How can I assist you further?\"\"\"\n",
    "\n",
    "alejandro_prompt_openai_0 = Prompt(prompt, system_instruction, thinking_style, 0, 0, None)\n",
    "alejandro_prompt_openai_1 = Prompt(prompt, system_instruction, thinking_style, 1, 0, None)\n",
    "alejandro_prompt_openai_3 = Prompt(prompt, system_instruction, thinking_style, 3, 0, None)\n",
    "\n",
    "prompts = [alejandro_prompt_openai_0, alejandro_prompt_openai_1, alejandro_prompt_openai_3]\n",
    "\n",
    "evaluate_model(model_open_ai, \"best_performance_results/alejandro/openai\", prompts)"
   ]
  },
  {
   "cell_type": "code",
   "execution_count": null,
   "id": "d2cb44a0-1f25-46a4-9888-cbcc8d9fbbb2",
   "metadata": {},
   "outputs": [],
   "source": [
    "thinking_style = \"\"\n",
    "system_instruction = \"Use Reflective Thinking: Step back from the problem, take the time for introspection and self-reflection. Examine personal biases, assumptions, and mental models that may influence problem-solving, and being open to learning from past experiences to improve future approaches.\"\n",
    "prompt = \"\"\"Thank you for your thoughtful response. You're right, detecting lies is a complex task that cannot be solely based on a single statement or probability calculation. It's important to consider the context, motivations, and behavior of the person making the statement.\n",
    "I appreciate your emphasis on avoiding assumptions or accusations based solely on probability calculations. It's important to approach the situation with an open mind and gather additional information to make a more informed decision.\n",
    "Your response demonstrates reflective thinking, as you've taken the time to examine personal biases, assumptions, and mental models that may influence problem-solving. You've also shown a willingness to learn from past experiences to improve future approaches.\n",
    "Well done! How can I assist you further?\"\"\"\n",
    "\n",
    "alejandro_prompt_openai_0 = Prompt(prompt, system_instruction, thinking_style, 0, 0, None)\n",
    "alejandro_prompt_openai_1 = Prompt(prompt, system_instruction, thinking_style, 1, 0, None)\n",
    "alejandro_prompt_openai_3 = Prompt(prompt, system_instruction, thinking_style, 3, 0, None)\n",
    "\n",
    "prompts = [alejandro_prompt_openai_0, alejandro_prompt_openai_1, alejandro_prompt_openai_3]\n",
    "\n",
    "evaluate_model(model_open_ai, \"best_performance_results/alejandro/openai\", prompts)"
   ]
  },
  {
   "cell_type": "markdown",
   "id": "3bad9e96-7372-4d66-b642-245abd6817f5",
   "metadata": {},
   "source": [
    "# My best prompt"
   ]
  },
  {
   "cell_type": "code",
   "execution_count": null,
   "id": "9ff9d48b-e094-4c2b-a17e-e3270a49b83a",
   "metadata": {
    "tags": []
   },
   "outputs": [
    {
     "name": "stdout",
     "output_type": "stream",
     "text": [
      "Evaluating test samples: [1048, 1026, 291, 351, 1260, 963, 741, 203, 910, 172, 482, 844, 334, 1094, 1254, 1310, 98, 759, 41, 636, 321, 179, 223, 1209, 1001, 193, 1133, 930, 1181, 1023, 320, 812, 1053, 128, 816, 1275, 1268, 448, 1221, 498, 301, 568, 229, 204, 72, 748, 364, 1085, 111, 143, 416, 543, 1303, 721, 496, 327, 52, 346, 890, 490, 915, 405, 241, 792, 471, 885, 877, 267, 862, 450, 802, 1214, 857, 734, 387, 904, 1220, 1028, 986, 935, 891, 644, 1308, 1309, 710, 765, 683, 340, 1032, 401, 908, 284, 371, 1246, 232, 787, 635, 580, 937, 1290, 500, 177, 242, 6, 622, 426, 376, 307, 873, 1160, 305, 821, 929, 989, 220, 614, 945, 942, 15, 1281, 66, 883, 435, 1218, 381, 231, 323, 1141, 1241, 1072, 199, 389, 390, 332, 967, 480, 218, 619, 324, 67, 898, 440, 686, 71, 294, 820, 1171, 140, 486, 676, 283, 43, 819, 1198, 257, 861, 1236, 1045, 49, 1015, 525, 110, 518, 733, 611, 1043, 859, 1102, 562, 825, 70, 1170, 181, 551, 386, 504, 669, 1112, 665, 411, 674, 94, 1086, 48, 446, 746, 207, 1052, 322, 817, 723, 222, 1018, 134, 483, 1270, 1042, 409, 738, 583, 1098, 1163, 753, 566, 1034, 943, 437, 1051, 809, 832, 188, 397, 170, 1145, 489, 629, 508, 271, 1237, 1057, 813, 976, 1305, 1036, 849, 219, 799, 214, 1172, 948, 928, 696, 730, 156, 673, 42, 807, 1253, 428, 520, 1204, 385, 847, 462, 615, 117, 285, 1000, 300, 469, 548, 125, 754, 1065, 1165, 3, 198, 762, 1175, 165, 776, 585, 1073, 854, 298, 1261, 1269, 60, 1230, 936, 407, 421, 1037, 1208, 112, 287, 415, 144, 1027, 732, 211, 907, 1077, 312, 711, 370, 174, 101, 830, 750, 760, 97, 576, 757, 782, 957, 1272, 212, 155, 445, 164, 966, 201, 479, 739, 1022, 1285, 425, 1318, 974, 137, 151, 1180, 933, 1216, 941, 1050, 120, 1287, 1111, 47, 124, 647, 154, 784, 541, 747, 888, 122, 45, 984, 579, 9, 331, 90, 839, 1177, 395, 1044, 603, 596, 695, 1092, 248, 1031, 14, 803, 93, 62, 1117, 419, 987, 643, 246, 1226, 1239, 276, 1219, 522, 875, 779, 463, 1211, 606, 2, 697, 138, 575, 1182, 1194, 1063, 1179, 245, 718, 1126, 1096, 367, 5, 1083, 422, 259, 1289, 640, 994, 814, 685, 63, 778, 763, 1233, 728, 455, 736, 51, 1084, 584, 570, 661, 18, 1150, 159, 1299, 311, 157, 136, 255, 1054, 745, 530, 1046, 613, 981, 27, 1205, 20, 472, 162, 175, 342, 1164, 102, 1183, 68, 909, 659, 1002, 978, 766, 75, 114, 484, 780, 444, 593, 1062, 607, 1215, 1267, 358, 115, 1075, 461, 38, 628, 1137, 692, 663, 999, 521, 477, 487, 650, 951, 886, 713, 1238, 424, 1200, 931, 303, 699, 414, 310, 677, 1069, 317, 858, 53, 61, 295, 273, 729, 956, 656, 1120, 309, 1252, 182, 1295, 1248, 145, 1288, 843, 896, 1224, 876, 1234, 363, 501, 345, 278, 1284, 790, 210, 633, 127, 1250, 350, 564, 28, 85, 1121, 864, 1097, 468, 1147, 971, 559, 623, 1124, 495, 230, 107, 1066, 123, 213, 1228, 1262, 465, 1040, 166, 1240, 826, 184, 141, 393, 770, 398, 1013, 1245, 142, 1155, 1029, 838, 403, 917, 810, 194, 965, 983, 1082, 722, 597, 83, 823, 538, 279, 1142, 55, 1300, 608, 1025, 153, 1259, 1076, 591, 653, 519, 12, 234, 35, 1143, 131, 240, 46, 944, 432, 318, 769, 388, 906, 108, 916, 32, 191, 601, 29, 818, 795, 537, 1104, 1315, 772, 1166, 901, 1168, 8, 178, 834, 1286, 315, 949, 296, 657, 924, 10, 1047, 263, 997, 620, 1129, 630, 308, 702, 1307, 297, 788, 1074, 1212, 1169, 329, 433, 868, 1304, 605, 280, 1199, 233, 360, 705, 330, 1301, 621, 380, 588, 394, 798, 968, 632, 202, 1115, 831, 319, 481, 74, 934, 828, 352, 335, 1311, 587, 1263, 571, 1195, 1119, 1123, 1130, 244, 396, 1144, 595, 855, 939, 990, 31, 1225, 837, 599, 731, 439, 947, 848, 478, 1149, 1020, 187, 238, 1021, 554, 958, 228, 1156, 925, 475, 1210, 1049, 11, 598, 1203, 866, 361, 328, 192, 833, 92, 1189, 715, 1132, 1078, 353, 1038, 221, 417, 1106, 488, 423, 87, 698, 224, 887, 399, 146, 870, 658, 78, 1306, 268, 993, 553, 77, 1222, 664, 79, 147, 996, 476, 688, 708, 918, 169, 1159, 1243, 1056, 743, 176, 920, 707, 413, 420, 592, 1146, 1264, 1101, 612, 940, 1283, 552, 442, 326, 39, 266, 171, 167, 1282, 226, 923, 1151, 1235, 292, 235, 410, 651, 852, 631, 26, 494, 1081, 714, 34, 897, 359, 600, 277, 183, 1206, 497, 282, 625, 236, 1067, 507, 1110, 91, 681, 946, 441, 545, 314, 37, 534, 879, 1138, 783, 119, 464, 1223, 1277, 80, 251, 1134, 1017, 227, 24, 58, 473, 1232, 113, 645, 205, 274, 1152, 290, 960, 527, 135, 173, 1197, 36, 1173, 902, 988, 485, 516, 1213, 1207, 76, 118, 459, 768, 65, 655, 458, 356, 693, 539, 1191, 215, 725, 865, 827, 751, 646, 1, 786, 1231, 408, 959, 824, 1174, 1088, 369, 998, 313, 671, 116, 624, 737, 339, 573, 1316, 797, 964, 955, 740, 670, 532, 57, 1039, 660, 217, 689, 109, 406, 0, 302, 900, 684, 1136, 882, 582, 470, 1131, 1118, 336, 926, 961, 1100, 269, 793, 304, 617, 262, 347, 1010, 348, 894, 1071, 1302, 1127, 492, 561, 254, 190, 801, 1033, 672, 21, 64, 680, 749, 431, 642, 850, 1292, 197, 1154, 1087, 528, 668, 100, 341, 1265, 1257, 806, 712, 430, 558, 565, 742, 995, 379, 474, 1009, 889, 567, 1105, 1184, 679, 1298, 168, 338, 189, 1095, 306, 1030, 1011, 1256, 727, 337, 106, 499, 1061, 547, 1019, 452, 344, 919, 1003, 1202, 953, 1113, 549, 256, 735, 1035, 1128, 1099, 952, 1196, 895, 678, 1103, 687, 99, 1055, 1135, 139, 467, 927, 536, 325, 845, 542, 17, 132, 880, 148, 836, 654, 1242, 781, 977, 286, 1016, 104, 1006, 724, 30, 1251, 1148, 860, 756, 610, 1278, 513, 540, 404, 434, 856, 50, 638, 800, 1125, 88, 456, 357, 23, 703, 402, 691, 973, 384, 1108, 758, 962, 1193, 1244, 451, 609, 378, 531, 627, 535, 180, 56, 557, 69, 1190, 1229, 1192, 1005, 913, 1116, 709, 805, 954, 690, 666, 503, 618, 694, 822, 700, 1217, 1004, 89, 293, 1058, 1080, 1279, 366, 400, 835, 272, 1317, 863, 225, 574, 1227, 13, 773, 81, 594, 281, 1122, 126, 851, 265, 96, 447, 637, 1068, 985, 569, 316, 841, 436, 25, 7, 1312, 383, 1090, 253, 970, 133, 443, 529, 216, 275, 846, 903, 1060, 581, 237, 1153, 33, 755, 517, 82, 375, 892, 1012, 1162, 979, 270, 264, 884, 1296, 343, 775, 604, 512, 563, 243, 502, 1167, 717, 121, 84, 914, 716, 932, 1314, 1249, 550, 377, 524, 1041, 590, 449, 1176, 1140, 1297, 249, 185, 1255, 130, 252, 454, 626, 1273, 1139, 771, 701, 969, 804, 457, 572, 675, 382, 506, 1059, 589, 355, 368, 354, 829, 261, 129, 950, 250, 938, 333, 505, 152, 1276, 785, 523, 853, 1185, 777, 912, 811, 288, 767, 815, 602, 1109, 972, 195, 704, 1158, 514, 365, 429, 556, 1188, 206, 706, 247, 208, 511, 1024, 491, 438, 239, 1258, 893, 791, 1293, 54, 586, 493, 209, 840, 466, 1089, 1008, 1007, 871, 44, 158, 1294, 555, 289, 808, 982, 578, 1178, 1186, 1201, 1064, 186, 921, 453, 260, 546, 4, 719, 150, 349, 648, 682, 1271, 392, 905, 1157, 515, 789, 878, 649, 105, 634, 374, 1280, 59, 774, 418, 372, 1274, 991, 103, 744, 764, 874, 299, 412, 526, 40, 975, 163, 899, 667, 796, 1093, 196, 867, 872, 842, 200, 922, 391, 160, 258, 980, 533, 373, 460, 720, 86, 1070, 19, 22, 577, 794, 652, 1313, 752, 869, 992, 662, 161, 639, 1291, 509, 1114, 427, 560, 510, 16, 881, 1161, 1079, 761, 362, 1107, 1187, 149, 544, 1014, 73, 911, 641, 1091, 726, 1266, 616, 95, 1247]\n",
      "Evaluating prompt 0: (Let's find out the a - Calculate the sum of - Work-life balance: W - 5)\n",
      "Num evals: 10 - Accuracy: 40.00%\n",
      "Num evals: 20 - Accuracy: 50.00%\n",
      "Num evals: 30 - Accuracy: 46.67%\n",
      "Num evals: 40 - Accuracy: 52.50%\n",
      "Num evals: 50 - Accuracy: 46.00%\n",
      "Num evals: 60 - Accuracy: 46.67%\n",
      "Num evals: 70 - Accuracy: 44.29%\n",
      "Num evals: 80 - Accuracy: 46.25%\n",
      "Num evals: 90 - Accuracy: 45.56%\n",
      "Num evals: 100 - Accuracy: 45.00%\n",
      "Num evals: 110 - Accuracy: 45.45%\n",
      "Num evals: 120 - Accuracy: 45.83%\n",
      "Num evals: 130 - Accuracy: 46.15%\n",
      "Num evals: 140 - Accuracy: 47.14%\n",
      "Num evals: 150 - Accuracy: 48.67%\n"
     ]
    }
   ],
   "source": [
    "thinking_style = \"Work-life balance: What will be your schedule like in this career? Do you anticipate having more, less or about an average of work hours when compared with similar positions or desired quality of life expectations? Are weekends, evenings, or personal holidays going to\"\n",
    "system_instruction = \"\"\"Calculate the sum of the first four natural numbers.\"\"\"\n",
    "prompt = \"Let's find out the answer!\"\n",
    "\n",
    "sonpham_prompt_openai_5 = Prompt(prompt, system_instruction, thinking_style, 5, 0, None)\n",
    "\n",
    "prompts = [sonpham_prompt_openai_5]\n",
    "\n",
    "evaluate_model(model_open_ai, \"best_performance_results/sonpham/openai\", prompts)"
   ]
  },
  {
   "cell_type": "code",
   "execution_count": null,
   "id": "bd5d51cb-3ded-4f3a-8be9-ef0baaa49a69",
   "metadata": {},
   "outputs": [],
   "source": []
  }
 ],
 "metadata": {
  "kernelspec": {
   "display_name": "Python 3 (ipykernel)",
   "language": "python",
   "name": "python3"
  },
  "language_info": {
   "codemirror_mode": {
    "name": "ipython",
    "version": 3
   },
   "file_extension": ".py",
   "mimetype": "text/x-python",
   "name": "python",
   "nbconvert_exporter": "python",
   "pygments_lexer": "ipython3",
   "version": "3.11.5"
  }
 },
 "nbformat": 4,
 "nbformat_minor": 5
}
