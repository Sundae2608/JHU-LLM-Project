{
 "cells": [
  {
   "cell_type": "code",
   "execution_count": 1,
   "id": "fb757ba1-c02d-4e55-83b1-a3dae40daa42",
   "metadata": {
    "tags": []
   },
   "outputs": [],
   "source": [
    "%load_ext autoreload\n",
    "%autoreload 2\n",
    "from constants import *\n",
    "from evaluator import *\n",
    "from model import *\n",
    "from mutator import *\n",
    "from prompt import *\n",
    "from task import *\n",
    "\n",
    "import warnings\n",
    "warnings.filterwarnings(\"ignore\")"
   ]
  },
  {
   "cell_type": "code",
   "execution_count": 2,
   "id": "39226e28-1c1b-42c5-b189-9229336caf75",
   "metadata": {
    "tags": []
   },
   "outputs": [],
   "source": [
    "import re\n",
    "\n",
    "def extract_last_numeric_value(input_string):\n",
    "    # Regular expression pattern to extract all numeric values with periods and ignoring commas\n",
    "    pattern = r'[\\d,.]+'\n",
    "\n",
    "    # Find all matches using re.finditer()\n",
    "    matches = re.finditer(pattern, input_string)\n",
    "\n",
    "    # Initialize a variable to store the last numeric value\n",
    "    last_numeric_value = None\n",
    "\n",
    "    # Iterate through the matches and update the last_numeric_value\n",
    "    for match in matches:\n",
    "        numeric_value = match.group()\n",
    "        # Remove commas if needed\n",
    "        numeric_value = numeric_value.replace(\",\", \"\")\n",
    "        last_numeric_value = numeric_value\n",
    "\n",
    "    return last_numeric_value"
   ]
  },
  {
   "cell_type": "code",
   "execution_count": 3,
   "id": "0dfc5475-2466-450f-993c-ef50ba0b99e5",
   "metadata": {
    "tags": []
   },
   "outputs": [],
   "source": [
    "def evaluate_func(orig, pred):\n",
    "    orig_value = extract_last_numeric_value(orig)\n",
    "    pred_value = extract_last_numeric_value(pred)\n",
    "    try:\n",
    "        return abs(float(orig_value) - float(pred_value)) < 1e-6\n",
    "    except:\n",
    "        return False"
   ]
  },
  {
   "cell_type": "code",
   "execution_count": 4,
   "id": "0abf7e77-2f67-44d3-82ef-a0d5dc4d78e3",
   "metadata": {
    "tags": []
   },
   "outputs": [
    {
     "data": {
      "application/vnd.jupyter.widget-view+json": {
       "model_id": "102ee6a447bc43a2871fee6b677369f3",
       "version_major": 2,
       "version_minor": 0
      },
      "text/plain": [
       "Fetching 1 files:   0%|          | 0/1 [00:00<?, ?it/s]"
      ]
     },
     "metadata": {},
     "output_type": "display_data"
    },
    {
     "data": {
      "application/vnd.jupyter.widget-view+json": {
       "model_id": "f3c28fdb12714271824586e2e92bfcb3",
       "version_major": 2,
       "version_minor": 0
      },
      "text/plain": [
       "Fetching 1 files:   0%|          | 0/1 [00:00<?, ?it/s]"
      ]
     },
     "metadata": {},
     "output_type": "display_data"
    }
   ],
   "source": [
    "from datasets import load_dataset\n",
    "\n",
    "# mutation_model = Model(provider=\"huggingface\", model_name=\"mistralai/Mistral-7B-Instruct-v0.1\")\n",
    "mutation_model = Model(provider=\"quantized_llama\", model_name=\"TheBloke/Mistral-7B-OpenOrca-GGUF\", model_file=\"mistral-7b-openorca.Q4_K_M.gguf\", model_type=\"mistral\")\n",
    "evaluation_model = mutation_model"
   ]
  },
  {
   "cell_type": "code",
   "execution_count": 5,
   "id": "abd6d8e2-e6d7-4937-b5e3-eb2e9fae3c2a",
   "metadata": {
    "tags": []
   },
   "outputs": [],
   "source": [
    "system_instruction = \"\"\n",
    "thinking_style = \"\"\n",
    "task = Task(load_dataset('gsm8k', 'main'),\n",
    "            'Solve the math word problem, giving your answer as an arabic numeral.',\n",
    "            evaluate_func)\n",
    "initial_prompt = Prompt(task.initial_prompt, system_instruction, thinking_style, None)"
   ]
  },
  {
   "cell_type": "code",
   "execution_count": null,
   "id": "05152113-f11b-47a5-b7e9-0707195adc53",
   "metadata": {
    "tags": []
   },
   "outputs": [],
   "source": [
    "task.test()"
   ]
  },
  {
   "cell_type": "code",
   "execution_count": null,
   "id": "f8cbdab4-a42a-4e20-b421-295176b800e4",
   "metadata": {
    "tags": []
   },
   "outputs": [
    {
     "name": "stdout",
     "output_type": "stream",
     "text": [
      "Evaluating test samples: [142, 387, 966, 699, 386, 1104, 1005, 743, 135, 1134, 625, 1258, 595, 1113, 619, 707, 106, 37, 13, 526, 652, 859, 1086, 1029, 740, 89, 1222, 785, 1274, 591, 54, 902, 79, 368, 885, 325, 769, 274, 50, 767, 83, 90, 872, 548, 1108, 774, 585, 738, 1107, 806, 435, 722, 264, 412, 1282, 673, 916, 1238, 691, 44, 644, 967, 1136, 369, 1036, 174, 976, 681, 1035, 539, 731, 449, 24, 965, 998, 290, 1112, 570, 517, 1052, 372, 1294, 10, 1250, 1091, 244, 974, 575, 721, 446, 203, 876, 223, 1137, 17, 912, 124, 755, 821, 314, 40, 1153, 1261, 723, 52, 925, 139, 1195, 905, 1061, 981, 262, 1109, 599, 750, 1050, 618, 711, 1290, 943, 265, 640, 18, 94, 332, 809, 228, 787, 1023, 331, 663, 163, 1289, 1127, 348, 258, 179, 1193, 949, 823, 665, 122, 1285, 857, 542, 534, 184, 1116, 173, 12, 441, 384, 573, 445, 176, 613, 1303, 1288, 467, 726, 20, 1191, 354, 280, 260, 910, 659, 729, 822, 969, 938, 1198, 759, 727, 396, 1277, 406, 922, 930, 134, 775, 920, 927, 9, 1006, 506, 411, 1098, 175, 1296, 242, 172, 225, 889, 189, 890, 114, 169, 1126, 1025, 415, 1028, 197, 836, 985, 185, 1124, 418, 1047, 519, 968, 504, 1111, 64, 860, 1255, 298, 648, 662, 208, 355, 155, 402, 276, 1162, 450, 57, 1159, 852, 608, 268, 563, 71, 300, 129, 116, 810, 424, 1265, 1125, 310, 715, 530, 491, 566, 1248, 1065, 165, 439, 1278, 97, 627, 388, 305, 127, 1245, 948, 36, 826, 983, 196, 1257, 177, 1165, 489, 1055, 49, 112, 1268, 140, 1058, 882, 933, 1176, 366, 1034, 693, 1018, 667, 529, 600, 692, 359, 858, 758, 432, 661, 1252, 945, 192, 979, 30, 452, 669, 1152, 447, 1131, 248, 830, 982, 256, 363, 544, 856, 1070, 1235, 951, 611, 493, 1156, 1218, 1178, 1312, 1092, 78, 152, 1170, 8, 818, 1138, 42, 953, 410, 2, 1075, 549, 252, 0, 1089, 1271, 1084, 6, 1247, 194, 1315, 458, 888, 883, 216, 936, 1097, 676, 32, 1297, 1246, 1316, 307, 664, 115, 988, 1210, 214, 935, 1232, 744, 47, 690, 41, 1078, 559, 1079, 950, 834, 29, 897, 477, 657, 23, 782, 67, 317, 436, 762, 55, 1008, 1085, 96, 308, 679, 612, 263, 1229, 751, 706, 1279, 330, 460, 1256, 137, 443, 632, 433, 642, 748, 481, 555, 343, 533, 352, 202, 128, 604, 92, 675, 324, 724, 508, 1068, 815, 528, 714, 302, 497, 851, 594, 946, 1216, 899, 210, 590, 778, 980, 238, 1129, 1168, 166, 1042, 1204, 1060, 630, 1179, 62, 914, 398, 1135, 230, 492, 198, 918, 277, 704, 650, 944, 553, 395, 72, 601, 463, 649, 674, 655, 849, 804, 205, 688, 757, 995, 451, 367, 68, 199, 1128, 636, 1185, 1226, 1192, 901, 776, 598, 1298, 510, 272, 200, 658, 143, 401, 749, 434, 1241, 474, 284, 781, 952, 313, 344, 1260, 756, 1164, 926, 1123, 1119, 535, 61, 973, 1196, 686, 772, 190, 1046, 1187, 895, 732, 1175, 269, 639, 853, 1090, 345, 522, 465, 1190, 741, 480, 1219, 962, 1239, 1015, 656, 405, 417, 1284, 28, 136, 502, 694, 63, 1269, 919, 1095, 728, 364, 204, 531, 14, 1066, 1102, 1172, 873, 209, 870, 93, 144, 917, 1063, 475, 409, 518, 540, 568, 689, 148, 624, 768, 963, 267, 814, 593, 580, 1117, 866, 753, 867, 1064, 1121, 881, 500, 770, 532, 1114, 108, 281, 328, 609, 1021, 468, 1180, 487, 38, 1155, 170, 1041, 206, 293, 1166, 151, 442, 911, 1132, 958, 846, 428, 1186, 921, 1208, 101, 1082, 638, 832, 7, 1251, 1056, 1081, 710, 1225, 765, 1146, 11, 629, 552, 425, 1243, 961, 524, 224, 942, 319, 46, 537, 833, 845, 121, 939, 392, 1211, 709, 990, 247, 213, 1157, 550, 19, 886, 126, 1281, 790, 291, 578, 100, 1057, 102, 964, 1194, 478, 1227, 960, 579, 1202, 791, 1189, 1242, 218, 850, 991, 666, 1266, 893, 610, 1267, 80, 1077, 186, 623, 1228, 700, 499, 494, 906, 730, 1087, 875, 954, 321, 103, 1099, 164, 1044, 1213, 1010, 720, 27, 1309, 301, 1254, 970, 682, 501, 956, 1184, 507, 399, 712, 382, 1096, 162, 878, 645, 561, 521, 426, 150, 65, 360, 76, 997, 25, 672, 125, 717, 358, 588, 527, 219, 99, 1032, 844, 243, 255, 1221, 764, 1001, 564, 212, 574, 557, 389, 536, 1045, 1069, 1071, 1215, 464, 1287, 160, 646, 131, 249, 515, 891, 615, 565, 1144, 1197, 633, 3, 342, 279, 1067, 1051, 1142, 1214, 1054, 747, 571, 869, 488, 816, 1022, 957, 780, 760, 111, 1299, 1074, 735, 569, 829, 1038, 1100, 865, 483, 1105, 462, 1033, 752, 1270, 1149, 766, 934, 283, 1161, 1048, 626, 85, 1002, 45, 670, 1272, 370, 21, 792, 874, 193, 994, 261, 374, 339, 1307, 1310, 1026, 1295, 473, 923, 1017, 811, 146, 558, 737, 495, 215, 333, 201, 329, 839, 1160, 286, 824, 353, 378, 677, 999, 390, 509, 1040, 828, 660, 825, 1275, 554, 955, 831, 296, 797, 1234, 273, 95, 431, 653, 864, 35, 4, 892, 73, 1140, 668, 178, 1236, 972, 118, 697, 456, 145, 928, 420, 592, 270, 394, 783, 513, 476, 60, 376, 182, 786, 1200, 1062, 896, 703, 379, 847, 1000, 133, 304, 1094, 631, 800, 523, 469, 1203, 871, 647, 843, 1253, 414, 59, 1286, 380, 1106, 1305, 336, 932, 1311, 1283, 924, 1110, 577, 880, 520, 736, 105, 581, 229, 109, 70, 684, 350, 1205, 596, 725, 1024, 1012, 1230, 996, 430, 734, 616, 26, 848, 683, 254, 448, 1212, 147, 438, 130, 138, 793, 43, 1150, 470, 231, 1259, 1173, 1318, 1083, 733, 232, 1039, 241, 357, 1207, 31, 1141, 789, 371, 794, 696, 1237, 1301, 461, 292, 195, 271, 1009, 303, 977, 745, 289, 51, 837, 1072, 903, 58, 240, 1224, 713, 855, 1011, 671, 512, 251, 471, 81, 1209, 1263, 82, 490, 603, 315, 514, 22, 583, 98, 545, 779, 546, 1244, 1076, 351, 161, 1103, 288, 110, 705, 69, 227, 842, 862, 1220, 1183, 827, 16, 718, 978, 427, 784, 119, 637, 1264, 429, 1019, 1181, 375, 992, 282, 654, 340, 1027, 801, 373, 641, 622, 913, 167, 1300, 1030, 335, 299, 1291, 361, 1199, 861, 761, 805, 685, 572, 1080, 87, 947, 798, 188, 915, 341, 1073, 33, 1217, 486, 88, 802, 1292, 799, 1313, 602, 739, 587, 365, 154, 34, 226, 541, 819, 250, 391, 840, 634, 1003, 975, 1151, 813, 904, 771, 444, 472, 1171, 1037, 547, 538, 621, 838, 419, 1014, 628, 1148, 556, 820, 211, 868, 937, 1302, 1223, 746, 742, 466, 187, 86, 1147, 437, 1004, 586, 560, 1262, 239, 971, 989, 907, 180, 1273, 1188, 841, 168, 278, 716, 1143, 327, 1154, 687, 763, 153, 294, 606, 1043, 620, 1280, 1088, 66, 207, 485, 312, 404, 754, 796, 1139, 812, 680, 701, 235, 117, 1133, 496, 141, 1304, 1, 511, 220, 459, 237, 854, 77, 695, 266, 326, 323, 1020, 877, 1314, 505, 795, 253, 788, 454, 183, 702, 297, 484, 1130, 157, 275, 295, 929, 159, 894, 803, 940, 1233, 346, 1174, 708, 879, 257, 698, 1206, 1118, 338, 1317, 1308, 1167, 1293, 413, 1093, 440, 347, 74, 607, 457, 551, 381, 617, 582, 1053, 377, 482, 383, 959, 887, 75, 525, 719, 171, 773, 1249, 900, 516, 285, 316, 941, 1306, 422, 993, 1007, 104, 597, 349, 1201, 605, 222, 1049, 576, 5, 455, 416, 362, 309, 986, 817, 400, 356, 898, 909, 158, 259, 306, 807, 987, 1231, 234, 156, 777, 15, 1145, 233, 1169, 808, 149, 1101, 567, 322, 107, 453, 53, 835, 1177, 56, 1158, 403, 643, 635, 1059, 1120, 337, 246, 120, 91, 863, 884, 503, 1276, 245, 908, 39, 221, 584, 113, 191, 1122, 311, 614, 479, 84, 931, 132, 287, 123, 1031, 1240, 318, 320, 589, 397, 678, 408, 1182, 498, 393, 407, 984, 1013, 48, 1115, 1163, 385, 423, 236, 334, 181, 217, 543, 1016, 562, 421, 651]\n",
      "Evaluating prompt 0: Solve the math word problem, giving your answer as an arabic numeral.\n",
      "Num evals: 1 - Accuracy: 0.00%\n",
      "Num evals: 11 - Accuracy: 9.09%\n",
      "Num evals: 21 - Accuracy: 9.52%\n",
      "Num evals: 31 - Accuracy: 9.68%\n",
      "Num evals: 41 - Accuracy: 9.76%\n",
      "Num evals: 51 - Accuracy: 11.76%\n",
      "Num evals: 61 - Accuracy: 11.48%\n",
      "Num evals: 71 - Accuracy: 9.86%\n",
      "Num evals: 81 - Accuracy: 9.88%\n",
      "Num evals: 91 - Accuracy: 9.89%\n",
      "Num evals: 101 - Accuracy: 10.89%\n",
      "Num evals: 111 - Accuracy: 10.81%\n",
      "Num evals: 121 - Accuracy: 9.92%\n",
      "Num evals: 131 - Accuracy: 9.92%\n",
      "Num evals: 141 - Accuracy: 9.22%\n",
      "Num evals: 151 - Accuracy: 8.61%\n",
      "Num evals: 161 - Accuracy: 8.07%\n",
      "Num evals: 171 - Accuracy: 8.77%\n",
      "Num evals: 181 - Accuracy: 9.39%\n",
      "Num evals: 191 - Accuracy: 9.42%\n",
      "Num evals: 201 - Accuracy: 9.45%\n",
      "Num evals: 211 - Accuracy: 9.00%\n",
      "Num evals: 221 - Accuracy: 8.60%\n",
      "Num evals: 231 - Accuracy: 8.23%\n",
      "Num evals: 241 - Accuracy: 7.88%\n",
      "Num evals: 251 - Accuracy: 7.57%\n",
      "Num evals: 261 - Accuracy: 7.66%\n",
      "Num evals: 271 - Accuracy: 7.38%\n",
      "Num evals: 281 - Accuracy: 7.12%\n",
      "Num evals: 291 - Accuracy: 7.22%\n",
      "Num evals: 301 - Accuracy: 7.31%\n",
      "Num evals: 311 - Accuracy: 7.40%\n",
      "Num evals: 321 - Accuracy: 7.17%\n",
      "Num evals: 331 - Accuracy: 7.25%\n",
      "Num evals: 341 - Accuracy: 7.04%\n",
      "Num evals: 351 - Accuracy: 7.41%\n",
      "Num evals: 361 - Accuracy: 7.20%\n"
     ]
    }
   ],
   "source": [
    "evaluator = Evaluator()\n",
    "all_pop = [initial_prompt]\n",
    "scores = evaluator.evaluate(evaluation_model, task, \"one\", all_pop, len(task.test()))\n",
    "\n",
    "# Print prompt and their score\n",
    "prompt_scores = [(all_pop[i].get_accuracy(), all_pop[i]) for i in range(len(all_pop))]\n",
    "prompt_scores = sorted(prompt_scores, key=lambda x: x[0], reverse=True)\n",
    "print(\"Score  | Evals | Prompt\")\n",
    "for _, prompt in prompt_scores:\n",
    "    print(f\"{prompt.get_accuracy() * 100:5.2f}% | {prompt.get_num_evals():5d} | {prompt}\")\n",
    "\n",
    "# Survival of the fittest\n",
    "# TODO: Create a more elaborate selection mechanism that keeps some weaker member\n",
    "pop = [prompt_scores[i][1] for i in range(NUM_POPULATION)]\n",
    "\n",
    "# Record time\n",
    "end_time = time.time()\n",
    "execution_time = end_time - start_time\n",
    "print(\"Execution time: {:.2f} seconds\".format(execution_time))"
   ]
  },
  {
   "cell_type": "code",
   "execution_count": null,
   "id": "a2bbd58b-c745-4360-add2-4792890dcf2b",
   "metadata": {},
   "outputs": [],
   "source": []
  }
 ],
 "metadata": {
  "kernelspec": {
   "display_name": "Python 3 (ipykernel)",
   "language": "python",
   "name": "python3"
  },
  "language_info": {
   "codemirror_mode": {
    "name": "ipython",
    "version": 3
   },
   "file_extension": ".py",
   "mimetype": "text/x-python",
   "name": "python",
   "nbconvert_exporter": "python",
   "pygments_lexer": "ipython3",
   "version": "3.11.5"
  }
 },
 "nbformat": 4,
 "nbformat_minor": 5
}
