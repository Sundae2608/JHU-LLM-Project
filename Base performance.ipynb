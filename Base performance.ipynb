{
 "cells": [
  {
   "cell_type": "code",
   "execution_count": 1,
   "id": "fb757ba1-c02d-4e55-83b1-a3dae40daa42",
   "metadata": {
    "tags": []
   },
   "outputs": [],
   "source": [
    "%load_ext autoreload\n",
    "%autoreload 2\n",
    "from constants import *\n",
    "from evaluator import *\n",
    "from model import *\n",
    "from mutator import *\n",
    "from prompt import *\n",
    "from task import *\n",
    "\n",
    "import warnings\n",
    "warnings.filterwarnings(\"ignore\")"
   ]
  },
  {
   "cell_type": "code",
   "execution_count": 2,
   "id": "39226e28-1c1b-42c5-b189-9229336caf75",
   "metadata": {
    "tags": []
   },
   "outputs": [],
   "source": [
    "import re\n",
    "\n",
    "def extract_last_numeric_value(input_string):\n",
    "    # Regular expression pattern to extract all numeric values with periods and ignoring commas\n",
    "    pattern = r'[\\d,.]+'\n",
    "\n",
    "    # Find all matches using re.finditer()\n",
    "    matches = re.finditer(pattern, input_string)\n",
    "\n",
    "    # Initialize a variable to store the last numeric value\n",
    "    last_numeric_value = None\n",
    "\n",
    "    # Iterate through the matches and update the last_numeric_value\n",
    "    for match in matches:\n",
    "        numeric_value = match.group()\n",
    "        # Remove commas if needed\n",
    "        numeric_value = numeric_value.replace(\",\", \"\")\n",
    "        last_numeric_value = numeric_value\n",
    "\n",
    "    return last_numeric_value"
   ]
  },
  {
   "cell_type": "code",
   "execution_count": 3,
   "id": "0dfc5475-2466-450f-993c-ef50ba0b99e5",
   "metadata": {
    "tags": []
   },
   "outputs": [],
   "source": [
    "def evaluate_func(orig, pred):\n",
    "    orig_value = extract_last_numeric_value(orig)\n",
    "    pred_value = extract_last_numeric_value(pred)\n",
    "    try:\n",
    "        return abs(float(orig_value) - float(pred_value)) < 1e-6\n",
    "    except:\n",
    "        return False"
   ]
  },
  {
   "cell_type": "code",
   "execution_count": 4,
   "id": "0abf7e77-2f67-44d3-82ef-a0d5dc4d78e3",
   "metadata": {
    "tags": []
   },
   "outputs": [
    {
     "data": {
      "application/vnd.jupyter.widget-view+json": {
       "model_id": "63f8a8e5e9c44151b77a100b405d89c1",
       "version_major": 2,
       "version_minor": 0
      },
      "text/plain": [
       "Fetching 1 files:   0%|          | 0/1 [00:00<?, ?it/s]"
      ]
     },
     "metadata": {},
     "output_type": "display_data"
    },
    {
     "data": {
      "application/vnd.jupyter.widget-view+json": {
       "model_id": "cbdb3999357e4927be1ff908153c0d40",
       "version_major": 2,
       "version_minor": 0
      },
      "text/plain": [
       "Fetching 1 files:   0%|          | 0/1 [00:00<?, ?it/s]"
      ]
     },
     "metadata": {},
     "output_type": "display_data"
    }
   ],
   "source": [
    "from datasets import load_dataset\n",
    "\n",
    "# mutation_model = Model(provider=\"huggingface\", model_name=\"mistralai/Mistral-7B-Instruct-v0.1\")\n",
    "mutation_model = Model(provider=\"quantized_llama\", model_name=\"TheBloke/Mistral-7B-OpenOrca-GGUF\", model_file=\"mistral-7b-openorca.Q4_K_M.gguf\", model_type=\"mistral\")\n",
    "evaluation_model = mutation_model"
   ]
  },
  {
   "cell_type": "code",
   "execution_count": 5,
   "id": "abd6d8e2-e6d7-4937-b5e3-eb2e9fae3c2a",
   "metadata": {
    "tags": []
   },
   "outputs": [],
   "source": [
    "system_instruction = \"\"\n",
    "thinking_style = \"\"\n",
    "task = Task(load_dataset('gsm8k', 'main'),\n",
    "            'Solve the math word problem, giving your answer as an arabic numeral.',\n",
    "            evaluate_func)\n",
    "initial_prompt = Prompt(task.initial_prompt, system_instruction, thinking_style, None)"
   ]
  },
  {
   "cell_type": "code",
   "execution_count": 6,
   "id": "05152113-f11b-47a5-b7e9-0707195adc53",
   "metadata": {
    "tags": []
   },
   "outputs": [
    {
     "data": {
      "text/plain": [
       "Dataset({\n",
       "    features: ['question', 'answer'],\n",
       "    num_rows: 1319\n",
       "})"
      ]
     },
     "execution_count": 6,
     "metadata": {},
     "output_type": "execute_result"
    }
   ],
   "source": [
    "task.test()"
   ]
  },
  {
   "cell_type": "code",
   "execution_count": null,
   "id": "f8cbdab4-a42a-4e20-b421-295176b800e4",
   "metadata": {
    "tags": []
   },
   "outputs": [
    {
     "name": "stdout",
     "output_type": "stream",
     "text": [
      "Evaluating test samples: [537, 658, 630, 1242, 927, 1001, 917, 280, 302, 476, 269, 104, 1182, 506, 574, 161, 1093, 1036, 26, 1233, 496, 1011, 366, 880, 1223, 1305, 508, 890, 1015, 697, 88, 1200, 510, 585, 62, 824, 109, 1092, 263, 282, 274, 1136, 716, 381, 324, 918, 409, 1309, 1039, 742, 544, 1003, 855, 724, 1229, 826, 349, 446, 203, 339, 994, 870, 1152, 522, 1288, 55, 1038, 597, 59, 1109, 1155, 19, 983, 941, 536, 1173, 125, 398, 1141, 1232, 578, 395, 313, 812, 134, 94, 886, 156, 111, 707, 1076, 1208, 1075, 143, 893, 520, 889, 881, 1284, 1116, 238, 1002, 241, 769, 1165, 166, 504, 215, 713, 461, 1197, 1135, 1158, 364, 691, 1040, 348, 1150, 861, 296, 986, 689, 160, 694, 250, 525, 612, 1168, 539, 376, 494, 1026, 844, 464, 1035, 1072, 968, 717, 218, 347, 455, 157, 518, 458, 764, 725, 833, 590, 484, 312, 860, 1196, 645, 28, 332, 859, 98, 1180, 427, 1139, 1059, 761, 1273, 699, 32, 825, 907, 767, 1004, 320, 516, 44, 204, 710, 445, 671, 1227, 571, 679, 674, 198, 921, 781, 448, 829, 459, 617, 666, 834, 1119, 239, 1043, 573, 442, 483, 911, 528, 565, 492, 1143, 419, 183, 501, 677, 231, 52, 1022, 42, 1314, 637, 297, 259, 206, 787, 541, 1268, 1255, 379, 507, 785, 1279, 680, 695, 569, 9, 152, 323, 567, 1104, 813, 580, 722, 1088, 621, 335, 832, 981, 938, 650, 647, 776, 989, 503, 1306, 355, 676, 1110, 92, 1122, 462, 466, 216, 933, 830, 924, 283, 271, 568, 210, 145, 397, 21, 1137, 515, 384, 526, 1156, 527, 1009, 945, 149, 733, 1236, 131, 992, 29, 879, 553, 1286, 1062, 985, 902, 652, 935, 1217, 853, 270, 48, 51, 465, 228, 404, 1239, 226, 173, 1078, 696, 87, 102, 1046, 579, 622, 708, 735, 213, 1278, 1262, 610, 1095, 552, 185, 997, 1071, 343, 63, 174, 202, 234, 1214, 1034, 962, 875, 1091, 262, 1275, 1170, 478, 1317, 1098, 1085, 1270, 148, 242, 277, 872, 955, 53, 287, 1258, 822, 739, 1211, 993, 984, 468, 278, 896, 310, 182, 602, 570, 27, 980, 1070, 12, 1115, 784, 1295, 970, 654, 1274, 796, 648, 687, 413, 440, 1084, 705, 177, 61, 1097, 196, 1249, 325, 303, 591, 474, 350, 15, 752, 947, 430, 378, 360, 321, 557, 755, 354, 1293, 124, 891, 40, 576, 229, 533, 715, 1053, 661, 646, 34, 934, 575, 232, 1296, 1260, 247, 1253, 840, 308, 837, 288, 1087, 511, 720, 1280, 596, 1069, 950, 256, 1028, 275, 831, 426, 406, 531, 642, 561, 1090, 640, 1206, 740, 342, 751, 775, 1285, 168, 367, 251, 438, 434, 682, 1191, 867, 260, 805, 1237, 338, 490, 20, 254, 290, 123, 272, 731, 1287, 488, 1018, 424, 187, 487, 1222, 73, 1300, 678, 953, 428, 167, 1148, 625, 1301, 1089, 227, 240, 451, 1231, 797, 1189, 991, 547, 978, 727, 1017, 345, 369, 1171, 1289, 877, 1166, 5, 359, 10, 443, 1316, 115, 170, 548, 603, 392, 909, 417, 626, 738, 361, 1073, 1240, 1045, 663, 1030, 1033, 45, 841, 862, 497, 538, 1259, 1037, 329, 362, 306, 371, 988, 644, 802, 959, 253, 1199, 1008, 1060, 235, 942, 1209, 604, 820, 439, 95, 1107, 1164, 517, 976, 854, 998, 828, 808, 327, 305, 418, 237, 928, 799, 1181, 1125, 212, 1105, 1121, 638, 509, 549, 1005, 217, 416, 1193, 248, 559, 1283, 175, 754, 144, 791, 389, 912, 106, 956, 137, 295, 122, 473, 1029, 944, 1174, 925, 1147, 952, 463, 16, 700, 1167, 498, 616, 265, 719, 873, 703, 763, 670, 96, 292, 334, 1230, 790, 220, 340, 588, 1049, 1195, 120, 47, 1184, 1102, 90, 1128, 387, 884, 601, 76, 587, 491, 566, 975, 852, 979, 1282, 233, 412, 1100, 372, 1082, 1183, 1114, 773, 1052, 286, 281, 1269, 817, 14, 1281, 613, 684, 519, 1318, 777, 1068, 1271, 990, 560, 904, 995, 926, 815, 1277, 252, 470, 322, 1187, 1140, 435, 1111, 772, 1142, 162, 532, 974, 1006, 415, 1083, 188, 1297, 307, 770, 1054, 99, 878, 31, 1178, 266, 243, 230, 987, 154, 293, 897, 100, 1302, 209, 471, 141, 839, 1, 294, 967, 420, 814, 939, 748, 818, 390, 1118, 245, 969, 130, 599, 1094, 126, 932, 93, 411, 823, 301, 1256, 1228, 1101, 41, 165, 940, 225, 1185, 709, 639, 737, 1027, 1067, 540, 636, 746, 1265, 69, 1010, 1021, 901, 1290, 1226, 888, 795, 581, 284, 331, 214, 915, 393, 172, 1188, 1154, 743, 1246, 77, 78, 22, 758, 447, 299, 563, 961, 1266, 155, 843, 690, 333, 1225, 1063, 81, 1159, 2, 747, 562, 789, 23, 377, 1303, 195, 556, 1247, 433, 353, 807, 224, 972, 136, 394, 316, 887, 82, 1276, 101, 711, 363, 659, 804, 13, 606, 1248, 714, 908, 595, 482, 1169, 375, 65, 765, 194, 405, 1130, 598, 285, 1129, 546, 1212, 816, 809, 669, 71, 489, 365, 730, 481, 1261, 401, 0, 836, 151, 1131, 1241, 257, 1145, 1144, 330, 793, 30, 894, 132, 57, 1250, 675, 1177, 916, 58, 1238, 1315, 84, 572, 1251, 1264, 903, 452, 1042, 85, 1310, 147, 423, 164, 999, 400, 380, 222, 159, 291, 396, 1051, 472, 255, 178, 374, 750, 33, 190, 117, 454, 774, 1157, 857, 913, 545, 500, 318, 749, 530, 1134, 920, 611, 279, 864, 475, 66, 49, 267, 1127, 1254, 760, 1163, 958, 628, 513, 922, 346, 83, 450, 698, 1313, 444, 431, 467, 35, 370, 1032, 605, 432, 619, 899, 11, 315, 408, 38, 118, 171, 779, 1186, 783, 788, 1176, 1243, 686, 351, 1175, 1153, 858, 1151, 757, 768, 653, 635, 357, 1000, 328, 600, 67, 140, 399, 800, 863, 502, 845, 620, 1020, 960, 1113, 127, 1103, 1219, 72, 651, 883, 898, 632, 866, 304, 184, 624, 414, 105, 436, 1019, 469, 662, 554, 1044, 514, 39, 314, 847, 1194, 207, 1234, 885, 718, 1291, 811, 753, 273, 534, 607, 1132, 112, 46, 1207, 192, 842, 729, 244, 1149, 683, 1252, 441, 838, 486, 946, 971, 79, 179, 821, 276, 558, 1133, 258, 1123, 977, 996, 383, 1058, 421, 17, 664, 1272, 1138, 223, 657, 138, 146, 948, 113, 1235, 629, 219, 221, 882, 108, 1257, 564, 116, 1081, 618, 368, 641, 582, 1146, 1050, 892, 24, 493, 153, 521, 403, 107, 1061, 723, 68, 1079, 317, 54, 505, 1202, 429, 745, 704, 205, 732, 780, 786, 778, 734, 336, 341, 1016, 827, 1106, 615, 89, 1263, 1162, 480, 633, 176, 86, 1064, 550, 91, 1160, 1065, 479, 1014, 930, 6, 631, 200, 1120, 1201, 856, 1292, 736, 422, 919, 36, 726, 407, 848, 402, 1245, 189, 874, 499, 289, 1224, 792, 128, 1294, 1024, 457, 391, 180, 535, 1031, 702, 208, 583, 1192, 1112, 803, 1204, 1203, 437, 851, 268, 1267, 25, 425, 356, 186, 929, 608, 643, 1023, 1205, 943, 163, 50, 1086, 181, 865, 963, 523, 139, 114, 75, 449, 551, 1218, 193, 211, 577, 794, 555, 1221, 665, 80, 1216, 660, 169, 1096, 60, 771, 982, 4, 1056, 524, 949, 623, 906, 3, 905, 460, 261, 766, 373, 849, 199, 1013, 382, 798, 634, 1311, 1066, 386, 819, 923, 1007, 1099, 693, 673, 1055, 319, 542, 56, 964, 352, 721, 681, 158, 586, 1172, 1304, 311, 236, 485, 142, 512, 1215, 1210, 810, 191, 609, 656, 358, 868, 685, 43, 835, 584, 1161, 477, 326, 64, 150, 298, 7, 957, 121, 762, 529, 1244, 1179, 895, 1198, 668, 37, 672, 594, 264, 129, 246, 592, 103, 1074, 593, 410, 1117, 1048, 937, 756, 759, 453, 782, 966, 495, 1124, 70, 701, 1213, 135, 1190, 18, 589, 806, 869, 744, 965, 1308, 900, 706, 728, 1080, 614, 936, 1041, 741, 1220, 119, 385, 337, 249, 914, 951, 97, 456, 309, 1047, 931, 543, 300, 871, 712, 133, 688, 201, 1307, 388, 850, 8, 1077, 910, 649, 1312, 667, 1108, 74, 973, 1126, 1298, 801, 627, 876, 846, 1025, 655, 197, 1012, 1057, 692, 1299, 110, 954, 344]\n",
      "Evaluating prompt 0: Solve the math word problem, giving your answer as an arabic numeral.\n",
      "Num evals: 1 - Accuracy: 0.00%\n",
      "Num evals: 11 - Accuracy: 0.00%\n",
      "Num evals: 21 - Accuracy: 9.52%\n",
      "Num evals: 31 - Accuracy: 6.45%\n",
      "Num evals: 41 - Accuracy: 7.32%\n",
      "Num evals: 51 - Accuracy: 5.88%\n",
      "Num evals: 61 - Accuracy: 6.56%\n",
      "Num evals: 71 - Accuracy: 7.04%\n",
      "Num evals: 81 - Accuracy: 8.64%\n",
      "Num evals: 91 - Accuracy: 9.89%\n",
      "Num evals: 101 - Accuracy: 8.91%\n",
      "Num evals: 111 - Accuracy: 9.91%\n",
      "Num evals: 121 - Accuracy: 9.09%\n",
      "Num evals: 131 - Accuracy: 9.16%\n",
      "Num evals: 141 - Accuracy: 11.35%\n",
      "Num evals: 151 - Accuracy: 10.60%\n",
      "Num evals: 161 - Accuracy: 10.56%\n",
      "Num evals: 171 - Accuracy: 10.53%\n",
      "Num evals: 181 - Accuracy: 10.50%\n",
      "Num evals: 191 - Accuracy: 11.52%\n",
      "Num evals: 201 - Accuracy: 10.95%\n",
      "Num evals: 211 - Accuracy: 10.90%\n",
      "Num evals: 221 - Accuracy: 10.41%\n",
      "Num evals: 231 - Accuracy: 9.96%\n",
      "Num evals: 241 - Accuracy: 10.37%\n",
      "Num evals: 251 - Accuracy: 9.96%\n",
      "Num evals: 261 - Accuracy: 9.96%\n",
      "Num evals: 271 - Accuracy: 9.59%\n",
      "Num evals: 281 - Accuracy: 9.61%\n",
      "Num evals: 291 - Accuracy: 9.28%\n",
      "Num evals: 301 - Accuracy: 8.97%\n",
      "Num evals: 311 - Accuracy: 9.00%\n",
      "Num evals: 321 - Accuracy: 8.72%\n",
      "Num evals: 331 - Accuracy: 8.76%\n",
      "Num evals: 341 - Accuracy: 9.09%\n",
      "Num evals: 351 - Accuracy: 8.83%\n",
      "Num evals: 361 - Accuracy: 8.86%\n",
      "Num evals: 371 - Accuracy: 8.63%\n",
      "Num evals: 381 - Accuracy: 8.40%\n",
      "Num evals: 391 - Accuracy: 8.44%\n",
      "Num evals: 401 - Accuracy: 8.23%\n",
      "Num evals: 411 - Accuracy: 8.27%\n",
      "Num evals: 421 - Accuracy: 8.31%\n",
      "Num evals: 431 - Accuracy: 8.35%\n",
      "Num evals: 441 - Accuracy: 8.62%\n",
      "Num evals: 451 - Accuracy: 8.43%\n",
      "Num evals: 461 - Accuracy: 8.46%\n",
      "Num evals: 471 - Accuracy: 8.49%\n",
      "Num evals: 481 - Accuracy: 8.32%\n",
      "Num evals: 491 - Accuracy: 8.35%\n",
      "Num evals: 501 - Accuracy: 8.18%\n",
      "Num evals: 511 - Accuracy: 8.22%\n",
      "Num evals: 521 - Accuracy: 8.25%\n",
      "Num evals: 531 - Accuracy: 8.29%\n",
      "Num evals: 541 - Accuracy: 8.32%\n",
      "Num evals: 551 - Accuracy: 8.35%\n"
     ]
    }
   ],
   "source": [
    "evaluator = Evaluator()\n",
    "all_pop = [initial_prompt]\n",
    "scores = evaluator.evaluate(evaluation_model, task, \"one\", all_pop, len(task.test()))\n",
    "\n",
    "# Print prompt and their score\n",
    "prompt_scores = [(all_pop[i].get_accuracy(), all_pop[i]) for i in range(len(all_pop))]\n",
    "prompt_scores = sorted(prompt_scores, key=lambda x: x[0], reverse=True)\n",
    "print(\"Score  | Evals | Prompt\")\n",
    "for _, prompt in prompt_scores:\n",
    "    print(f\"{prompt.get_accuracy() * 100:5.2f}% | {prompt.get_num_evals():5d} | {prompt}\")\n",
    "\n",
    "# Survival of the fittest\n",
    "# TODO: Create a more elaborate selection mechanism that keeps some weaker member\n",
    "pop = [prompt_scores[i][1] for i in range(NUM_POPULATION)]\n",
    "\n",
    "# Record time\n",
    "end_time = time.time()\n",
    "execution_time = end_time - start_time\n",
    "print(\"Execution time: {:.2f} seconds\".format(execution_time))"
   ]
  },
  {
   "cell_type": "code",
   "execution_count": null,
   "id": "a2bbd58b-c745-4360-add2-4792890dcf2b",
   "metadata": {},
   "outputs": [],
   "source": []
  }
 ],
 "metadata": {
  "kernelspec": {
   "display_name": "Python 3 (ipykernel)",
   "language": "python",
   "name": "python3"
  },
  "language_info": {
   "codemirror_mode": {
    "name": "ipython",
    "version": 3
   },
   "file_extension": ".py",
   "mimetype": "text/x-python",
   "name": "python",
   "nbconvert_exporter": "python",
   "pygments_lexer": "ipython3",
   "version": "3.11.5"
  }
 },
 "nbformat": 4,
 "nbformat_minor": 5
}
