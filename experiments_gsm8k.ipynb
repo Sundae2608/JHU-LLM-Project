{
 "cells": [
  {
   "cell_type": "code",
   "execution_count": 1,
   "metadata": {},
   "outputs": [],
   "source": [
    "from src.llm import LLM\n",
    "from src.genetic_algorithm import GeneticAlgorithm\n",
    "from src.experiment_conditions import Experiment_conditions\n",
    "from src.dataset import Dataset\n",
    "from src.utils import load_prompts"
   ]
  },
  {
   "cell_type": "markdown",
   "metadata": {},
   "source": [
    "## GSM8K Prompts"
   ]
  },
  {
   "cell_type": "code",
   "execution_count": 2,
   "metadata": {},
   "outputs": [],
   "source": [
    "sys_prompts = load_prompts('gsm8k_prompts/system_prompts.txt')\n",
    "\n",
    "instructions = load_prompts('gsm8k_prompts/instructions.txt')\n",
    "\n",
    "mutations = load_prompts('gsm8k_prompts/system_prompts.txt')"
   ]
  },
  {
   "cell_type": "markdown",
   "metadata": {},
   "source": [
    "## Experiment 1\n",
    "\n",
    "- LLM: gpt-3.5-turbo\n",
    "- Individual per generation: 10\n",
    "- Generations: 10\n",
    "- Maximum number of examples per prompt: 4"
   ]
  },
  {
   "cell_type": "code",
   "execution_count": 3,
   "metadata": {},
   "outputs": [
    {
     "name": "stderr",
     "output_type": "stream",
     "text": [
      "Found cached dataset gsm8k (/home/dap/.cache/huggingface/datasets/gsm8k/main/1.1.0/37bfb08b1d4fcbb01f06b03d9e1ef5f1fcbd4d3af3d08842c50d7305091285ba)\n"
     ]
    },
    {
     "data": {
      "application/vnd.jupyter.widget-view+json": {
       "model_id": "06e13d69ba9d4c65916532b5efa79ed5",
       "version_major": 2,
       "version_minor": 0
      },
      "text/plain": [
       "  0%|          | 0/2 [00:00<?, ?it/s]"
      ]
     },
     "metadata": {},
     "output_type": "display_data"
    }
   ],
   "source": [
    "dataset = Dataset(name='gsm8k')\n",
    "\n",
    "llm = LLM(provider='huggingface', model='falcon-7b-instruct')\n",
    "\n",
    "individuals_per_gen = 10\n",
    "\n",
    "generations = 10\n",
    "\n",
    "max_num_examples = 4\n",
    "\n",
    "experiment_conditions = Experiment_conditions(dataset, mutations, sys_prompts, instructions, llm, max_num_examples)\n",
    "\n",
    "genetic_algo = GeneticAlgorithm(experiment_conditions, individuals_per_gen, generations)\n",
    "\n",
    "genetic_algo.init_population()"
   ]
  },
  {
   "cell_type": "code",
   "execution_count": 4,
   "metadata": {},
   "outputs": [
    {
     "name": "stdout",
     "output_type": "stream",
     "text": [
      "Generation: 0\n",
      "\n",
      "Calculating fitness: 70.0%\r"
     ]
    }
   ],
   "source": [
    "genetic_algo.run_algorithm()"
   ]
  },
  {
   "cell_type": "code",
   "execution_count": null,
   "metadata": {},
   "outputs": [],
   "source": [
    "genetic_algo.save_experiment()"
   ]
  },
  {
   "cell_type": "code",
   "execution_count": null,
   "metadata": {},
   "outputs": [],
   "source": [
    "##\n",
    "genetic_algo.fitness_per_gen"
   ]
  },
  {
   "cell_type": "code",
   "execution_count": null,
   "metadata": {},
   "outputs": [],
   "source": []
  }
 ],
 "metadata": {
  "kernelspec": {
   "display_name": "Python 3",
   "language": "python",
   "name": "python3"
  },
  "language_info": {
   "codemirror_mode": {
    "name": "ipython",
    "version": 3
   },
   "file_extension": ".py",
   "mimetype": "text/x-python",
   "name": "python",
   "nbconvert_exporter": "python",
   "pygments_lexer": "ipython3",
   "version": "3.10.12"
  }
 },
 "nbformat": 4,
 "nbformat_minor": 2
}
