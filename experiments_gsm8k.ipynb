{
 "cells": [
  {
   "cell_type": "code",
   "execution_count": null,
   "metadata": {},
   "outputs": [],
   "source": [
    "from src.llm import LLM\n",
    "from src.genetic_algorithm import GeneticAlgorithm\n",
    "from src.experiment_conditions import Experiment_conditions\n",
    "from src.dataset import Dataset\n",
    "from src.utils import load_prompts"
   ]
  },
  {
   "cell_type": "markdown",
   "metadata": {},
   "source": [
    "## GSM8K Prompts"
   ]
  },
  {
   "cell_type": "code",
   "execution_count": null,
   "metadata": {},
   "outputs": [],
   "source": [
    "sys_prompts = load_prompts('gsm8k_prompts/system_prompts.txt')\n",
    "\n",
    "instructions = load_prompts('gsm8k_prompts/instructions.txt')\n",
    "\n",
    "mutations = load_prompts('gsm8k_prompts/system_prompts.txt')"
   ]
  },
  {
   "cell_type": "markdown",
   "metadata": {},
   "source": [
    "## Experiment 1\n",
    "\n",
    "- LLM: gpt-3.5-turbo\n",
    "- Individual per generation:\n",
    "- Generations: \n",
    "- Maximum number of examples per prompt: "
   ]
  },
  {
   "cell_type": "code",
   "execution_count": null,
   "metadata": {},
   "outputs": [],
   "source": [
    "dataset = Dataset(name='gsm8k')\n",
    "\n",
    "llm = LLM(provider='openai', model='gpt-3.5-turbo', api_key='key!')\n",
    "\n",
    "individuals_per_gen = 4\n",
    "\n",
    "generations = 2\n",
    "\n",
    "max_num_examples = 4\n",
    "\n",
    "experiment_conditions = Experiment_conditions(dataset, mutations, sys_prompts, instructions, llm, max_num_examples)\n",
    "\n",
    "genetic_algo = GeneticAlgorithm(experiment_conditions, individuals_per_gen, generations)\n",
    "\n",
    "genetic_algo.init_population()"
   ]
  },
  {
   "cell_type": "code",
   "execution_count": null,
   "metadata": {},
   "outputs": [],
   "source": [
    "genetic_algo.run_algorithm()"
   ]
  },
  {
   "cell_type": "code",
   "execution_count": null,
   "metadata": {},
   "outputs": [],
   "source": [
    "genetic_algo.save_experiment()"
   ]
  },
  {
   "cell_type": "code",
   "execution_count": null,
   "metadata": {},
   "outputs": [],
   "source": []
  }
 ],
 "metadata": {
  "kernelspec": {
   "display_name": "Python 3",
   "language": "python",
   "name": "python3"
  },
  "language_info": {
   "codemirror_mode": {
    "name": "ipython",
    "version": 3
   },
   "file_extension": ".py",
   "mimetype": "text/x-python",
   "name": "python",
   "nbconvert_exporter": "python",
   "pygments_lexer": "ipython3",
   "version": "3.10.12"
  }
 },
 "nbformat": 4,
 "nbformat_minor": 2
}
